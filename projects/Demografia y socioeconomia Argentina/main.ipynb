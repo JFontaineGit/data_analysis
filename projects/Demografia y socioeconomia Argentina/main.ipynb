{
 "cells": [
  {
   "cell_type": "markdown",
   "metadata": {},
   "source": [
    "# Comprensión de los indicadores socioeconómicos y demográficos de Argentina"
   ]
  },
  {
   "cell_type": "markdown",
   "metadata": {},
   "source": [
    "##### Importamos librerias"
   ]
  },
  {
   "cell_type": "code",
   "execution_count": 77,
   "metadata": {},
   "outputs": [],
   "source": [
    "from zipfile import ZipFile\n",
    "import pandas as pd\n",
    "import plotly.express as px\n",
    "import plotly.graph_objects as go\n",
    "import matplotlib.pyplot as plt\n",
    "import seaborn as sns\n",
    "import numpy as np"
   ]
  },
  {
   "cell_type": "code",
   "execution_count": 78,
   "metadata": {},
   "outputs": [],
   "source": [
    "zip_e = ZipFile('P_Data_Extract_From_World_Development_Indicators.zip')"
   ]
  },
  {
   "cell_type": "code",
   "execution_count": 79,
   "metadata": {},
   "outputs": [],
   "source": [
    "df_data = pd.read_csv(zip_e.open('data.csv'))"
   ]
  },
  {
   "cell_type": "code",
   "execution_count": 80,
   "metadata": {},
   "outputs": [
    {
     "name": "stdout",
     "output_type": "stream",
     "text": [
      "<class 'pandas.core.frame.DataFrame'>\n",
      "RangeIndex: 19 entries, 0 to 18\n",
      "Data columns (total 29 columns):\n",
      " #   Column         Non-Null Count  Dtype  \n",
      "---  ------         --------------  -----  \n",
      " 0   Country Name   16 non-null     object \n",
      " 1   Country Code   14 non-null     object \n",
      " 2   Series Name    14 non-null     object \n",
      " 3   Series Code    14 non-null     object \n",
      " 4   1999 [YR1999]  14 non-null     object \n",
      " 5   2000 [YR2000]  14 non-null     object \n",
      " 6   2001 [YR2001]  14 non-null     object \n",
      " 7   2002 [YR2002]  14 non-null     object \n",
      " 8   2003 [YR2003]  14 non-null     object \n",
      " 9   2004 [YR2004]  14 non-null     object \n",
      " 10  2005 [YR2005]  14 non-null     object \n",
      " 11  2006 [YR2006]  14 non-null     object \n",
      " 12  2007 [YR2007]  14 non-null     object \n",
      " 13  2008 [YR2008]  14 non-null     object \n",
      " 14  2009 [YR2009]  14 non-null     object \n",
      " 15  2010 [YR2010]  14 non-null     object \n",
      " 16  2011 [YR2011]  14 non-null     object \n",
      " 17  2012 [YR2012]  14 non-null     object \n",
      " 18  2013 [YR2013]  14 non-null     object \n",
      " 19  2014 [YR2014]  14 non-null     object \n",
      " 20  2015 [YR2015]  14 non-null     object \n",
      " 21  2016 [YR2016]  14 non-null     object \n",
      " 22  2017 [YR2017]  14 non-null     float64\n",
      " 23  2018 [YR2018]  14 non-null     float64\n",
      " 24  2019 [YR2019]  14 non-null     float64\n",
      " 25  2020 [YR2020]  14 non-null     float64\n",
      " 26  2021 [YR2021]  14 non-null     float64\n",
      " 27  2022 [YR2022]  14 non-null     float64\n",
      " 28  2023 [YR2023]  14 non-null     object \n",
      "dtypes: float64(6), object(23)\n",
      "memory usage: 4.4+ KB\n"
     ]
    }
   ],
   "source": [
    "df_data.info()"
   ]
  },
  {
   "cell_type": "code",
   "execution_count": 81,
   "metadata": {},
   "outputs": [
    {
     "data": {
      "text/html": [
       "<div>\n",
       "<style scoped>\n",
       "    .dataframe tbody tr th:only-of-type {\n",
       "        vertical-align: middle;\n",
       "    }\n",
       "\n",
       "    .dataframe tbody tr th {\n",
       "        vertical-align: top;\n",
       "    }\n",
       "\n",
       "    .dataframe thead th {\n",
       "        text-align: right;\n",
       "    }\n",
       "</style>\n",
       "<table border=\"1\" class=\"dataframe\">\n",
       "  <thead>\n",
       "    <tr style=\"text-align: right;\">\n",
       "      <th></th>\n",
       "      <th>Country Name</th>\n",
       "      <th>Country Code</th>\n",
       "      <th>Series Name</th>\n",
       "      <th>Series Code</th>\n",
       "      <th>1999 [YR1999]</th>\n",
       "      <th>2000 [YR2000]</th>\n",
       "      <th>2001 [YR2001]</th>\n",
       "      <th>2002 [YR2002]</th>\n",
       "      <th>2003 [YR2003]</th>\n",
       "      <th>2004 [YR2004]</th>\n",
       "      <th>...</th>\n",
       "      <th>2014 [YR2014]</th>\n",
       "      <th>2015 [YR2015]</th>\n",
       "      <th>2016 [YR2016]</th>\n",
       "      <th>2017 [YR2017]</th>\n",
       "      <th>2018 [YR2018]</th>\n",
       "      <th>2019 [YR2019]</th>\n",
       "      <th>2020 [YR2020]</th>\n",
       "      <th>2021 [YR2021]</th>\n",
       "      <th>2022 [YR2022]</th>\n",
       "      <th>2023 [YR2023]</th>\n",
       "    </tr>\n",
       "  </thead>\n",
       "  <tbody>\n",
       "    <tr>\n",
       "      <th>0</th>\n",
       "      <td>Argentina</td>\n",
       "      <td>ARG</td>\n",
       "      <td>GDP (current US$)</td>\n",
       "      <td>NY.GDP.MKTP.CD</td>\n",
       "      <td>283523000000</td>\n",
       "      <td>284203750000</td>\n",
       "      <td>268696750000</td>\n",
       "      <td>97724004251.8602</td>\n",
       "      <td>127586973492.177</td>\n",
       "      <td>164657930452.787</td>\n",
       "      <td>...</td>\n",
       "      <td>526319673731.638</td>\n",
       "      <td>594749285413.212</td>\n",
       "      <td>557532320662.955</td>\n",
       "      <td>6.436284e+11</td>\n",
       "      <td>5.248199e+11</td>\n",
       "      <td>4.477547e+11</td>\n",
       "      <td>3.857405e+11</td>\n",
       "      <td>4.865641e+11</td>\n",
       "      <td>6.327901e+11</td>\n",
       "      <td>646075277525.125</td>\n",
       "    </tr>\n",
       "    <tr>\n",
       "      <th>1</th>\n",
       "      <td>Argentina</td>\n",
       "      <td>ARG</td>\n",
       "      <td>GDP growth (annual %)</td>\n",
       "      <td>NY.GDP.MKTP.KD.ZG</td>\n",
       "      <td>-3.38545704063269</td>\n",
       "      <td>-0.78899893905691</td>\n",
       "      <td>-4.40883968258557</td>\n",
       "      <td>-10.8944848285903</td>\n",
       "      <td>8.83704079576924</td>\n",
       "      <td>9.02957330068152</td>\n",
       "      <td>...</td>\n",
       "      <td>-2.51261532081394</td>\n",
       "      <td>2.73115982828944</td>\n",
       "      <td>-2.08032784377811</td>\n",
       "      <td>2.818503e+00</td>\n",
       "      <td>-2.617396e+00</td>\n",
       "      <td>-2.000861e+00</td>\n",
       "      <td>-9.900485e+00</td>\n",
       "      <td>1.044181e+01</td>\n",
       "      <td>5.269880e+00</td>\n",
       "      <td>-1.61100162090189</td>\n",
       "    </tr>\n",
       "    <tr>\n",
       "      <th>2</th>\n",
       "      <td>Argentina</td>\n",
       "      <td>ARG</td>\n",
       "      <td>GDP per capita (current US$)</td>\n",
       "      <td>NY.GDP.PCAP.CD</td>\n",
       "      <td>7705.54288252851</td>\n",
       "      <td>7637.01489203628</td>\n",
       "      <td>7141.47507662826</td>\n",
       "      <td>2569.69963519124</td>\n",
       "      <td>3320.47775133903</td>\n",
       "      <td>4242.02099089422</td>\n",
       "      <td>...</td>\n",
       "      <td>12233.1444119186</td>\n",
       "      <td>13679.6264980954</td>\n",
       "      <td>12699.9623137756</td>\n",
       "      <td>1.453250e+04</td>\n",
       "      <td>1.175280e+04</td>\n",
       "      <td>9.955975e+03</td>\n",
       "      <td>8.535599e+03</td>\n",
       "      <td>1.073802e+04</td>\n",
       "      <td>1.393568e+04</td>\n",
       "      <td>14187.4827252965</td>\n",
       "    </tr>\n",
       "    <tr>\n",
       "      <th>3</th>\n",
       "      <td>Argentina</td>\n",
       "      <td>ARG</td>\n",
       "      <td>GDP per capita, PPP (current international $)</td>\n",
       "      <td>NY.GDP.PCAP.PP.CD</td>\n",
       "      <td>11463.853308121</td>\n",
       "      <td>11499.9828002698</td>\n",
       "      <td>11117.754923304</td>\n",
       "      <td>9953.46492878861</td>\n",
       "      <td>10933.3925490662</td>\n",
       "      <td>12117.6797424618</td>\n",
       "      <td>...</td>\n",
       "      <td>19487.4181748868</td>\n",
       "      <td>19899.1499275245</td>\n",
       "      <td>20105.761359796</td>\n",
       "      <td>2.338507e+04</td>\n",
       "      <td>2.441039e+04</td>\n",
       "      <td>2.351683e+04</td>\n",
       "      <td>2.239335e+04</td>\n",
       "      <td>2.630027e+04</td>\n",
       "      <td>2.959769e+04</td>\n",
       "      <td>30082.3045247323</td>\n",
       "    </tr>\n",
       "    <tr>\n",
       "      <th>4</th>\n",
       "      <td>Argentina</td>\n",
       "      <td>ARG</td>\n",
       "      <td>Population, total</td>\n",
       "      <td>SP.POP.TOTL</td>\n",
       "      <td>36794682</td>\n",
       "      <td>37213984</td>\n",
       "      <td>37624825</td>\n",
       "      <td>38029349</td>\n",
       "      <td>38424282</td>\n",
       "      <td>38815916</td>\n",
       "      <td>...</td>\n",
       "      <td>43024071</td>\n",
       "      <td>43477012</td>\n",
       "      <td>43900313</td>\n",
       "      <td>4.428889e+07</td>\n",
       "      <td>4.465488e+07</td>\n",
       "      <td>4.497346e+07</td>\n",
       "      <td>4.519196e+07</td>\n",
       "      <td>4.531228e+07</td>\n",
       "      <td>4.540790e+07</td>\n",
       "      <td>45538401</td>\n",
       "    </tr>\n",
       "    <tr>\n",
       "      <th>5</th>\n",
       "      <td>Argentina</td>\n",
       "      <td>ARG</td>\n",
       "      <td>Population growth (annual %)</td>\n",
       "      <td>SP.POP.GROW</td>\n",
       "      <td>1.15304317167294</td>\n",
       "      <td>1.13312807570195</td>\n",
       "      <td>1.09794672757946</td>\n",
       "      <td>1.06941318335345</td>\n",
       "      <td>1.0331399769648</td>\n",
       "      <td>1.01407652046238</td>\n",
       "      <td>...</td>\n",
       "      <td>1.0317435786984</td>\n",
       "      <td>1.04725888735726</td>\n",
       "      <td>0.968911125580978</td>\n",
       "      <td>8.812496e-01</td>\n",
       "      <td>8.229695e-01</td>\n",
       "      <td>7.109009e-01</td>\n",
       "      <td>4.846656e-01</td>\n",
       "      <td>2.658794e-01</td>\n",
       "      <td>2.108087e-01</td>\n",
       "      <td>0.286976121920089</td>\n",
       "    </tr>\n",
       "    <tr>\n",
       "      <th>6</th>\n",
       "      <td>Argentina</td>\n",
       "      <td>ARG</td>\n",
       "      <td>Urban population (% of total population)</td>\n",
       "      <td>SP.URB.TOTL.IN.ZS</td>\n",
       "      <td>88.952</td>\n",
       "      <td>89.142</td>\n",
       "      <td>89.329</td>\n",
       "      <td>89.51</td>\n",
       "      <td>89.686</td>\n",
       "      <td>89.86</td>\n",
       "      <td>...</td>\n",
       "      <td>91.377</td>\n",
       "      <td>91.503</td>\n",
       "      <td>91.627</td>\n",
       "      <td>9.174900e+01</td>\n",
       "      <td>9.187000e+01</td>\n",
       "      <td>9.199100e+01</td>\n",
       "      <td>9.211100e+01</td>\n",
       "      <td>9.222900e+01</td>\n",
       "      <td>9.234700e+01</td>\n",
       "      <td>92.463</td>\n",
       "    </tr>\n",
       "    <tr>\n",
       "      <th>7</th>\n",
       "      <td>Argentina</td>\n",
       "      <td>ARG</td>\n",
       "      <td>Age dependency ratio (% of working-age populat...</td>\n",
       "      <td>SP.POP.DPND</td>\n",
       "      <td>61.2236911618814</td>\n",
       "      <td>60.8399424011737</td>\n",
       "      <td>60.442088771688</td>\n",
       "      <td>60.0100181534326</td>\n",
       "      <td>59.5157720560259</td>\n",
       "      <td>58.9908808603745</td>\n",
       "      <td>...</td>\n",
       "      <td>56.0256427923844</td>\n",
       "      <td>56.0522891497333</td>\n",
       "      <td>56.0461721346243</td>\n",
       "      <td>5.597280e+01</td>\n",
       "      <td>5.585293e+01</td>\n",
       "      <td>5.559318e+01</td>\n",
       "      <td>5.502080e+01</td>\n",
       "      <td>5.421952e+01</td>\n",
       "      <td>5.333855e+01</td>\n",
       "      <td>52.4243366823125</td>\n",
       "    </tr>\n",
       "    <tr>\n",
       "      <th>8</th>\n",
       "      <td>Argentina</td>\n",
       "      <td>ARG</td>\n",
       "      <td>Poverty headcount ratio at national poverty li...</td>\n",
       "      <td>SI.POV.NAHC</td>\n",
       "      <td>..</td>\n",
       "      <td>..</td>\n",
       "      <td>..</td>\n",
       "      <td>..</td>\n",
       "      <td>..</td>\n",
       "      <td>..</td>\n",
       "      <td>...</td>\n",
       "      <td>..</td>\n",
       "      <td>..</td>\n",
       "      <td>30.3</td>\n",
       "      <td>2.570000e+01</td>\n",
       "      <td>3.200000e+01</td>\n",
       "      <td>3.550000e+01</td>\n",
       "      <td>4.200000e+01</td>\n",
       "      <td>3.730000e+01</td>\n",
       "      <td>3.920000e+01</td>\n",
       "      <td>..</td>\n",
       "    </tr>\n",
       "    <tr>\n",
       "      <th>9</th>\n",
       "      <td>Argentina</td>\n",
       "      <td>ARG</td>\n",
       "      <td>Gini index</td>\n",
       "      <td>SI.POV.GINI</td>\n",
       "      <td>49.8</td>\n",
       "      <td>51</td>\n",
       "      <td>53.3</td>\n",
       "      <td>53.8</td>\n",
       "      <td>51</td>\n",
       "      <td>48.5</td>\n",
       "      <td>...</td>\n",
       "      <td>41.8</td>\n",
       "      <td>..</td>\n",
       "      <td>42.3</td>\n",
       "      <td>4.140000e+01</td>\n",
       "      <td>4.170000e+01</td>\n",
       "      <td>4.330000e+01</td>\n",
       "      <td>4.270000e+01</td>\n",
       "      <td>4.240000e+01</td>\n",
       "      <td>4.070000e+01</td>\n",
       "      <td>..</td>\n",
       "    </tr>\n",
       "    <tr>\n",
       "      <th>10</th>\n",
       "      <td>Argentina</td>\n",
       "      <td>ARG</td>\n",
       "      <td>Life expectancy at birth, total (years)</td>\n",
       "      <td>SP.DYN.LE00.IN</td>\n",
       "      <td>73.722</td>\n",
       "      <td>73.926</td>\n",
       "      <td>74.186</td>\n",
       "      <td>74.408</td>\n",
       "      <td>74.08</td>\n",
       "      <td>74.855</td>\n",
       "      <td>...</td>\n",
       "      <td>76.755</td>\n",
       "      <td>76.76</td>\n",
       "      <td>76.308</td>\n",
       "      <td>7.683300e+01</td>\n",
       "      <td>7.699900e+01</td>\n",
       "      <td>7.728400e+01</td>\n",
       "      <td>7.589200e+01</td>\n",
       "      <td>7.539000e+01</td>\n",
       "      <td>7.606400e+01</td>\n",
       "      <td>..</td>\n",
       "    </tr>\n",
       "    <tr>\n",
       "      <th>11</th>\n",
       "      <td>Argentina</td>\n",
       "      <td>ARG</td>\n",
       "      <td>School enrollment, primary (% gross)</td>\n",
       "      <td>SE.PRM.ENRR</td>\n",
       "      <td>116.60075378418</td>\n",
       "      <td>117.281173706055</td>\n",
       "      <td>117.307037353516</td>\n",
       "      <td>117.299240112305</td>\n",
       "      <td>114.676582336426</td>\n",
       "      <td>115.667877197266</td>\n",
       "      <td>...</td>\n",
       "      <td>113.961883544922</td>\n",
       "      <td>113.778198242188</td>\n",
       "      <td>112.944267272949</td>\n",
       "      <td>1.116815e+02</td>\n",
       "      <td>1.115456e+02</td>\n",
       "      <td>1.113653e+02</td>\n",
       "      <td>1.106178e+02</td>\n",
       "      <td>1.101561e+02</td>\n",
       "      <td>1.087224e+02</td>\n",
       "      <td>..</td>\n",
       "    </tr>\n",
       "    <tr>\n",
       "      <th>12</th>\n",
       "      <td>Argentina</td>\n",
       "      <td>ARG</td>\n",
       "      <td>Labor force participation rate, total (% of to...</td>\n",
       "      <td>SL.TLF.CACT.NE.ZS</td>\n",
       "      <td>60.4</td>\n",
       "      <td>57.72</td>\n",
       "      <td>56.8</td>\n",
       "      <td>57.9</td>\n",
       "      <td>60.25</td>\n",
       "      <td>61.943</td>\n",
       "      <td>...</td>\n",
       "      <td>59.444</td>\n",
       "      <td>..</td>\n",
       "      <td>..</td>\n",
       "      <td>5.880800e+01</td>\n",
       "      <td>5.959500e+01</td>\n",
       "      <td>6.028900e+01</td>\n",
       "      <td>5.602300e+01</td>\n",
       "      <td>6.035800e+01</td>\n",
       "      <td>6.148400e+01</td>\n",
       "      <td>62.286</td>\n",
       "    </tr>\n",
       "    <tr>\n",
       "      <th>13</th>\n",
       "      <td>Argentina</td>\n",
       "      <td>ARG</td>\n",
       "      <td>Unemployment, total (% of total labor force) (...</td>\n",
       "      <td>SL.UEM.TOTL.NE.ZS</td>\n",
       "      <td>14.05</td>\n",
       "      <td>15</td>\n",
       "      <td>17.32</td>\n",
       "      <td>19.59</td>\n",
       "      <td>15.36</td>\n",
       "      <td>13.522</td>\n",
       "      <td>...</td>\n",
       "      <td>7.268</td>\n",
       "      <td>..</td>\n",
       "      <td>..</td>\n",
       "      <td>8.347000e+00</td>\n",
       "      <td>9.221000e+00</td>\n",
       "      <td>9.843000e+00</td>\n",
       "      <td>1.146100e+01</td>\n",
       "      <td>8.736000e+00</td>\n",
       "      <td>6.805000e+00</td>\n",
       "      <td>6.139</td>\n",
       "    </tr>\n",
       "    <tr>\n",
       "      <th>14</th>\n",
       "      <td>NaN</td>\n",
       "      <td>NaN</td>\n",
       "      <td>NaN</td>\n",
       "      <td>NaN</td>\n",
       "      <td>NaN</td>\n",
       "      <td>NaN</td>\n",
       "      <td>NaN</td>\n",
       "      <td>NaN</td>\n",
       "      <td>NaN</td>\n",
       "      <td>NaN</td>\n",
       "      <td>...</td>\n",
       "      <td>NaN</td>\n",
       "      <td>NaN</td>\n",
       "      <td>NaN</td>\n",
       "      <td>NaN</td>\n",
       "      <td>NaN</td>\n",
       "      <td>NaN</td>\n",
       "      <td>NaN</td>\n",
       "      <td>NaN</td>\n",
       "      <td>NaN</td>\n",
       "      <td>NaN</td>\n",
       "    </tr>\n",
       "    <tr>\n",
       "      <th>15</th>\n",
       "      <td>NaN</td>\n",
       "      <td>NaN</td>\n",
       "      <td>NaN</td>\n",
       "      <td>NaN</td>\n",
       "      <td>NaN</td>\n",
       "      <td>NaN</td>\n",
       "      <td>NaN</td>\n",
       "      <td>NaN</td>\n",
       "      <td>NaN</td>\n",
       "      <td>NaN</td>\n",
       "      <td>...</td>\n",
       "      <td>NaN</td>\n",
       "      <td>NaN</td>\n",
       "      <td>NaN</td>\n",
       "      <td>NaN</td>\n",
       "      <td>NaN</td>\n",
       "      <td>NaN</td>\n",
       "      <td>NaN</td>\n",
       "      <td>NaN</td>\n",
       "      <td>NaN</td>\n",
       "      <td>NaN</td>\n",
       "    </tr>\n",
       "    <tr>\n",
       "      <th>16</th>\n",
       "      <td>NaN</td>\n",
       "      <td>NaN</td>\n",
       "      <td>NaN</td>\n",
       "      <td>NaN</td>\n",
       "      <td>NaN</td>\n",
       "      <td>NaN</td>\n",
       "      <td>NaN</td>\n",
       "      <td>NaN</td>\n",
       "      <td>NaN</td>\n",
       "      <td>NaN</td>\n",
       "      <td>...</td>\n",
       "      <td>NaN</td>\n",
       "      <td>NaN</td>\n",
       "      <td>NaN</td>\n",
       "      <td>NaN</td>\n",
       "      <td>NaN</td>\n",
       "      <td>NaN</td>\n",
       "      <td>NaN</td>\n",
       "      <td>NaN</td>\n",
       "      <td>NaN</td>\n",
       "      <td>NaN</td>\n",
       "    </tr>\n",
       "    <tr>\n",
       "      <th>17</th>\n",
       "      <td>Data from database: World Development Indicators</td>\n",
       "      <td>NaN</td>\n",
       "      <td>NaN</td>\n",
       "      <td>NaN</td>\n",
       "      <td>NaN</td>\n",
       "      <td>NaN</td>\n",
       "      <td>NaN</td>\n",
       "      <td>NaN</td>\n",
       "      <td>NaN</td>\n",
       "      <td>NaN</td>\n",
       "      <td>...</td>\n",
       "      <td>NaN</td>\n",
       "      <td>NaN</td>\n",
       "      <td>NaN</td>\n",
       "      <td>NaN</td>\n",
       "      <td>NaN</td>\n",
       "      <td>NaN</td>\n",
       "      <td>NaN</td>\n",
       "      <td>NaN</td>\n",
       "      <td>NaN</td>\n",
       "      <td>NaN</td>\n",
       "    </tr>\n",
       "    <tr>\n",
       "      <th>18</th>\n",
       "      <td>Last Updated: 01/28/2025</td>\n",
       "      <td>NaN</td>\n",
       "      <td>NaN</td>\n",
       "      <td>NaN</td>\n",
       "      <td>NaN</td>\n",
       "      <td>NaN</td>\n",
       "      <td>NaN</td>\n",
       "      <td>NaN</td>\n",
       "      <td>NaN</td>\n",
       "      <td>NaN</td>\n",
       "      <td>...</td>\n",
       "      <td>NaN</td>\n",
       "      <td>NaN</td>\n",
       "      <td>NaN</td>\n",
       "      <td>NaN</td>\n",
       "      <td>NaN</td>\n",
       "      <td>NaN</td>\n",
       "      <td>NaN</td>\n",
       "      <td>NaN</td>\n",
       "      <td>NaN</td>\n",
       "      <td>NaN</td>\n",
       "    </tr>\n",
       "  </tbody>\n",
       "</table>\n",
       "<p>19 rows × 29 columns</p>\n",
       "</div>"
      ],
      "text/plain": [
       "                                        Country Name Country Code  \\\n",
       "0                                          Argentina          ARG   \n",
       "1                                          Argentina          ARG   \n",
       "2                                          Argentina          ARG   \n",
       "3                                          Argentina          ARG   \n",
       "4                                          Argentina          ARG   \n",
       "5                                          Argentina          ARG   \n",
       "6                                          Argentina          ARG   \n",
       "7                                          Argentina          ARG   \n",
       "8                                          Argentina          ARG   \n",
       "9                                          Argentina          ARG   \n",
       "10                                         Argentina          ARG   \n",
       "11                                         Argentina          ARG   \n",
       "12                                         Argentina          ARG   \n",
       "13                                         Argentina          ARG   \n",
       "14                                               NaN          NaN   \n",
       "15                                               NaN          NaN   \n",
       "16                                               NaN          NaN   \n",
       "17  Data from database: World Development Indicators          NaN   \n",
       "18                          Last Updated: 01/28/2025          NaN   \n",
       "\n",
       "                                          Series Name        Series Code  \\\n",
       "0                                   GDP (current US$)     NY.GDP.MKTP.CD   \n",
       "1                               GDP growth (annual %)  NY.GDP.MKTP.KD.ZG   \n",
       "2                        GDP per capita (current US$)     NY.GDP.PCAP.CD   \n",
       "3       GDP per capita, PPP (current international $)  NY.GDP.PCAP.PP.CD   \n",
       "4                                   Population, total        SP.POP.TOTL   \n",
       "5                        Population growth (annual %)        SP.POP.GROW   \n",
       "6            Urban population (% of total population)  SP.URB.TOTL.IN.ZS   \n",
       "7   Age dependency ratio (% of working-age populat...        SP.POP.DPND   \n",
       "8   Poverty headcount ratio at national poverty li...        SI.POV.NAHC   \n",
       "9                                          Gini index        SI.POV.GINI   \n",
       "10            Life expectancy at birth, total (years)     SP.DYN.LE00.IN   \n",
       "11               School enrollment, primary (% gross)        SE.PRM.ENRR   \n",
       "12  Labor force participation rate, total (% of to...  SL.TLF.CACT.NE.ZS   \n",
       "13  Unemployment, total (% of total labor force) (...  SL.UEM.TOTL.NE.ZS   \n",
       "14                                                NaN                NaN   \n",
       "15                                                NaN                NaN   \n",
       "16                                                NaN                NaN   \n",
       "17                                                NaN                NaN   \n",
       "18                                                NaN                NaN   \n",
       "\n",
       "        1999 [YR1999]      2000 [YR2000]      2001 [YR2001]  \\\n",
       "0        283523000000       284203750000       268696750000   \n",
       "1   -3.38545704063269  -0.78899893905691  -4.40883968258557   \n",
       "2    7705.54288252851   7637.01489203628   7141.47507662826   \n",
       "3     11463.853308121   11499.9828002698    11117.754923304   \n",
       "4            36794682           37213984           37624825   \n",
       "5    1.15304317167294   1.13312807570195   1.09794672757946   \n",
       "6              88.952             89.142             89.329   \n",
       "7    61.2236911618814   60.8399424011737    60.442088771688   \n",
       "8                  ..                 ..                 ..   \n",
       "9                49.8                 51               53.3   \n",
       "10             73.722             73.926             74.186   \n",
       "11    116.60075378418   117.281173706055   117.307037353516   \n",
       "12               60.4              57.72               56.8   \n",
       "13              14.05                 15              17.32   \n",
       "14                NaN                NaN                NaN   \n",
       "15                NaN                NaN                NaN   \n",
       "16                NaN                NaN                NaN   \n",
       "17                NaN                NaN                NaN   \n",
       "18                NaN                NaN                NaN   \n",
       "\n",
       "        2002 [YR2002]     2003 [YR2003]     2004 [YR2004]  ...  \\\n",
       "0    97724004251.8602  127586973492.177  164657930452.787  ...   \n",
       "1   -10.8944848285903  8.83704079576924  9.02957330068152  ...   \n",
       "2    2569.69963519124  3320.47775133903  4242.02099089422  ...   \n",
       "3    9953.46492878861  10933.3925490662  12117.6797424618  ...   \n",
       "4            38029349          38424282          38815916  ...   \n",
       "5    1.06941318335345   1.0331399769648  1.01407652046238  ...   \n",
       "6               89.51            89.686             89.86  ...   \n",
       "7    60.0100181534326  59.5157720560259  58.9908808603745  ...   \n",
       "8                  ..                ..                ..  ...   \n",
       "9                53.8                51              48.5  ...   \n",
       "10             74.408             74.08            74.855  ...   \n",
       "11   117.299240112305  114.676582336426  115.667877197266  ...   \n",
       "12               57.9             60.25            61.943  ...   \n",
       "13              19.59             15.36            13.522  ...   \n",
       "14                NaN               NaN               NaN  ...   \n",
       "15                NaN               NaN               NaN  ...   \n",
       "16                NaN               NaN               NaN  ...   \n",
       "17                NaN               NaN               NaN  ...   \n",
       "18                NaN               NaN               NaN  ...   \n",
       "\n",
       "        2014 [YR2014]     2015 [YR2015]      2016 [YR2016] 2017 [YR2017]  \\\n",
       "0    526319673731.638  594749285413.212   557532320662.955  6.436284e+11   \n",
       "1   -2.51261532081394  2.73115982828944  -2.08032784377811  2.818503e+00   \n",
       "2    12233.1444119186  13679.6264980954   12699.9623137756  1.453250e+04   \n",
       "3    19487.4181748868  19899.1499275245    20105.761359796  2.338507e+04   \n",
       "4            43024071          43477012           43900313  4.428889e+07   \n",
       "5     1.0317435786984  1.04725888735726  0.968911125580978  8.812496e-01   \n",
       "6              91.377            91.503             91.627  9.174900e+01   \n",
       "7    56.0256427923844  56.0522891497333   56.0461721346243  5.597280e+01   \n",
       "8                  ..                ..               30.3  2.570000e+01   \n",
       "9                41.8                ..               42.3  4.140000e+01   \n",
       "10             76.755             76.76             76.308  7.683300e+01   \n",
       "11   113.961883544922  113.778198242188   112.944267272949  1.116815e+02   \n",
       "12             59.444                ..                 ..  5.880800e+01   \n",
       "13              7.268                ..                 ..  8.347000e+00   \n",
       "14                NaN               NaN                NaN           NaN   \n",
       "15                NaN               NaN                NaN           NaN   \n",
       "16                NaN               NaN                NaN           NaN   \n",
       "17                NaN               NaN                NaN           NaN   \n",
       "18                NaN               NaN                NaN           NaN   \n",
       "\n",
       "   2018 [YR2018] 2019 [YR2019] 2020 [YR2020] 2021 [YR2021] 2022 [YR2022]  \\\n",
       "0   5.248199e+11  4.477547e+11  3.857405e+11  4.865641e+11  6.327901e+11   \n",
       "1  -2.617396e+00 -2.000861e+00 -9.900485e+00  1.044181e+01  5.269880e+00   \n",
       "2   1.175280e+04  9.955975e+03  8.535599e+03  1.073802e+04  1.393568e+04   \n",
       "3   2.441039e+04  2.351683e+04  2.239335e+04  2.630027e+04  2.959769e+04   \n",
       "4   4.465488e+07  4.497346e+07  4.519196e+07  4.531228e+07  4.540790e+07   \n",
       "5   8.229695e-01  7.109009e-01  4.846656e-01  2.658794e-01  2.108087e-01   \n",
       "6   9.187000e+01  9.199100e+01  9.211100e+01  9.222900e+01  9.234700e+01   \n",
       "7   5.585293e+01  5.559318e+01  5.502080e+01  5.421952e+01  5.333855e+01   \n",
       "8   3.200000e+01  3.550000e+01  4.200000e+01  3.730000e+01  3.920000e+01   \n",
       "9   4.170000e+01  4.330000e+01  4.270000e+01  4.240000e+01  4.070000e+01   \n",
       "10  7.699900e+01  7.728400e+01  7.589200e+01  7.539000e+01  7.606400e+01   \n",
       "11  1.115456e+02  1.113653e+02  1.106178e+02  1.101561e+02  1.087224e+02   \n",
       "12  5.959500e+01  6.028900e+01  5.602300e+01  6.035800e+01  6.148400e+01   \n",
       "13  9.221000e+00  9.843000e+00  1.146100e+01  8.736000e+00  6.805000e+00   \n",
       "14           NaN           NaN           NaN           NaN           NaN   \n",
       "15           NaN           NaN           NaN           NaN           NaN   \n",
       "16           NaN           NaN           NaN           NaN           NaN   \n",
       "17           NaN           NaN           NaN           NaN           NaN   \n",
       "18           NaN           NaN           NaN           NaN           NaN   \n",
       "\n",
       "        2023 [YR2023]  \n",
       "0    646075277525.125  \n",
       "1   -1.61100162090189  \n",
       "2    14187.4827252965  \n",
       "3    30082.3045247323  \n",
       "4            45538401  \n",
       "5   0.286976121920089  \n",
       "6              92.463  \n",
       "7    52.4243366823125  \n",
       "8                  ..  \n",
       "9                  ..  \n",
       "10                 ..  \n",
       "11                 ..  \n",
       "12             62.286  \n",
       "13              6.139  \n",
       "14                NaN  \n",
       "15                NaN  \n",
       "16                NaN  \n",
       "17                NaN  \n",
       "18                NaN  \n",
       "\n",
       "[19 rows x 29 columns]"
      ]
     },
     "execution_count": 81,
     "metadata": {},
     "output_type": "execute_result"
    }
   ],
   "source": [
    "df_data"
   ]
  },
  {
   "cell_type": "code",
   "execution_count": 82,
   "metadata": {},
   "outputs": [
    {
     "data": {
      "text/plain": [
       "(19, 29)"
      ]
     },
     "execution_count": 82,
     "metadata": {},
     "output_type": "execute_result"
    }
   ],
   "source": [
    "df_data.shape"
   ]
  },
  {
   "cell_type": "markdown",
   "metadata": {},
   "source": [
    "### Quitando datos duplicados, nulos e irrelevantes."
   ]
  },
  {
   "cell_type": "code",
   "execution_count": 83,
   "metadata": {},
   "outputs": [
    {
     "data": {
      "text/plain": [
       "Country Name     3\n",
       "Country Code     5\n",
       "Series Name      5\n",
       "Series Code      5\n",
       "1999 [YR1999]    5\n",
       "2000 [YR2000]    5\n",
       "2001 [YR2001]    5\n",
       "2002 [YR2002]    5\n",
       "2003 [YR2003]    5\n",
       "2004 [YR2004]    5\n",
       "2005 [YR2005]    5\n",
       "2006 [YR2006]    5\n",
       "2007 [YR2007]    5\n",
       "2008 [YR2008]    5\n",
       "2009 [YR2009]    5\n",
       "2010 [YR2010]    5\n",
       "2011 [YR2011]    5\n",
       "2012 [YR2012]    5\n",
       "2013 [YR2013]    5\n",
       "2014 [YR2014]    5\n",
       "2015 [YR2015]    5\n",
       "2016 [YR2016]    5\n",
       "2017 [YR2017]    5\n",
       "2018 [YR2018]    5\n",
       "2019 [YR2019]    5\n",
       "2020 [YR2020]    5\n",
       "2021 [YR2021]    5\n",
       "2022 [YR2022]    5\n",
       "2023 [YR2023]    5\n",
       "dtype: int64"
      ]
     },
     "execution_count": 83,
     "metadata": {},
     "output_type": "execute_result"
    }
   ],
   "source": [
    "df_data.isna().sum()"
   ]
  },
  {
   "cell_type": "code",
   "execution_count": 84,
   "metadata": {},
   "outputs": [],
   "source": [
    "df_data.dropna(inplace=True)"
   ]
  },
  {
   "cell_type": "code",
   "execution_count": 85,
   "metadata": {},
   "outputs": [
    {
     "data": {
      "text/plain": [
       "np.int64(0)"
      ]
     },
     "execution_count": 85,
     "metadata": {},
     "output_type": "execute_result"
    }
   ],
   "source": [
    "df_data.duplicated().sum()"
   ]
  },
  {
   "cell_type": "code",
   "execution_count": 86,
   "metadata": {},
   "outputs": [],
   "source": [
    "df_data = df_data.replace('..', np.nan)\n",
    "df_copy = df_data.copy()"
   ]
  },
  {
   "cell_type": "markdown",
   "metadata": {},
   "source": [
    "### Arreglar errores estructurales"
   ]
  },
  {
   "cell_type": "markdown",
   "metadata": {},
   "source": [
    "Quitamos las columnas innecesarias"
   ]
  },
  {
   "cell_type": "code",
   "execution_count": 87,
   "metadata": {},
   "outputs": [],
   "source": [
    "df_data.drop(['Country Code','Country Name','Series Code',], axis=1, inplace=True)\n"
   ]
  },
  {
   "cell_type": "markdown",
   "metadata": {},
   "source": [
    "Convertimos todas las columnas de los años a un formato que podamos manejar"
   ]
  },
  {
   "cell_type": "code",
   "execution_count": 88,
   "metadata": {},
   "outputs": [],
   "source": [
    "years = range(1999, 2024)\n",
    "columns = [f\"{year} [YR{year}]\" for year in years]\n",
    "\n",
    "df_data[columns] = df_data[columns].astype(float)\n"
   ]
  },
  {
   "cell_type": "code",
   "execution_count": 89,
   "metadata": {},
   "outputs": [],
   "source": [
    "def identify_outliers(data):\n",
    "    q1 = data.quantile(0.25)\n",
    "    q3 = data.quantile(0.75)\n",
    "    iqr = q3 - q1\n",
    "    lower_bound = q1 - 1.5 * iqr\n",
    "    upper_bound = q3 + 1.5 * iqr\n",
    "    outliers = data[(data < lower_bound) | (data > upper_bound)]\n",
    "    return outliers"
   ]
  },
  {
   "cell_type": "markdown",
   "metadata": {},
   "source": [
    "### Identificando outliers"
   ]
  },
  {
   "cell_type": "code",
   "execution_count": 90,
   "metadata": {},
   "outputs": [
    {
     "name": "stdout",
     "output_type": "stream",
     "text": [
      "Outliers in 1999 [YR1999]: 0    2.835230e+11\n",
      "4    3.679468e+07\n",
      "Name: 1999 [YR1999], dtype: float64\n",
      "\n",
      "Outliers in 2000 [YR2000]: 0    2.842038e+11\n",
      "4    3.721398e+07\n",
      "Name: 2000 [YR2000], dtype: float64\n",
      "\n",
      "Outliers in 2001 [YR2001]: 0    2.686968e+11\n",
      "4    3.762482e+07\n",
      "Name: 2001 [YR2001], dtype: float64\n",
      "\n",
      "Outliers in 2002 [YR2002]: 0    9.772400e+10\n",
      "3    9.953465e+03\n",
      "4    3.802935e+07\n",
      "Name: 2002 [YR2002], dtype: float64\n",
      "\n",
      "Outliers in 2003 [YR2003]: 0    1.275870e+11\n",
      "3    1.093339e+04\n",
      "4    3.842428e+07\n",
      "Name: 2003 [YR2003], dtype: float64\n",
      "\n",
      "Outliers in 2004 [YR2004]: 0    1.646579e+11\n",
      "3    1.211768e+04\n",
      "4    3.881592e+07\n",
      "Name: 2004 [YR2004], dtype: float64\n",
      "\n",
      "Outliers in 2005 [YR2005]: 0    1.987371e+11\n",
      "3    1.346481e+04\n",
      "4    3.921679e+07\n",
      "Name: 2005 [YR2005], dtype: float64\n",
      "\n",
      "Outliers in 2006 [YR2006]: 0    2.325573e+11\n",
      "3    1.484358e+04\n",
      "4    3.962212e+07\n",
      "Name: 2006 [YR2006], dtype: float64\n",
      "\n",
      "Outliers in 2007 [YR2007]: 0    2.875305e+11\n",
      "4    4.001676e+07\n",
      "Name: 2007 [YR2007], dtype: float64\n",
      "\n",
      "Outliers in 2008 [YR2008]: 0    3.615580e+11\n",
      "4    4.042415e+07\n",
      "Name: 2008 [YR2008], dtype: float64\n",
      "\n",
      "Outliers in 2009 [YR2009]: 0    3.329765e+11\n",
      "4    4.085483e+07\n",
      "Name: 2009 [YR2009], dtype: float64\n",
      "\n",
      "Outliers in 2010 [YR2010]: 0    4.236274e+11\n",
      "4    4.128869e+07\n",
      "Name: 2010 [YR2010], dtype: float64\n",
      "\n",
      "Outliers in 2011 [YR2011]: 0    5.301581e+11\n",
      "4    4.173066e+07\n",
      "Name: 2011 [YR2011], dtype: float64\n",
      "\n",
      "Outliers in 2012 [YR2012]: 0    5.459824e+11\n",
      "4    4.216172e+07\n",
      "Name: 2012 [YR2012], dtype: float64\n",
      "\n",
      "Outliers in 2013 [YR2013]: 0    5.520251e+11\n",
      "4    4.258246e+07\n",
      "Name: 2013 [YR2013], dtype: float64\n",
      "\n",
      "Outliers in 2014 [YR2014]: 0    5.263197e+11\n",
      "4    4.302407e+07\n",
      "Name: 2014 [YR2014], dtype: float64\n",
      "\n",
      "Outliers in 2015 [YR2015]: 0    5.947493e+11\n",
      "4    4.347701e+07\n",
      "Name: 2015 [YR2015], dtype: float64\n",
      "\n",
      "Outliers in 2016 [YR2016]: 0    5.575323e+11\n",
      "4    4.390031e+07\n",
      "Name: 2016 [YR2016], dtype: float64\n",
      "\n",
      "Outliers in 2017 [YR2017]: 0    6.436284e+11\n",
      "4    4.428889e+07\n",
      "Name: 2017 [YR2017], dtype: float64\n",
      "\n",
      "Outliers in 2018 [YR2018]: 0    5.248199e+11\n",
      "3    2.441039e+04\n",
      "4    4.465488e+07\n",
      "Name: 2018 [YR2018], dtype: float64\n",
      "\n",
      "Outliers in 2019 [YR2019]: 0    4.477547e+11\n",
      "3    2.351683e+04\n",
      "4    4.497346e+07\n",
      "Name: 2019 [YR2019], dtype: float64\n",
      "\n",
      "Outliers in 2020 [YR2020]: 0    3.857405e+11\n",
      "3    2.239335e+04\n",
      "4    4.519196e+07\n",
      "Name: 2020 [YR2020], dtype: float64\n",
      "\n",
      "Outliers in 2021 [YR2021]: 0    4.865641e+11\n",
      "3    2.630027e+04\n",
      "4    4.531228e+07\n",
      "Name: 2021 [YR2021], dtype: float64\n",
      "\n",
      "Outliers in 2022 [YR2022]: 0    6.327901e+11\n",
      "3    2.959769e+04\n",
      "4    4.540790e+07\n",
      "Name: 2022 [YR2022], dtype: float64\n",
      "\n",
      "Outliers in 2023 [YR2023]: 0    6.460753e+11\n",
      "4    4.553840e+07\n",
      "Name: 2023 [YR2023], dtype: float64\n",
      "\n"
     ]
    }
   ],
   "source": [
    "for i,column in enumerate(columns):\n",
    "    outliers_i = identify_outliers(df_data[columns[i]])\n",
    "    print(f\"Outliers in {column}: {outliers_i}\\n\")"
   ]
  },
  {
   "cell_type": "markdown",
   "metadata": {},
   "source": [
    "No hace falta hacer nada con estos."
   ]
  },
  {
   "cell_type": "markdown",
   "metadata": {},
   "source": [
    "Vamos a crear una nueva columna \"Year\" y \"Value\" para poder manejarlos de forma más eficiente al momento de hacer la visualización."
   ]
  },
  {
   "cell_type": "code",
   "execution_count": 91,
   "metadata": {},
   "outputs": [
    {
     "name": "stderr",
     "output_type": "stream",
     "text": [
      "<>:1: SyntaxWarning:\n",
      "\n",
      "invalid escape sequence '\\s'\n",
      "\n",
      "<>:1: SyntaxWarning:\n",
      "\n",
      "invalid escape sequence '\\s'\n",
      "\n",
      "C:\\Users\\Usuario\\AppData\\Local\\Temp\\ipykernel_8340\\1023414492.py:1: SyntaxWarning:\n",
      "\n",
      "invalid escape sequence '\\s'\n",
      "\n"
     ]
    }
   ],
   "source": [
    "pat_years = \"\\s*\\[YR\\d{4}\\]\\s*\"\n",
    "\n",
    "df_data.columns = df_data.columns.str.replace(pat_years,'', regex=True, )"
   ]
  },
  {
   "cell_type": "code",
   "execution_count": 92,
   "metadata": {},
   "outputs": [
    {
     "data": {
      "text/html": [
       "<div>\n",
       "<style scoped>\n",
       "    .dataframe tbody tr th:only-of-type {\n",
       "        vertical-align: middle;\n",
       "    }\n",
       "\n",
       "    .dataframe tbody tr th {\n",
       "        vertical-align: top;\n",
       "    }\n",
       "\n",
       "    .dataframe thead th {\n",
       "        text-align: right;\n",
       "    }\n",
       "</style>\n",
       "<table border=\"1\" class=\"dataframe\">\n",
       "  <thead>\n",
       "    <tr style=\"text-align: right;\">\n",
       "      <th></th>\n",
       "      <th>Series Name</th>\n",
       "      <th>1999</th>\n",
       "      <th>2000</th>\n",
       "      <th>2001</th>\n",
       "      <th>2002</th>\n",
       "      <th>2003</th>\n",
       "      <th>2004</th>\n",
       "      <th>2005</th>\n",
       "      <th>2006</th>\n",
       "      <th>2007</th>\n",
       "      <th>...</th>\n",
       "      <th>2014</th>\n",
       "      <th>2015</th>\n",
       "      <th>2016</th>\n",
       "      <th>2017</th>\n",
       "      <th>2018</th>\n",
       "      <th>2019</th>\n",
       "      <th>2020</th>\n",
       "      <th>2021</th>\n",
       "      <th>2022</th>\n",
       "      <th>2023</th>\n",
       "    </tr>\n",
       "  </thead>\n",
       "  <tbody>\n",
       "    <tr>\n",
       "      <th>0</th>\n",
       "      <td>GDP (current US$)</td>\n",
       "      <td>2.835230e+11</td>\n",
       "      <td>2.842038e+11</td>\n",
       "      <td>2.686968e+11</td>\n",
       "      <td>9.772400e+10</td>\n",
       "      <td>1.275870e+11</td>\n",
       "      <td>1.646579e+11</td>\n",
       "      <td>1.987371e+11</td>\n",
       "      <td>2.325573e+11</td>\n",
       "      <td>2.875305e+11</td>\n",
       "      <td>...</td>\n",
       "      <td>5.263197e+11</td>\n",
       "      <td>5.947493e+11</td>\n",
       "      <td>5.575323e+11</td>\n",
       "      <td>6.436284e+11</td>\n",
       "      <td>5.248199e+11</td>\n",
       "      <td>4.477547e+11</td>\n",
       "      <td>3.857405e+11</td>\n",
       "      <td>4.865641e+11</td>\n",
       "      <td>6.327901e+11</td>\n",
       "      <td>6.460753e+11</td>\n",
       "    </tr>\n",
       "    <tr>\n",
       "      <th>1</th>\n",
       "      <td>GDP growth (annual %)</td>\n",
       "      <td>-3.385457e+00</td>\n",
       "      <td>-7.889989e-01</td>\n",
       "      <td>-4.408840e+00</td>\n",
       "      <td>-1.089448e+01</td>\n",
       "      <td>8.837041e+00</td>\n",
       "      <td>9.029573e+00</td>\n",
       "      <td>8.851660e+00</td>\n",
       "      <td>8.047152e+00</td>\n",
       "      <td>9.007651e+00</td>\n",
       "      <td>...</td>\n",
       "      <td>-2.512615e+00</td>\n",
       "      <td>2.731160e+00</td>\n",
       "      <td>-2.080328e+00</td>\n",
       "      <td>2.818503e+00</td>\n",
       "      <td>-2.617396e+00</td>\n",
       "      <td>-2.000861e+00</td>\n",
       "      <td>-9.900485e+00</td>\n",
       "      <td>1.044181e+01</td>\n",
       "      <td>5.269880e+00</td>\n",
       "      <td>-1.611002e+00</td>\n",
       "    </tr>\n",
       "    <tr>\n",
       "      <th>2</th>\n",
       "      <td>GDP per capita (current US$)</td>\n",
       "      <td>7.705543e+03</td>\n",
       "      <td>7.637015e+03</td>\n",
       "      <td>7.141475e+03</td>\n",
       "      <td>2.569700e+03</td>\n",
       "      <td>3.320478e+03</td>\n",
       "      <td>4.242021e+03</td>\n",
       "      <td>5.067653e+03</td>\n",
       "      <td>5.869380e+03</td>\n",
       "      <td>7.185252e+03</td>\n",
       "      <td>...</td>\n",
       "      <td>1.223314e+04</td>\n",
       "      <td>1.367963e+04</td>\n",
       "      <td>1.269996e+04</td>\n",
       "      <td>1.453250e+04</td>\n",
       "      <td>1.175280e+04</td>\n",
       "      <td>9.955975e+03</td>\n",
       "      <td>8.535599e+03</td>\n",
       "      <td>1.073802e+04</td>\n",
       "      <td>1.393568e+04</td>\n",
       "      <td>1.418748e+04</td>\n",
       "    </tr>\n",
       "    <tr>\n",
       "      <th>3</th>\n",
       "      <td>GDP per capita, PPP (current international $)</td>\n",
       "      <td>1.146385e+04</td>\n",
       "      <td>1.149998e+04</td>\n",
       "      <td>1.111775e+04</td>\n",
       "      <td>9.953465e+03</td>\n",
       "      <td>1.093339e+04</td>\n",
       "      <td>1.211768e+04</td>\n",
       "      <td>1.346481e+04</td>\n",
       "      <td>1.484358e+04</td>\n",
       "      <td>1.645511e+04</td>\n",
       "      <td>...</td>\n",
       "      <td>1.948742e+04</td>\n",
       "      <td>1.989915e+04</td>\n",
       "      <td>2.010576e+04</td>\n",
       "      <td>2.338507e+04</td>\n",
       "      <td>2.441039e+04</td>\n",
       "      <td>2.351683e+04</td>\n",
       "      <td>2.239335e+04</td>\n",
       "      <td>2.630027e+04</td>\n",
       "      <td>2.959769e+04</td>\n",
       "      <td>3.008230e+04</td>\n",
       "    </tr>\n",
       "    <tr>\n",
       "      <th>4</th>\n",
       "      <td>Population, total</td>\n",
       "      <td>3.679468e+07</td>\n",
       "      <td>3.721398e+07</td>\n",
       "      <td>3.762482e+07</td>\n",
       "      <td>3.802935e+07</td>\n",
       "      <td>3.842428e+07</td>\n",
       "      <td>3.881592e+07</td>\n",
       "      <td>3.921679e+07</td>\n",
       "      <td>3.962212e+07</td>\n",
       "      <td>4.001676e+07</td>\n",
       "      <td>...</td>\n",
       "      <td>4.302407e+07</td>\n",
       "      <td>4.347701e+07</td>\n",
       "      <td>4.390031e+07</td>\n",
       "      <td>4.428889e+07</td>\n",
       "      <td>4.465488e+07</td>\n",
       "      <td>4.497346e+07</td>\n",
       "      <td>4.519196e+07</td>\n",
       "      <td>4.531228e+07</td>\n",
       "      <td>4.540790e+07</td>\n",
       "      <td>4.553840e+07</td>\n",
       "    </tr>\n",
       "    <tr>\n",
       "      <th>5</th>\n",
       "      <td>Population growth (annual %)</td>\n",
       "      <td>1.153043e+00</td>\n",
       "      <td>1.133128e+00</td>\n",
       "      <td>1.097947e+00</td>\n",
       "      <td>1.069413e+00</td>\n",
       "      <td>1.033140e+00</td>\n",
       "      <td>1.014077e+00</td>\n",
       "      <td>1.027458e+00</td>\n",
       "      <td>1.028248e+00</td>\n",
       "      <td>9.911019e-01</td>\n",
       "      <td>...</td>\n",
       "      <td>1.031744e+00</td>\n",
       "      <td>1.047259e+00</td>\n",
       "      <td>9.689111e-01</td>\n",
       "      <td>8.812496e-01</td>\n",
       "      <td>8.229695e-01</td>\n",
       "      <td>7.109009e-01</td>\n",
       "      <td>4.846656e-01</td>\n",
       "      <td>2.658794e-01</td>\n",
       "      <td>2.108087e-01</td>\n",
       "      <td>2.869761e-01</td>\n",
       "    </tr>\n",
       "    <tr>\n",
       "      <th>6</th>\n",
       "      <td>Urban population (% of total population)</td>\n",
       "      <td>8.895200e+01</td>\n",
       "      <td>8.914200e+01</td>\n",
       "      <td>8.932900e+01</td>\n",
       "      <td>8.951000e+01</td>\n",
       "      <td>8.968600e+01</td>\n",
       "      <td>8.986000e+01</td>\n",
       "      <td>9.003100e+01</td>\n",
       "      <td>9.020000e+01</td>\n",
       "      <td>9.036600e+01</td>\n",
       "      <td>...</td>\n",
       "      <td>9.137700e+01</td>\n",
       "      <td>9.150300e+01</td>\n",
       "      <td>9.162700e+01</td>\n",
       "      <td>9.174900e+01</td>\n",
       "      <td>9.187000e+01</td>\n",
       "      <td>9.199100e+01</td>\n",
       "      <td>9.211100e+01</td>\n",
       "      <td>9.222900e+01</td>\n",
       "      <td>9.234700e+01</td>\n",
       "      <td>9.246300e+01</td>\n",
       "    </tr>\n",
       "    <tr>\n",
       "      <th>7</th>\n",
       "      <td>Age dependency ratio (% of working-age populat...</td>\n",
       "      <td>6.122369e+01</td>\n",
       "      <td>6.083994e+01</td>\n",
       "      <td>6.044209e+01</td>\n",
       "      <td>6.001002e+01</td>\n",
       "      <td>5.951577e+01</td>\n",
       "      <td>5.899088e+01</td>\n",
       "      <td>5.848853e+01</td>\n",
       "      <td>5.800035e+01</td>\n",
       "      <td>5.750504e+01</td>\n",
       "      <td>...</td>\n",
       "      <td>5.602564e+01</td>\n",
       "      <td>5.605229e+01</td>\n",
       "      <td>5.604617e+01</td>\n",
       "      <td>5.597280e+01</td>\n",
       "      <td>5.585293e+01</td>\n",
       "      <td>5.559318e+01</td>\n",
       "      <td>5.502080e+01</td>\n",
       "      <td>5.421952e+01</td>\n",
       "      <td>5.333855e+01</td>\n",
       "      <td>5.242434e+01</td>\n",
       "    </tr>\n",
       "    <tr>\n",
       "      <th>8</th>\n",
       "      <td>Poverty headcount ratio at national poverty li...</td>\n",
       "      <td>NaN</td>\n",
       "      <td>NaN</td>\n",
       "      <td>NaN</td>\n",
       "      <td>NaN</td>\n",
       "      <td>NaN</td>\n",
       "      <td>NaN</td>\n",
       "      <td>NaN</td>\n",
       "      <td>NaN</td>\n",
       "      <td>NaN</td>\n",
       "      <td>...</td>\n",
       "      <td>NaN</td>\n",
       "      <td>NaN</td>\n",
       "      <td>3.030000e+01</td>\n",
       "      <td>2.570000e+01</td>\n",
       "      <td>3.200000e+01</td>\n",
       "      <td>3.550000e+01</td>\n",
       "      <td>4.200000e+01</td>\n",
       "      <td>3.730000e+01</td>\n",
       "      <td>3.920000e+01</td>\n",
       "      <td>NaN</td>\n",
       "    </tr>\n",
       "    <tr>\n",
       "      <th>9</th>\n",
       "      <td>Gini index</td>\n",
       "      <td>4.980000e+01</td>\n",
       "      <td>5.100000e+01</td>\n",
       "      <td>5.330000e+01</td>\n",
       "      <td>5.380000e+01</td>\n",
       "      <td>5.100000e+01</td>\n",
       "      <td>4.850000e+01</td>\n",
       "      <td>4.780000e+01</td>\n",
       "      <td>4.640000e+01</td>\n",
       "      <td>4.630000e+01</td>\n",
       "      <td>...</td>\n",
       "      <td>4.180000e+01</td>\n",
       "      <td>NaN</td>\n",
       "      <td>4.230000e+01</td>\n",
       "      <td>4.140000e+01</td>\n",
       "      <td>4.170000e+01</td>\n",
       "      <td>4.330000e+01</td>\n",
       "      <td>4.270000e+01</td>\n",
       "      <td>4.240000e+01</td>\n",
       "      <td>4.070000e+01</td>\n",
       "      <td>NaN</td>\n",
       "    </tr>\n",
       "    <tr>\n",
       "      <th>10</th>\n",
       "      <td>Life expectancy at birth, total (years)</td>\n",
       "      <td>7.372200e+01</td>\n",
       "      <td>7.392600e+01</td>\n",
       "      <td>7.418600e+01</td>\n",
       "      <td>7.440800e+01</td>\n",
       "      <td>7.408000e+01</td>\n",
       "      <td>7.485500e+01</td>\n",
       "      <td>7.513900e+01</td>\n",
       "      <td>7.543300e+01</td>\n",
       "      <td>7.500600e+01</td>\n",
       "      <td>...</td>\n",
       "      <td>7.675500e+01</td>\n",
       "      <td>7.676000e+01</td>\n",
       "      <td>7.630800e+01</td>\n",
       "      <td>7.683300e+01</td>\n",
       "      <td>7.699900e+01</td>\n",
       "      <td>7.728400e+01</td>\n",
       "      <td>7.589200e+01</td>\n",
       "      <td>7.539000e+01</td>\n",
       "      <td>7.606400e+01</td>\n",
       "      <td>NaN</td>\n",
       "    </tr>\n",
       "    <tr>\n",
       "      <th>11</th>\n",
       "      <td>School enrollment, primary (% gross)</td>\n",
       "      <td>1.166008e+02</td>\n",
       "      <td>1.172812e+02</td>\n",
       "      <td>1.173070e+02</td>\n",
       "      <td>1.172992e+02</td>\n",
       "      <td>1.146766e+02</td>\n",
       "      <td>1.156679e+02</td>\n",
       "      <td>1.147448e+02</td>\n",
       "      <td>1.163161e+02</td>\n",
       "      <td>1.173506e+02</td>\n",
       "      <td>...</td>\n",
       "      <td>1.139619e+02</td>\n",
       "      <td>1.137782e+02</td>\n",
       "      <td>1.129443e+02</td>\n",
       "      <td>1.116815e+02</td>\n",
       "      <td>1.115456e+02</td>\n",
       "      <td>1.113653e+02</td>\n",
       "      <td>1.106178e+02</td>\n",
       "      <td>1.101561e+02</td>\n",
       "      <td>1.087224e+02</td>\n",
       "      <td>NaN</td>\n",
       "    </tr>\n",
       "    <tr>\n",
       "      <th>12</th>\n",
       "      <td>Labor force participation rate, total (% of to...</td>\n",
       "      <td>6.040000e+01</td>\n",
       "      <td>5.772000e+01</td>\n",
       "      <td>5.680000e+01</td>\n",
       "      <td>5.790000e+01</td>\n",
       "      <td>6.025000e+01</td>\n",
       "      <td>6.194300e+01</td>\n",
       "      <td>6.151100e+01</td>\n",
       "      <td>6.179500e+01</td>\n",
       "      <td>6.100000e+01</td>\n",
       "      <td>...</td>\n",
       "      <td>5.944400e+01</td>\n",
       "      <td>NaN</td>\n",
       "      <td>NaN</td>\n",
       "      <td>5.880800e+01</td>\n",
       "      <td>5.959500e+01</td>\n",
       "      <td>6.028900e+01</td>\n",
       "      <td>5.602300e+01</td>\n",
       "      <td>6.035800e+01</td>\n",
       "      <td>6.148400e+01</td>\n",
       "      <td>6.228600e+01</td>\n",
       "    </tr>\n",
       "    <tr>\n",
       "      <th>13</th>\n",
       "      <td>Unemployment, total (% of total labor force) (...</td>\n",
       "      <td>1.405000e+01</td>\n",
       "      <td>1.500000e+01</td>\n",
       "      <td>1.732000e+01</td>\n",
       "      <td>1.959000e+01</td>\n",
       "      <td>1.536000e+01</td>\n",
       "      <td>1.352200e+01</td>\n",
       "      <td>1.150600e+01</td>\n",
       "      <td>1.007800e+01</td>\n",
       "      <td>8.470000e+00</td>\n",
       "      <td>...</td>\n",
       "      <td>7.268000e+00</td>\n",
       "      <td>NaN</td>\n",
       "      <td>NaN</td>\n",
       "      <td>8.347000e+00</td>\n",
       "      <td>9.221000e+00</td>\n",
       "      <td>9.843000e+00</td>\n",
       "      <td>1.146100e+01</td>\n",
       "      <td>8.736000e+00</td>\n",
       "      <td>6.805000e+00</td>\n",
       "      <td>6.139000e+00</td>\n",
       "    </tr>\n",
       "  </tbody>\n",
       "</table>\n",
       "<p>14 rows × 26 columns</p>\n",
       "</div>"
      ],
      "text/plain": [
       "                                          Series Name          1999  \\\n",
       "0                                   GDP (current US$)  2.835230e+11   \n",
       "1                               GDP growth (annual %) -3.385457e+00   \n",
       "2                        GDP per capita (current US$)  7.705543e+03   \n",
       "3       GDP per capita, PPP (current international $)  1.146385e+04   \n",
       "4                                   Population, total  3.679468e+07   \n",
       "5                        Population growth (annual %)  1.153043e+00   \n",
       "6            Urban population (% of total population)  8.895200e+01   \n",
       "7   Age dependency ratio (% of working-age populat...  6.122369e+01   \n",
       "8   Poverty headcount ratio at national poverty li...           NaN   \n",
       "9                                          Gini index  4.980000e+01   \n",
       "10            Life expectancy at birth, total (years)  7.372200e+01   \n",
       "11               School enrollment, primary (% gross)  1.166008e+02   \n",
       "12  Labor force participation rate, total (% of to...  6.040000e+01   \n",
       "13  Unemployment, total (% of total labor force) (...  1.405000e+01   \n",
       "\n",
       "            2000          2001          2002          2003          2004  \\\n",
       "0   2.842038e+11  2.686968e+11  9.772400e+10  1.275870e+11  1.646579e+11   \n",
       "1  -7.889989e-01 -4.408840e+00 -1.089448e+01  8.837041e+00  9.029573e+00   \n",
       "2   7.637015e+03  7.141475e+03  2.569700e+03  3.320478e+03  4.242021e+03   \n",
       "3   1.149998e+04  1.111775e+04  9.953465e+03  1.093339e+04  1.211768e+04   \n",
       "4   3.721398e+07  3.762482e+07  3.802935e+07  3.842428e+07  3.881592e+07   \n",
       "5   1.133128e+00  1.097947e+00  1.069413e+00  1.033140e+00  1.014077e+00   \n",
       "6   8.914200e+01  8.932900e+01  8.951000e+01  8.968600e+01  8.986000e+01   \n",
       "7   6.083994e+01  6.044209e+01  6.001002e+01  5.951577e+01  5.899088e+01   \n",
       "8            NaN           NaN           NaN           NaN           NaN   \n",
       "9   5.100000e+01  5.330000e+01  5.380000e+01  5.100000e+01  4.850000e+01   \n",
       "10  7.392600e+01  7.418600e+01  7.440800e+01  7.408000e+01  7.485500e+01   \n",
       "11  1.172812e+02  1.173070e+02  1.172992e+02  1.146766e+02  1.156679e+02   \n",
       "12  5.772000e+01  5.680000e+01  5.790000e+01  6.025000e+01  6.194300e+01   \n",
       "13  1.500000e+01  1.732000e+01  1.959000e+01  1.536000e+01  1.352200e+01   \n",
       "\n",
       "            2005          2006          2007  ...          2014          2015  \\\n",
       "0   1.987371e+11  2.325573e+11  2.875305e+11  ...  5.263197e+11  5.947493e+11   \n",
       "1   8.851660e+00  8.047152e+00  9.007651e+00  ... -2.512615e+00  2.731160e+00   \n",
       "2   5.067653e+03  5.869380e+03  7.185252e+03  ...  1.223314e+04  1.367963e+04   \n",
       "3   1.346481e+04  1.484358e+04  1.645511e+04  ...  1.948742e+04  1.989915e+04   \n",
       "4   3.921679e+07  3.962212e+07  4.001676e+07  ...  4.302407e+07  4.347701e+07   \n",
       "5   1.027458e+00  1.028248e+00  9.911019e-01  ...  1.031744e+00  1.047259e+00   \n",
       "6   9.003100e+01  9.020000e+01  9.036600e+01  ...  9.137700e+01  9.150300e+01   \n",
       "7   5.848853e+01  5.800035e+01  5.750504e+01  ...  5.602564e+01  5.605229e+01   \n",
       "8            NaN           NaN           NaN  ...           NaN           NaN   \n",
       "9   4.780000e+01  4.640000e+01  4.630000e+01  ...  4.180000e+01           NaN   \n",
       "10  7.513900e+01  7.543300e+01  7.500600e+01  ...  7.675500e+01  7.676000e+01   \n",
       "11  1.147448e+02  1.163161e+02  1.173506e+02  ...  1.139619e+02  1.137782e+02   \n",
       "12  6.151100e+01  6.179500e+01  6.100000e+01  ...  5.944400e+01           NaN   \n",
       "13  1.150600e+01  1.007800e+01  8.470000e+00  ...  7.268000e+00           NaN   \n",
       "\n",
       "            2016          2017          2018          2019          2020  \\\n",
       "0   5.575323e+11  6.436284e+11  5.248199e+11  4.477547e+11  3.857405e+11   \n",
       "1  -2.080328e+00  2.818503e+00 -2.617396e+00 -2.000861e+00 -9.900485e+00   \n",
       "2   1.269996e+04  1.453250e+04  1.175280e+04  9.955975e+03  8.535599e+03   \n",
       "3   2.010576e+04  2.338507e+04  2.441039e+04  2.351683e+04  2.239335e+04   \n",
       "4   4.390031e+07  4.428889e+07  4.465488e+07  4.497346e+07  4.519196e+07   \n",
       "5   9.689111e-01  8.812496e-01  8.229695e-01  7.109009e-01  4.846656e-01   \n",
       "6   9.162700e+01  9.174900e+01  9.187000e+01  9.199100e+01  9.211100e+01   \n",
       "7   5.604617e+01  5.597280e+01  5.585293e+01  5.559318e+01  5.502080e+01   \n",
       "8   3.030000e+01  2.570000e+01  3.200000e+01  3.550000e+01  4.200000e+01   \n",
       "9   4.230000e+01  4.140000e+01  4.170000e+01  4.330000e+01  4.270000e+01   \n",
       "10  7.630800e+01  7.683300e+01  7.699900e+01  7.728400e+01  7.589200e+01   \n",
       "11  1.129443e+02  1.116815e+02  1.115456e+02  1.113653e+02  1.106178e+02   \n",
       "12           NaN  5.880800e+01  5.959500e+01  6.028900e+01  5.602300e+01   \n",
       "13           NaN  8.347000e+00  9.221000e+00  9.843000e+00  1.146100e+01   \n",
       "\n",
       "            2021          2022          2023  \n",
       "0   4.865641e+11  6.327901e+11  6.460753e+11  \n",
       "1   1.044181e+01  5.269880e+00 -1.611002e+00  \n",
       "2   1.073802e+04  1.393568e+04  1.418748e+04  \n",
       "3   2.630027e+04  2.959769e+04  3.008230e+04  \n",
       "4   4.531228e+07  4.540790e+07  4.553840e+07  \n",
       "5   2.658794e-01  2.108087e-01  2.869761e-01  \n",
       "6   9.222900e+01  9.234700e+01  9.246300e+01  \n",
       "7   5.421952e+01  5.333855e+01  5.242434e+01  \n",
       "8   3.730000e+01  3.920000e+01           NaN  \n",
       "9   4.240000e+01  4.070000e+01           NaN  \n",
       "10  7.539000e+01  7.606400e+01           NaN  \n",
       "11  1.101561e+02  1.087224e+02           NaN  \n",
       "12  6.035800e+01  6.148400e+01  6.228600e+01  \n",
       "13  8.736000e+00  6.805000e+00  6.139000e+00  \n",
       "\n",
       "[14 rows x 26 columns]"
      ]
     },
     "execution_count": 92,
     "metadata": {},
     "output_type": "execute_result"
    }
   ],
   "source": [
    "df_data"
   ]
  },
  {
   "cell_type": "code",
   "execution_count": 93,
   "metadata": {},
   "outputs": [
    {
     "name": "stderr",
     "output_type": "stream",
     "text": [
      "<>:7: SyntaxWarning:\n",
      "\n",
      "invalid escape sequence '\\['\n",
      "\n",
      "<>:7: SyntaxWarning:\n",
      "\n",
      "invalid escape sequence '\\]'\n",
      "\n",
      "<>:7: SyntaxWarning:\n",
      "\n",
      "invalid escape sequence '\\['\n",
      "\n",
      "<>:7: SyntaxWarning:\n",
      "\n",
      "invalid escape sequence '\\]'\n",
      "\n",
      "C:\\Users\\Usuario\\AppData\\Local\\Temp\\ipykernel_8340\\2231128745.py:7: SyntaxWarning:\n",
      "\n",
      "invalid escape sequence '\\['\n",
      "\n",
      "C:\\Users\\Usuario\\AppData\\Local\\Temp\\ipykernel_8340\\2231128745.py:7: SyntaxWarning:\n",
      "\n",
      "invalid escape sequence '\\]'\n",
      "\n"
     ]
    }
   ],
   "source": [
    "df_data = pd.melt(df_data, \n",
    "                      id_vars=['Series Name'], \n",
    "                      var_name='Year', \n",
    "                      value_name='Value')\n",
    "\n",
    "\n",
    "df_data['Year'] = df_data['Year'].str.replace('\\[YR', '').str.replace('\\]', '').astype(int)\n",
    "\n",
    "df_data = df_data.rename(columns={'Series Name': 'Indicator'})\n"
   ]
  },
  {
   "cell_type": "code",
   "execution_count": 94,
   "metadata": {},
   "outputs": [
    {
     "data": {
      "text/plain": [
       "16                 GDP per capita (current US$)\n",
       "197                       GDP growth (annual %)\n",
       "62     Urban population (% of total population)\n",
       "67         School enrollment, primary (% gross)\n",
       "326                           Population, total\n",
       "Name: Indicator, dtype: object"
      ]
     },
     "execution_count": 94,
     "metadata": {},
     "output_type": "execute_result"
    }
   ],
   "source": [
    "df_data[\"Indicator\"].sample(5)"
   ]
  },
  {
   "cell_type": "markdown",
   "metadata": {},
   "source": [
    "Renombraremos algunos indicadores para evitar que se superpongan con otras gráficos y sea más legible"
   ]
  },
  {
   "cell_type": "code",
   "execution_count": 95,
   "metadata": {},
   "outputs": [],
   "source": [
    "df_data['Indicator'] = df_data['Indicator'].replace({\n",
    "    'Age dependency ratio (% of working-age population)': 'Age Dependency Ratio',\n",
    "    'Labor force participation rate, total (% of total population ages 15+) (national estimate)': 'Labor Force Participation',\n",
    "    'Unemployment, total (% of total labor force) (national estimate)': 'Unemployment Rate',\n",
    "    'Poverty headcount ratio at national poverty lines (% of population)': 'National Poverty Rate'\n",
    "})"
   ]
  },
  {
   "cell_type": "code",
   "execution_count": 96,
   "metadata": {},
   "outputs": [
    {
     "name": "stderr",
     "output_type": "stream",
     "text": [
      "<>:11: SyntaxWarning:\n",
      "\n",
      "invalid escape sequence '\\['\n",
      "\n",
      "<>:11: SyntaxWarning:\n",
      "\n",
      "invalid escape sequence '\\]'\n",
      "\n",
      "<>:11: SyntaxWarning:\n",
      "\n",
      "invalid escape sequence '\\['\n",
      "\n",
      "<>:11: SyntaxWarning:\n",
      "\n",
      "invalid escape sequence '\\]'\n",
      "\n",
      "C:\\Users\\Usuario\\AppData\\Local\\Temp\\ipykernel_8340\\1079837996.py:11: SyntaxWarning:\n",
      "\n",
      "invalid escape sequence '\\['\n",
      "\n",
      "C:\\Users\\Usuario\\AppData\\Local\\Temp\\ipykernel_8340\\1079837996.py:11: SyntaxWarning:\n",
      "\n",
      "invalid escape sequence '\\]'\n",
      "\n"
     ]
    }
   ],
   "source": [
    "df_copy.drop(['Country Code','Country Name','Series Code',], axis=1, inplace=True)\n",
    "df_copy[columns] = df_copy[columns].astype(float)\n",
    "df_copy.columns = df_copy.columns.str.replace(pat_years,'', regex=True, )\n",
    "\n",
    "df_copy = pd.melt(df_copy, \n",
    "                      id_vars=['Series Name'], \n",
    "                      var_name='Year', \n",
    "                      value_name='Value')\n",
    "\n",
    "\n",
    "df_copy['Year'] = df_copy['Year'].str.replace('\\[YR', '').str.replace('\\]', '').astype(int)\n",
    "\n",
    "df_copy = df_copy.rename(columns={'Series Name': 'Indicator'})\n",
    "\n",
    "df_copy['Indicator'] = df_copy['Indicator'].replace({\n",
    "    'Age dependency ratio (% of working-age population)': 'Age Dependency Ratio',\n",
    "    'Labor force participation rate, total (% of total population ages 15+) (national estimate)': 'Labor Force Participation',\n",
    "    'Unemployment, total (% of total labor force) (national estimate)': 'Unemployment Rate',\n",
    "    'Poverty headcount ratio at national poverty lines (% of population)': 'National Poverty Rate'\n",
    "})"
   ]
  },
  {
   "cell_type": "markdown",
   "metadata": {},
   "source": [
    "**ADVERTENCIA:** Los valores faltantes en este DataFrame fueron imputados con estimaciones basadas en una investigación en línea en fuentes como el Banco Mundial, INDEC, y Statista, hasta febrero de 2025. Los datos para algunos años (2015, 2016) son exactos según el Banco Mundial, pero las estimaciones para otros años, especialmente 2023, son aproximaciones derivadas de tendencias y proyecciones, no datos oficiales finales. Estas imputaciones deben usarse con precaución, ya que podrían no ser precisas. Se recomienda verificar actualizaciones en **data.worldbank.org** o fuentes oficiales para mayor exactitud."
   ]
  },
  {
   "cell_type": "code",
   "execution_count": 97,
   "metadata": {},
   "outputs": [],
   "source": [
    "poverty_imputations = {\n",
    "    1999: 36.0,  # Estimación aproximada: 35-37%\n",
    "    2000: 36.5,  # Estimación aproximada: 35-38%\n",
    "    2001: 39.0,  # Estimación aproximada: 38-40%\n",
    "    2002: 53.0,  # Dato exacto histórico\n",
    "    2003: 48.5,  # Estimación aproximada: 47-50%\n",
    "    2004: 43.5,  # Estimación aproximada: 42-45%\n",
    "    2005: 39.5,  # Estimación aproximada: 38-41%\n",
    "    2006: 26.5,  # Estimación aproximada: 25-28%\n",
    "    2007: 23.5,  # Estimación aproximada: 22-25%\n",
    "    2008: 21.5,  # Estimación aproximada: 20-23%\n",
    "    2009: 24.5,  # Estimación aproximada: 23-26%\n",
    "    2010: 21.5,  # Estimación aproximada: 20-23%\n",
    "    2011: 19.5,  # Estimación aproximada: 18-21%\n",
    "    2012: 20.0,  # Estimación aproximada: 18-22%\n",
    "    2013: 29.8,  # Dato exacto.\n",
    "    2014: 28.5,  # Estimación aproximada: 27-30%\n",
    "    2015: 32.2,  # Dato exacto.\n",
    "    2023: 41.0   # Estimación aproximada: 40-42%\n",
    "}\n",
    "\n",
    "mask_poverty = (df_data['Indicator'] == 'National Poverty Rate') & (df_data['Value'].isna())\n",
    "for year, value in poverty_imputations.items():\n",
    "    df_data.loc[mask_poverty & (df_data['Year'] == year), 'Value'] = value\n",
    "\n",
    "gini_imputations = {\n",
    "    2015: 42.4,  # Dato exacto del Banco Mundial\n",
    "    2023: 41.0   # Estimación aproximada: 40-42%\n",
    "}\n",
    "\n",
    "mask_gini = (df_data['Indicator'] == 'Gini index') & (df_data['Value'].isna())\n",
    "for year, value in gini_imputations.items():\n",
    "    df_data.loc[mask_gini & (df_data['Year'] == year), 'Value'] = value\n",
    "\n",
    "imputations = {\n",
    "    ('Labor Force Participation', 2015): 60.5,  # Dato exacto del Banco Mundial\n",
    "    ('Labor Force Participation', 2016): 60.6,  # Dato exacto del Banco Mundial\n",
    "    ('Unemployment Rate', 2015): 6.5,  # Dato exacto del Banco Mundial\n",
    "    ('Unemployment Rate', 2016): 8.5,  # Dato exacto del Banco Mundial\n",
    "    ('Life expectancy at birth, total (years)', 2023): 74.5,  # Estimación aproximada: 74-75 años\n",
    "    ('School enrollment, primary (% gross)', 2023): 110.0  # Estimación aproximada: ~110%\n",
    "}\n",
    "\n",
    "for (indicator, year), value in imputations.items():\n",
    "    mask = (df_data['Indicator'] == indicator) & (df_data['Year'] == year) & (df_data['Value'].isna())\n",
    "    df_data.loc[mask, 'Value'] = value"
   ]
  },
  {
   "cell_type": "code",
   "execution_count": 98,
   "metadata": {},
   "outputs": [
    {
     "data": {
      "text/html": [
       "<div>\n",
       "<style scoped>\n",
       "    .dataframe tbody tr th:only-of-type {\n",
       "        vertical-align: middle;\n",
       "    }\n",
       "\n",
       "    .dataframe tbody tr th {\n",
       "        vertical-align: top;\n",
       "    }\n",
       "\n",
       "    .dataframe thead th {\n",
       "        text-align: right;\n",
       "    }\n",
       "</style>\n",
       "<table border=\"1\" class=\"dataframe\">\n",
       "  <thead>\n",
       "    <tr style=\"text-align: right;\">\n",
       "      <th></th>\n",
       "      <th>Indicator</th>\n",
       "      <th>Year</th>\n",
       "      <th>Value</th>\n",
       "    </tr>\n",
       "  </thead>\n",
       "  <tbody>\n",
       "    <tr>\n",
       "      <th>0</th>\n",
       "      <td>GDP (current US$)</td>\n",
       "      <td>1999</td>\n",
       "      <td>2.835230e+11</td>\n",
       "    </tr>\n",
       "    <tr>\n",
       "      <th>1</th>\n",
       "      <td>GDP growth (annual %)</td>\n",
       "      <td>1999</td>\n",
       "      <td>-3.385457e+00</td>\n",
       "    </tr>\n",
       "    <tr>\n",
       "      <th>2</th>\n",
       "      <td>GDP per capita (current US$)</td>\n",
       "      <td>1999</td>\n",
       "      <td>7.705543e+03</td>\n",
       "    </tr>\n",
       "    <tr>\n",
       "      <th>3</th>\n",
       "      <td>GDP per capita, PPP (current international $)</td>\n",
       "      <td>1999</td>\n",
       "      <td>1.146385e+04</td>\n",
       "    </tr>\n",
       "    <tr>\n",
       "      <th>4</th>\n",
       "      <td>Population, total</td>\n",
       "      <td>1999</td>\n",
       "      <td>3.679468e+07</td>\n",
       "    </tr>\n",
       "    <tr>\n",
       "      <th>...</th>\n",
       "      <td>...</td>\n",
       "      <td>...</td>\n",
       "      <td>...</td>\n",
       "    </tr>\n",
       "    <tr>\n",
       "      <th>345</th>\n",
       "      <td>Gini index</td>\n",
       "      <td>2023</td>\n",
       "      <td>4.100000e+01</td>\n",
       "    </tr>\n",
       "    <tr>\n",
       "      <th>346</th>\n",
       "      <td>Life expectancy at birth, total (years)</td>\n",
       "      <td>2023</td>\n",
       "      <td>7.450000e+01</td>\n",
       "    </tr>\n",
       "    <tr>\n",
       "      <th>347</th>\n",
       "      <td>School enrollment, primary (% gross)</td>\n",
       "      <td>2023</td>\n",
       "      <td>1.100000e+02</td>\n",
       "    </tr>\n",
       "    <tr>\n",
       "      <th>348</th>\n",
       "      <td>Labor Force Participation</td>\n",
       "      <td>2023</td>\n",
       "      <td>6.228600e+01</td>\n",
       "    </tr>\n",
       "    <tr>\n",
       "      <th>349</th>\n",
       "      <td>Unemployment Rate</td>\n",
       "      <td>2023</td>\n",
       "      <td>6.139000e+00</td>\n",
       "    </tr>\n",
       "  </tbody>\n",
       "</table>\n",
       "<p>350 rows × 3 columns</p>\n",
       "</div>"
      ],
      "text/plain": [
       "                                         Indicator  Year         Value\n",
       "0                                GDP (current US$)  1999  2.835230e+11\n",
       "1                            GDP growth (annual %)  1999 -3.385457e+00\n",
       "2                     GDP per capita (current US$)  1999  7.705543e+03\n",
       "3    GDP per capita, PPP (current international $)  1999  1.146385e+04\n",
       "4                                Population, total  1999  3.679468e+07\n",
       "..                                             ...   ...           ...\n",
       "345                                     Gini index  2023  4.100000e+01\n",
       "346        Life expectancy at birth, total (years)  2023  7.450000e+01\n",
       "347           School enrollment, primary (% gross)  2023  1.100000e+02\n",
       "348                      Labor Force Participation  2023  6.228600e+01\n",
       "349                              Unemployment Rate  2023  6.139000e+00\n",
       "\n",
       "[350 rows x 3 columns]"
      ]
     },
     "execution_count": 98,
     "metadata": {},
     "output_type": "execute_result"
    }
   ],
   "source": [
    "df_data"
   ]
  },
  {
   "cell_type": "markdown",
   "metadata": {},
   "source": [
    "¡Todo listo para nuestro análisis!"
   ]
  },
  {
   "cell_type": "markdown",
   "metadata": {},
   "source": [
    "# Analisis de Correlaciones"
   ]
  },
  {
   "cell_type": "code",
   "execution_count": 99,
   "metadata": {},
   "outputs": [
    {
     "data": {
      "text/html": [
       "<div>\n",
       "<style scoped>\n",
       "    .dataframe tbody tr th:only-of-type {\n",
       "        vertical-align: middle;\n",
       "    }\n",
       "\n",
       "    .dataframe tbody tr th {\n",
       "        vertical-align: top;\n",
       "    }\n",
       "\n",
       "    .dataframe thead th {\n",
       "        text-align: right;\n",
       "    }\n",
       "</style>\n",
       "<table border=\"1\" class=\"dataframe\">\n",
       "  <thead>\n",
       "    <tr style=\"text-align: right;\">\n",
       "      <th></th>\n",
       "      <th>Year</th>\n",
       "      <th>Age Dependency Ratio</th>\n",
       "      <th>GDP (current US$)</th>\n",
       "      <th>GDP growth (annual %)</th>\n",
       "      <th>GDP per capita (current US$)</th>\n",
       "      <th>GDP per capita, PPP (current international $)</th>\n",
       "      <th>Gini index</th>\n",
       "      <th>Labor Force Participation</th>\n",
       "      <th>Life expectancy at birth, total (years)</th>\n",
       "      <th>National Poverty Rate</th>\n",
       "      <th>Population growth (annual %)</th>\n",
       "      <th>Population, total</th>\n",
       "      <th>School enrollment, primary (% gross)</th>\n",
       "      <th>Unemployment Rate</th>\n",
       "      <th>Urban population (% of total population)</th>\n",
       "    </tr>\n",
       "  </thead>\n",
       "  <tbody>\n",
       "    <tr>\n",
       "      <th>0</th>\n",
       "      <td>1999</td>\n",
       "      <td>61.223691</td>\n",
       "      <td>2.835230e+11</td>\n",
       "      <td>-3.385457</td>\n",
       "      <td>7705.542883</td>\n",
       "      <td>11463.853308</td>\n",
       "      <td>49.8</td>\n",
       "      <td>60.40</td>\n",
       "      <td>73.722</td>\n",
       "      <td>36.0</td>\n",
       "      <td>1.153043</td>\n",
       "      <td>36794682.0</td>\n",
       "      <td>116.600754</td>\n",
       "      <td>14.05</td>\n",
       "      <td>88.952</td>\n",
       "    </tr>\n",
       "    <tr>\n",
       "      <th>1</th>\n",
       "      <td>2000</td>\n",
       "      <td>60.839942</td>\n",
       "      <td>2.842038e+11</td>\n",
       "      <td>-0.788999</td>\n",
       "      <td>7637.014892</td>\n",
       "      <td>11499.982800</td>\n",
       "      <td>51.0</td>\n",
       "      <td>57.72</td>\n",
       "      <td>73.926</td>\n",
       "      <td>36.5</td>\n",
       "      <td>1.133128</td>\n",
       "      <td>37213984.0</td>\n",
       "      <td>117.281174</td>\n",
       "      <td>15.00</td>\n",
       "      <td>89.142</td>\n",
       "    </tr>\n",
       "    <tr>\n",
       "      <th>2</th>\n",
       "      <td>2001</td>\n",
       "      <td>60.442089</td>\n",
       "      <td>2.686968e+11</td>\n",
       "      <td>-4.408840</td>\n",
       "      <td>7141.475077</td>\n",
       "      <td>11117.754923</td>\n",
       "      <td>53.3</td>\n",
       "      <td>56.80</td>\n",
       "      <td>74.186</td>\n",
       "      <td>39.0</td>\n",
       "      <td>1.097947</td>\n",
       "      <td>37624825.0</td>\n",
       "      <td>117.307037</td>\n",
       "      <td>17.32</td>\n",
       "      <td>89.329</td>\n",
       "    </tr>\n",
       "    <tr>\n",
       "      <th>3</th>\n",
       "      <td>2002</td>\n",
       "      <td>60.010018</td>\n",
       "      <td>9.772400e+10</td>\n",
       "      <td>-10.894485</td>\n",
       "      <td>2569.699635</td>\n",
       "      <td>9953.464929</td>\n",
       "      <td>53.8</td>\n",
       "      <td>57.90</td>\n",
       "      <td>74.408</td>\n",
       "      <td>53.0</td>\n",
       "      <td>1.069413</td>\n",
       "      <td>38029349.0</td>\n",
       "      <td>117.299240</td>\n",
       "      <td>19.59</td>\n",
       "      <td>89.510</td>\n",
       "    </tr>\n",
       "    <tr>\n",
       "      <th>4</th>\n",
       "      <td>2003</td>\n",
       "      <td>59.515772</td>\n",
       "      <td>1.275870e+11</td>\n",
       "      <td>8.837041</td>\n",
       "      <td>3320.477751</td>\n",
       "      <td>10933.392549</td>\n",
       "      <td>51.0</td>\n",
       "      <td>60.25</td>\n",
       "      <td>74.080</td>\n",
       "      <td>48.5</td>\n",
       "      <td>1.033140</td>\n",
       "      <td>38424282.0</td>\n",
       "      <td>114.676582</td>\n",
       "      <td>15.36</td>\n",
       "      <td>89.686</td>\n",
       "    </tr>\n",
       "  </tbody>\n",
       "</table>\n",
       "</div>"
      ],
      "text/plain": [
       "   Year  Age Dependency Ratio  GDP (current US$)  GDP growth (annual %)  \\\n",
       "0  1999             61.223691       2.835230e+11              -3.385457   \n",
       "1  2000             60.839942       2.842038e+11              -0.788999   \n",
       "2  2001             60.442089       2.686968e+11              -4.408840   \n",
       "3  2002             60.010018       9.772400e+10             -10.894485   \n",
       "4  2003             59.515772       1.275870e+11               8.837041   \n",
       "\n",
       "   GDP per capita (current US$)  \\\n",
       "0                   7705.542883   \n",
       "1                   7637.014892   \n",
       "2                   7141.475077   \n",
       "3                   2569.699635   \n",
       "4                   3320.477751   \n",
       "\n",
       "   GDP per capita, PPP (current international $)  Gini index  \\\n",
       "0                                   11463.853308        49.8   \n",
       "1                                   11499.982800        51.0   \n",
       "2                                   11117.754923        53.3   \n",
       "3                                    9953.464929        53.8   \n",
       "4                                   10933.392549        51.0   \n",
       "\n",
       "   Labor Force Participation  Life expectancy at birth, total (years)  \\\n",
       "0                      60.40                                   73.722   \n",
       "1                      57.72                                   73.926   \n",
       "2                      56.80                                   74.186   \n",
       "3                      57.90                                   74.408   \n",
       "4                      60.25                                   74.080   \n",
       "\n",
       "   National Poverty Rate  Population growth (annual %)  Population, total  \\\n",
       "0                   36.0                      1.153043         36794682.0   \n",
       "1                   36.5                      1.133128         37213984.0   \n",
       "2                   39.0                      1.097947         37624825.0   \n",
       "3                   53.0                      1.069413         38029349.0   \n",
       "4                   48.5                      1.033140         38424282.0   \n",
       "\n",
       "   School enrollment, primary (% gross)  Unemployment Rate  \\\n",
       "0                            116.600754              14.05   \n",
       "1                            117.281174              15.00   \n",
       "2                            117.307037              17.32   \n",
       "3                            117.299240              19.59   \n",
       "4                            114.676582              15.36   \n",
       "\n",
       "   Urban population (% of total population)  \n",
       "0                                    88.952  \n",
       "1                                    89.142  \n",
       "2                                    89.329  \n",
       "3                                    89.510  \n",
       "4                                    89.686  "
      ]
     },
     "execution_count": 99,
     "metadata": {},
     "output_type": "execute_result"
    }
   ],
   "source": [
    "df_pivot = df_data.pivot(index='Year', columns='Indicator', values='Value').reset_index()\n",
    "df_pivot.columns.name = None \n",
    "df_pivot.head()"
   ]
  },
  {
   "cell_type": "code",
   "execution_count": 100,
   "metadata": {},
   "outputs": [],
   "source": [
    "def plotCorrelationMatrix(df, graphWidth):\n",
    "    df = df.select_dtypes(include=[np.number])\n",
    "    df = df.dropna(axis=1) # drop columns with NaN\n",
    "    df = df[[col for col in df if df[col].nunique() > 1]] # keep columns where there are more than 1 unique values\n",
    "    if df.shape[1] < 2:\n",
    "        print(f'No correlation plots shown: The number of non-NaN or constant columns ({df.shape[1]}) is less than 2')\n",
    "        return\n",
    "    corr = df.corr()\n",
    "    plt.figure(num=1, figsize=(graphWidth, graphWidth), dpi=80, facecolor='w', edgecolor='k')\n",
    "    corrMat = plt.matshow(corr)\n",
    "    plt.xticks(range(len(corr.columns)), corr.columns, rotation=90)\n",
    "    plt.yticks(range(len(corr.columns)), corr.columns)\n",
    "    plt.gca().xaxis.tick_bottom()\n",
    "    plt.colorbar(corrMat)\n",
    "    plt.title(f'Correlation Matrix', fontsize=15)\n",
    "    plt.show()"
   ]
  },
  {
   "cell_type": "code",
   "execution_count": 101,
   "metadata": {},
   "outputs": [
    {
     "data": {
      "text/plain": [
       "<Figure size 800x800 with 0 Axes>"
      ]
     },
     "metadata": {},
     "output_type": "display_data"
    },
    {
     "data": {
      "image/png": "[encoded data removed]",
      "text/plain": [
       "<Figure size 480x480 with 2 Axes>"
      ]
     },
     "metadata": {},
     "output_type": "display_data"
    }
   ],
   "source": [
    "plotCorrelationMatrix(df_pivot, graphWidth=10)\n"
   ]
  },
  {
   "cell_type": "markdown",
   "metadata": {},
   "source": [
    "**Año (Year)** -> **GDP, GDP per capita, Population y Urban population**: Positiva. Esto indica que, con el tiempo, estos indicadores tienden a aumentar.\n",
    "\n",
    "**National Poverty Rate**: Negativa, sugiriendo que, a lo largo de los años, la pobreza nacional ha disminuido.\n",
    "\n",
    "En otros indicadores la relación varía, pero en general, el tiempo suele influir en la mayoría de las métricas económicas y sociales.\n",
    "\n",
    "**Relación de Dependencia (Age Dependency Ratio)** -> **GDP per capita**: Negativa. Una mayor proporción de población dependiente suele estar asociada con un menor PIB per cápita.\n",
    "\n",
    "**Población total**: Positiva. Un aumento en la población total podría incrementar la razón de dependencia.\n",
    "\n",
    "**PIB (GDP)** -> **GDP per capita**: Alta y positiva, normal, ya que el PIB total y per cápita están estrechamente relacionados.\n",
    "\n",
    "**Población total y Urbanización**: Positiva, reflejando cómo el crecimiento económico suele ir de la mano con el aumento poblacional y la urbanización.\n",
    "\n",
    "**Tasa de pobreza**: Negativa, indicando que un mayor PIB suele coincidir con una reducción de la pobreza.\n",
    "\n",
    "**Crecimiento del PIB (GDP growth)** -> Con otros indicadores donde la relación generalmente es baja o variable, ya que el crecimiento anual puede estar condicionado por múltiples factores.\n",
    "\n",
    "**PIB per cápita (GDP per capita)** -> Correlación con **Pobreza** negativa; a mayor PIB per cápita, menor tasa de pobreza. Correlación con la **esperanza de vida** positiva; mayores ingresos suelen asociarse con una vida más larga.\n",
    "\n",
    "**Participación laboral (Labor Force Participation)** -> Correlación con el **Desempleo** negativa, de esperarse ya que mayor participación suele coincidir con menor desempleo."
   ]
  },
  {
   "cell_type": "code",
   "execution_count": 102,
   "metadata": {},
   "outputs": [],
   "source": [
    "import math\n",
    "\n",
    "def plotPerColumnDistribution(df, nGraphShown, nGraphPerRow):\n",
    "    nunique = df.nunique()\n",
    "    # Filtra las columnas para que tengan entre 2 y 49 valores únicos\n",
    "    df = df[[col for col in df if nunique[col] > 1 and nunique[col] < 50]]\n",
    "    nRow, nCol = df.shape\n",
    "    columnNames = list(df)\n",
    "    # Calcula el número de filas redondeando hacia arriba\n",
    "    nGraphRow = math.ceil((nCol + nGraphPerRow - 1) / nGraphPerRow)\n",
    "    plt.figure(num = None, figsize = (6 * nGraphPerRow, 8 * nGraphRow), dpi = 80, facecolor = 'w', edgecolor = 'k')\n",
    "    for i in range(min(nCol, nGraphShown)):\n",
    "        plt.subplot(nGraphRow, nGraphPerRow, i + 1)\n",
    "        columnDf = df.iloc[:, i]\n",
    "        if (not np.issubdtype(type(columnDf.iloc[0]), np.number)):\n",
    "            valueCounts = columnDf.value_counts()\n",
    "            valueCounts.plot.bar()\n",
    "        else:\n",
    "            columnDf.hist()\n",
    "        plt.ylabel('counts')\n",
    "        plt.xticks(rotation = 90)\n",
    "        plt.title(f'{columnNames[i]}')\n",
    "    plt.tight_layout(pad = 1.0, w_pad = 1.0, h_pad = 1.0)\n",
    "    plt.show()"
   ]
  },
  {
   "cell_type": "code",
   "execution_count": 103,
   "metadata": {},
   "outputs": [
    {
     "data": {
      "image/png": "[encoded data removed]",
      "text/plain": [
       "<Figure size 1440x3840 with 15 Axes>"
      ]
     },
     "metadata": {},
     "output_type": "display_data"
    }
   ],
   "source": [
    "plotPerColumnDistribution(df_pivot, 15, 3)"
   ]
  },
  {
   "cell_type": "markdown",
   "metadata": {},
   "source": [
    "# Evolución de los indicadores a lo largo del tiempo"
   ]
  },
  {
   "cell_type": "code",
   "execution_count": 104,
   "metadata": {},
   "outputs": [
    {
     "data": {
      "image/png": "[encoded data removed]",
      "text/plain": [
       "<Figure size 1200x1200 with 14 Axes>"
      ]
     },
     "metadata": {},
     "output_type": "display_data"
    }
   ],
   "source": [
    "g = sns.FacetGrid(df_data, col=\"Indicator\", col_wrap=4, sharex=False, sharey=False)\n",
    "g.map_dataframe(sns.lineplot, x=\"Year\", y=\"Value\")\n",
    "g.set_titles(\"{col_name}\")\n",
    "g.set_axis_labels(\"Año\", \"Valor\")\n",
    "plt.show()"
   ]
  },
  {
   "cell_type": "markdown",
   "metadata": {},
   "source": [
    "Podemos notar que en el **Producto Interno Bruto, PIB - Current US$** hay un crecimiento géneral con algunas caídas. La economía ha crecido en terminos absolutos, aunque con momentos de crisis que causaron caidas temporales. El **Crecimiento del PIB, % anual** tiene altas fluctuaciones con caídas pronunciadas en ciertos años. Con crisis economicas y recesiones fuertes como el **estallido del 2001** o la **pandemia en el año 2020**. Conviene compararlo con eventos historicos o politicas economicas. El **PBI Per Capita** muestra un crecimiento estable, con algunas caídas. Aunque el PIB total ha crecido, el PIB per cápita indica si el crecimiento beneficia a la población en promedio.\n",
    "\n",
    "El **GDP per capita, PPP (US$ internacionales)** muestra una tendencia similar al PIB per cápita, pero ajustado por poder adquisitivo. Muestra si la gente realmente ha mejorado su nivel de vida considerando el costo de vida. La **población total** muestra un crecimiento constante, lo cual quiere decir que la población ha ido aumentando cada año sin interrupciones. El **crecimiento de la población** muestra una tendencia descendente. Aunque la **población total** crece, la tasa de crecimiento desminuye. Esto podría deberse a menor natalidad, emigración o envejecimiento personal. El **% de población total en zonas urbanas** muestra un crecimiento constante, dando a entender que más personas se han mudado a zonas urbanas, lo que puede afectar vivienda, empleo y transporte en ciudades.\n",
    "\n",
    "La **Relación de dependencia por edad** muestra una tendencia descendente lo cuál indica que hay menos personas dependientes (niños y ancianos) por cada persona en edad productiva, lo cual puede ser positivo para la economía en el corto plazo.\n",
    "\n",
    "La **Tasa de pobreza nacional** muestra fluctuaciones, con picos de aumentos en algunos años. La pobreza ha disminuido en algunos períodos, pero ha tenido momentos de aumento, lo que podría estar relacionado con crisis económicas.\n",
    "\n",
    "El **Índice de Gini/Desigualdad económica** muestra una tendencia descendente, la desigualdad ha disminuido con el tiempo, aunque puede haber variaciones locales.\n",
    "\n",
    "La **Esperanza de vida al nacer** muestra un crecimiento estable hasta una leve caída reciente. La salud y calidad de vida han mejorado, aunque la reciente caída puede estar relacionada con eventos sanitarios como la **pandemia (2020)**.\n",
    "\n",
    "El **School Enrollment, Primary (% Bruto de matrícula escolar primaria)** muestra crecimiento hasta un pico, luego descenso. Esto puede indicar mejoras en acceso a la educación en un período, pero luego caída en la matrícula por cambios demograficos o educativos.\n",
    "\n",
    "La **Participación en la fuerza laboral** muestra una tendencia fluctuante, pero con una reciente caída. Esto podría deberse a **crisis económicas, cambios en la población activa o efectos de la pandemia**.\n",
    "\n",
    "La **Tasa de desempleo** muestra un descenso con picos de aumento en ciertos períodos. El desempleo ha disminuido en general, pero con momentos de crisis en los que aumentó.\n"
   ]
  },
  {
   "cell_type": "code",
   "execution_count": 105,
   "metadata": {},
   "outputs": [
    {
     "data": {
      "application/vnd.plotly.v1+json": {
       "config": {
        "plotlyServerURL": "https://plot.ly"
       },
       "data": [
        {
         "customdata": [
          [
           1999
          ],
          [
           2000
          ],
          [
           2001
          ],
          [
           2002
          ],
          [
           2003
          ],
          [
           2004
          ],
          [
           2005
          ],
          [
           2006
          ],
          [
           2007
          ],
          [
           2008
          ],
          [
           2009
          ],
          [
           2010
          ],
          [
           2011
          ],
          [
           2012
          ],
          [
           2013
          ],
          [
           2014
          ],
          [
           2015
          ],
          [
           2016
          ],
          [
           2017
          ],
          [
           2018
          ],
          [
           2019
          ],
          [
           2020
          ],
          [
           2021
          ],
          [
           2022
          ],
          [
           2023
          ]
         ],
         "hovertemplate": "Radio de Dependencia por Edad (% de población en edad de trabajar)=%{x}<br>PIB per cápita (USD actuales)=%{marker.size}<br>Year=%{marker.color}<extra></extra>",
         "legendgroup": "",
         "marker": {
          "color": [
           1999,
           2000,
           2001,
           2002,
           2003,
           2004,
           2005,
           2006,
           2007,
           2008,
           2009,
           2010,
           2011,
           2012,
           2013,
           2014,
           2015,
           2016,
           2017,
           2018,
           2019,
           2020,
           2021,
           2022,
           2023
          ],
          "coloraxis": "coloraxis",
          "size": [
           7705.54288252851,
           7637.01489203628,
           7141.47507662826,
           2569.69963519124,
           3320.47775133903,
           4242.02099089422,
           5067.65342293276,
           5869.38028970204,
           7185.25155147027,
           8944.1102657357,
           8150.23527028221,
           10260.1313108254,
           12704.2831819684,
           12949.717486654,
           12963.675773326,
           12233.1444119186,
           13679.6264980954,
           12699.9623137756,
           14532.5009308511,
           11752.7998922979,
           9955.97478680428,
           8535.59938004389,
           10738.0179223384,
           13935.6811110049,
           14187.4827252965
          ],
          "sizemode": "area",
          "sizeref": 36.33125232712775,
          "symbol": "circle"
         },
         "mode": "markers",
         "name": "",
         "orientation": "v",
         "showlegend": false,
         "type": "scatter",
         "x": [
          61.2236911618814,
          60.8399424011737,
          60.442088771688,
          60.0100181534326,
          59.5157720560259,
          58.9908808603745,
          58.4885317167095,
          58.0003526705021,
          57.5050434620378,
          57.0741876732807,
          56.735685768345,
          56.452142111234,
          56.2739537637124,
          56.1467747951315,
          56.0487044709811,
          56.0256427923844,
          56.0522891497333,
          56.0461721346243,
          55.9728015245357,
          55.8529254060554,
          55.5931801951266,
          55.0207968902513,
          54.2195244410156,
          53.3385463867822,
          52.4243366823125
         ],
         "xaxis": "x",
         "y": [
          7705.54288252851,
          7637.01489203628,
          7141.47507662826,
          2569.69963519124,
          3320.47775133903,
          4242.02099089422,
          5067.65342293276,
          5869.38028970204,
          7185.25155147027,
          8944.1102657357,
          8150.23527028221,
          10260.1313108254,
          12704.2831819684,
          12949.717486654,
          12963.675773326,
          12233.1444119186,
          13679.6264980954,
          12699.9623137756,
          14532.5009308511,
          11752.7998922979,
          9955.97478680428,
          8535.59938004389,
          10738.0179223384,
          13935.6811110049,
          14187.4827252965
         ],
         "yaxis": "y"
        },
        {
         "hovertemplate": "<b>OLS trendline</b><br>GDP per capita (current US$) = -1196.72 * Age Dependency Ratio + 77738<br>R<sup>2</sup>=0.565843<br><br>Radio de Dependencia por Edad (% de población en edad de trabajar)=%{x}<br>PIB per cápita (USD actuales)=%{y} <b>(trend)</b><extra></extra>",
         "legendgroup": "",
         "marker": {
          "symbol": "circle"
         },
         "mode": "lines",
         "name": "",
         "showlegend": false,
         "type": "scatter",
         "x": [
          52.4243366823125,
          53.3385463867822,
          54.2195244410156,
          55.0207968902513,
          55.5931801951266,
          55.8529254060554,
          55.9728015245357,
          56.0256427923844,
          56.0461721346243,
          56.0487044709811,
          56.0522891497333,
          56.1467747951315,
          56.2739537637124,
          56.452142111234,
          56.735685768345,
          57.0741876732807,
          57.5050434620378,
          58.0003526705021,
          58.4885317167095,
          58.9908808603745,
          59.5157720560259,
          60.0100181534326,
          60.442088771688,
          60.8399424011737,
          61.2236911618814
         ],
         "xaxis": "x",
         "y": [
          15000.470217328439,
          13906.413140632845,
          12852.125191232168,
          11893.222885599753,
          11208.237808084654,
          10897.39437165529,
          10753.935693510706,
          10690.699257987435,
          10666.131292839345,
          10663.100784086055,
          10658.810911491892,
          10545.737632474353,
          10393.539455291917,
          10180.297108773855,
          9840.973490682984,
          9435.87999543875,
          8920.264352309692,
          8327.51572798044,
          7743.299942929778,
          7142.126456243292,
          6513.97634550833,
          5922.499972140984,
          5405.4305128873675,
          4929.309359611769,
          4470.067847218335
         ],
         "yaxis": "y"
        }
       ],
       "layout": {
        "coloraxis": {
         "colorbar": {
          "title": {
           "text": "Year"
          }
         },
         "colorscale": [
          [
           0,
           "#0d0887"
          ],
          [
           0.1111111111111111,
           "#46039f"
          ],
          [
           0.2222222222222222,
           "#7201a8"
          ],
          [
           0.3333333333333333,
           "#9c179e"
          ],
          [
           0.4444444444444444,
           "#bd3786"
          ],
          [
           0.5555555555555556,
           "#d8576b"
          ],
          [
           0.6666666666666666,
           "#ed7953"
          ],
          [
           0.7777777777777778,
           "#fb9f3a"
          ],
          [
           0.8888888888888888,
           "#fdca26"
          ],
          [
           1,
           "#f0f921"
          ]
         ]
        },
        "font": {
         "family": "Arial",
         "size": 12
        },
        "hovermode": "x unified",
        "legend": {
         "itemsizing": "constant",
         "title": {
          "text": "Año"
         },
         "tracegroupgap": 0
        },
        "showlegend": true,
        "template": {
         "data": {
          "bar": [
           {
            "error_x": {
             "color": "#2a3f5f"
            },
            "error_y": {
             "color": "#2a3f5f"
            },
            "marker": {
             "line": {
              "color": "white",
              "width": 0.5
             },
             "pattern": {
              "fillmode": "overlay",
              "size": 10,
              "solidity": 0.2
             }
            },
            "type": "bar"
           }
          ],
          "barpolar": [
           {
            "marker": {
             "line": {
              "color": "white",
              "width": 0.5
             },
             "pattern": {
              "fillmode": "overlay",
              "size": 10,
              "solidity": 0.2
             }
            },
            "type": "barpolar"
           }
          ],
          "carpet": [
           {
            "aaxis": {
             "endlinecolor": "#2a3f5f",
             "gridcolor": "#C8D4E3",
             "linecolor": "#C8D4E3",
             "minorgridcolor": "#C8D4E3",
             "startlinecolor": "#2a3f5f"
            },
            "baxis": {
             "endlinecolor": "#2a3f5f",
             "gridcolor": "#C8D4E3",
             "linecolor": "#C8D4E3",
             "minorgridcolor": "#C8D4E3",
             "startlinecolor": "#2a3f5f"
            },
            "type": "carpet"
           }
          ],
          "choropleth": [
           {
            "colorbar": {
             "outlinewidth": 0,
             "ticks": ""
            },
            "type": "choropleth"
           }
          ],
          "contour": [
           {
            "colorbar": {
             "outlinewidth": 0,
             "ticks": ""
            },
            "colorscale": [
             [
              0,
              "#0d0887"
             ],
             [
              0.1111111111111111,
              "#46039f"
             ],
             [
              0.2222222222222222,
              "#7201a8"
             ],
             [
              0.3333333333333333,
              "#9c179e"
             ],
             [
              0.4444444444444444,
              "#bd3786"
             ],
             [
              0.5555555555555556,
              "#d8576b"
             ],
             [
              0.6666666666666666,
              "#ed7953"
             ],
             [
              0.7777777777777778,
              "#fb9f3a"
             ],
             [
              0.8888888888888888,
              "#fdca26"
             ],
             [
              1,
              "#f0f921"
             ]
            ],
            "type": "contour"
           }
          ],
          "contourcarpet": [
           {
            "colorbar": {
             "outlinewidth": 0,
             "ticks": ""
            },
            "type": "contourcarpet"
           }
          ],
          "heatmap": [
           {
            "colorbar": {
             "outlinewidth": 0,
             "ticks": ""
            },
            "colorscale": [
             [
              0,
              "#0d0887"
             ],
             [
              0.1111111111111111,
              "#46039f"
             ],
             [
              0.2222222222222222,
              "#7201a8"
             ],
             [
              0.3333333333333333,
              "#9c179e"
             ],
             [
              0.4444444444444444,
              "#bd3786"
             ],
             [
              0.5555555555555556,
              "#d8576b"
             ],
             [
              0.6666666666666666,
              "#ed7953"
             ],
             [
              0.7777777777777778,
              "#fb9f3a"
             ],
             [
              0.8888888888888888,
              "#fdca26"
             ],
             [
              1,
              "#f0f921"
             ]
            ],
            "type": "heatmap"
           }
          ],
          "heatmapgl": [
           {
            "colorbar": {
             "outlinewidth": 0,
             "ticks": ""
            },
            "colorscale": [
             [
              0,
              "#0d0887"
             ],
             [
              0.1111111111111111,
              "#46039f"
             ],
             [
              0.2222222222222222,
              "#7201a8"
             ],
             [
              0.3333333333333333,
              "#9c179e"
             ],
             [
              0.4444444444444444,
              "#bd3786"
             ],
             [
              0.5555555555555556,
              "#d8576b"
             ],
             [
              0.6666666666666666,
              "#ed7953"
             ],
             [
              0.7777777777777778,
              "#fb9f3a"
             ],
             [
              0.8888888888888888,
              "#fdca26"
             ],
             [
              1,
              "#f0f921"
             ]
            ],
            "type": "heatmapgl"
           }
          ],
          "histogram": [
           {
            "marker": {
             "pattern": {
              "fillmode": "overlay",
              "size": 10,
              "solidity": 0.2
             }
            },
            "type": "histogram"
           }
          ],
          "histogram2d": [
           {
            "colorbar": {
             "outlinewidth": 0,
             "ticks": ""
            },
            "colorscale": [
             [
              0,
              "#0d0887"
             ],
             [
              0.1111111111111111,
              "#46039f"
             ],
             [
              0.2222222222222222,
              "#7201a8"
             ],
             [
              0.3333333333333333,
              "#9c179e"
             ],
             [
              0.4444444444444444,
              "#bd3786"
             ],
             [
              0.5555555555555556,
              "#d8576b"
             ],
             [
              0.6666666666666666,
              "#ed7953"
             ],
             [
              0.7777777777777778,
              "#fb9f3a"
             ],
             [
              0.8888888888888888,
              "#fdca26"
             ],
             [
              1,
              "#f0f921"
             ]
            ],
            "type": "histogram2d"
           }
          ],
          "histogram2dcontour": [
           {
            "colorbar": {
             "outlinewidth": 0,
             "ticks": ""
            },
            "colorscale": [
             [
              0,
              "#0d0887"
             ],
             [
              0.1111111111111111,
              "#46039f"
             ],
             [
              0.2222222222222222,
              "#7201a8"
             ],
             [
              0.3333333333333333,
              "#9c179e"
             ],
             [
              0.4444444444444444,
              "#bd3786"
             ],
             [
              0.5555555555555556,
              "#d8576b"
             ],
             [
              0.6666666666666666,
              "#ed7953"
             ],
             [
              0.7777777777777778,
              "#fb9f3a"
             ],
             [
              0.8888888888888888,
              "#fdca26"
             ],
             [
              1,
              "#f0f921"
             ]
            ],
            "type": "histogram2dcontour"
           }
          ],
          "mesh3d": [
           {
            "colorbar": {
             "outlinewidth": 0,
             "ticks": ""
            },
            "type": "mesh3d"
           }
          ],
          "parcoords": [
           {
            "line": {
             "colorbar": {
              "outlinewidth": 0,
              "ticks": ""
             }
            },
            "type": "parcoords"
           }
          ],
          "pie": [
           {
            "automargin": true,
            "type": "pie"
           }
          ],
          "scatter": [
           {
            "fillpattern": {
             "fillmode": "overlay",
             "size": 10,
             "solidity": 0.2
            },
            "type": "scatter"
           }
          ],
          "scatter3d": [
           {
            "line": {
             "colorbar": {
              "outlinewidth": 0,
              "ticks": ""
             }
            },
            "marker": {
             "colorbar": {
              "outlinewidth": 0,
              "ticks": ""
             }
            },
            "type": "scatter3d"
           }
          ],
          "scattercarpet": [
           {
            "marker": {
             "colorbar": {
              "outlinewidth": 0,
              "ticks": ""
             }
            },
            "type": "scattercarpet"
           }
          ],
          "scattergeo": [
           {
            "marker": {
             "colorbar": {
              "outlinewidth": 0,
              "ticks": ""
             }
            },
            "type": "scattergeo"
           }
          ],
          "scattergl": [
           {
            "marker": {
             "colorbar": {
              "outlinewidth": 0,
              "ticks": ""
             }
            },
            "type": "scattergl"
           }
          ],
          "scattermapbox": [
           {
            "marker": {
             "colorbar": {
              "outlinewidth": 0,
              "ticks": ""
             }
            },
            "type": "scattermapbox"
           }
          ],
          "scatterpolar": [
           {
            "marker": {
             "colorbar": {
              "outlinewidth": 0,
              "ticks": ""
             }
            },
            "type": "scatterpolar"
           }
          ],
          "scatterpolargl": [
           {
            "marker": {
             "colorbar": {
              "outlinewidth": 0,
              "ticks": ""
             }
            },
            "type": "scatterpolargl"
           }
          ],
          "scatterternary": [
           {
            "marker": {
             "colorbar": {
              "outlinewidth": 0,
              "ticks": ""
             }
            },
            "type": "scatterternary"
           }
          ],
          "surface": [
           {
            "colorbar": {
             "outlinewidth": 0,
             "ticks": ""
            },
            "colorscale": [
             [
              0,
              "#0d0887"
             ],
             [
              0.1111111111111111,
              "#46039f"
             ],
             [
              0.2222222222222222,
              "#7201a8"
             ],
             [
              0.3333333333333333,
              "#9c179e"
             ],
             [
              0.4444444444444444,
              "#bd3786"
             ],
             [
              0.5555555555555556,
              "#d8576b"
             ],
             [
              0.6666666666666666,
              "#ed7953"
             ],
             [
              0.7777777777777778,
              "#fb9f3a"
             ],
             [
              0.8888888888888888,
              "#fdca26"
             ],
             [
              1,
              "#f0f921"
             ]
            ],
            "type": "surface"
           }
          ],
          "table": [
           {
            "cells": {
             "fill": {
              "color": "#EBF0F8"
             },
             "line": {
              "color": "white"
             }
            },
            "header": {
             "fill": {
              "color": "#C8D4E3"
             },
             "line": {
              "color": "white"
             }
            },
            "type": "table"
           }
          ]
         },
         "layout": {
          "annotationdefaults": {
           "arrowcolor": "#2a3f5f",
           "arrowhead": 0,
           "arrowwidth": 1
          },
          "autotypenumbers": "strict",
          "coloraxis": {
           "colorbar": {
            "outlinewidth": 0,
            "ticks": ""
           }
          },
          "colorscale": {
           "diverging": [
            [
             0,
             "#8e0152"
            ],
            [
             0.1,
             "#c51b7d"
            ],
            [
             0.2,
             "#de77ae"
            ],
            [
             0.3,
             "#f1b6da"
            ],
            [
             0.4,
             "#fde0ef"
            ],
            [
             0.5,
             "#f7f7f7"
            ],
            [
             0.6,
             "#e6f5d0"
            ],
            [
             0.7,
             "#b8e186"
            ],
            [
             0.8,
             "#7fbc41"
            ],
            [
             0.9,
             "#4d9221"
            ],
            [
             1,
             "#276419"
            ]
           ],
           "sequential": [
            [
             0,
             "#0d0887"
            ],
            [
             0.1111111111111111,
             "#46039f"
            ],
            [
             0.2222222222222222,
             "#7201a8"
            ],
            [
             0.3333333333333333,
             "#9c179e"
            ],
            [
             0.4444444444444444,
             "#bd3786"
            ],
            [
             0.5555555555555556,
             "#d8576b"
            ],
            [
             0.6666666666666666,
             "#ed7953"
            ],
            [
             0.7777777777777778,
             "#fb9f3a"
            ],
            [
             0.8888888888888888,
             "#fdca26"
            ],
            [
             1,
             "#f0f921"
            ]
           ],
           "sequentialminus": [
            [
             0,
             "#0d0887"
            ],
            [
             0.1111111111111111,
             "#46039f"
            ],
            [
             0.2222222222222222,
             "#7201a8"
            ],
            [
             0.3333333333333333,
             "#9c179e"
            ],
            [
             0.4444444444444444,
             "#bd3786"
            ],
            [
             0.5555555555555556,
             "#d8576b"
            ],
            [
             0.6666666666666666,
             "#ed7953"
            ],
            [
             0.7777777777777778,
             "#fb9f3a"
            ],
            [
             0.8888888888888888,
             "#fdca26"
            ],
            [
             1,
             "#f0f921"
            ]
           ]
          },
          "colorway": [
           "#636efa",
           "#EF553B",
           "#00cc96",
           "#ab63fa",
           "#FFA15A",
           "#19d3f3",
           "#FF6692",
           "#B6E880",
           "#FF97FF",
           "#FECB52"
          ],
          "font": {
           "color": "#2a3f5f"
          },
          "geo": {
           "bgcolor": "white",
           "lakecolor": "white",
           "landcolor": "white",
           "showlakes": true,
           "showland": true,
           "subunitcolor": "#C8D4E3"
          },
          "hoverlabel": {
           "align": "left"
          },
          "hovermode": "closest",
          "mapbox": {
           "style": "light"
          },
          "paper_bgcolor": "white",
          "plot_bgcolor": "white",
          "polar": {
           "angularaxis": {
            "gridcolor": "#EBF0F8",
            "linecolor": "#EBF0F8",
            "ticks": ""
           },
           "bgcolor": "white",
           "radialaxis": {
            "gridcolor": "#EBF0F8",
            "linecolor": "#EBF0F8",
            "ticks": ""
           }
          },
          "scene": {
           "xaxis": {
            "backgroundcolor": "white",
            "gridcolor": "#DFE8F3",
            "gridwidth": 2,
            "linecolor": "#EBF0F8",
            "showbackground": true,
            "ticks": "",
            "zerolinecolor": "#EBF0F8"
           },
           "yaxis": {
            "backgroundcolor": "white",
            "gridcolor": "#DFE8F3",
            "gridwidth": 2,
            "linecolor": "#EBF0F8",
            "showbackground": true,
            "ticks": "",
            "zerolinecolor": "#EBF0F8"
           },
           "zaxis": {
            "backgroundcolor": "white",
            "gridcolor": "#DFE8F3",
            "gridwidth": 2,
            "linecolor": "#EBF0F8",
            "showbackground": true,
            "ticks": "",
            "zerolinecolor": "#EBF0F8"
           }
          },
          "shapedefaults": {
           "line": {
            "color": "#2a3f5f"
           }
          },
          "ternary": {
           "aaxis": {
            "gridcolor": "#DFE8F3",
            "linecolor": "#A2B1C6",
            "ticks": ""
           },
           "baxis": {
            "gridcolor": "#DFE8F3",
            "linecolor": "#A2B1C6",
            "ticks": ""
           },
           "bgcolor": "white",
           "caxis": {
            "gridcolor": "#DFE8F3",
            "linecolor": "#A2B1C6",
            "ticks": ""
           }
          },
          "title": {
           "x": 0.05
          },
          "xaxis": {
           "automargin": true,
           "gridcolor": "#EBF0F8",
           "linecolor": "#EBF0F8",
           "ticks": "",
           "title": {
            "standoff": 15
           },
           "zerolinecolor": "#EBF0F8",
           "zerolinewidth": 2
          },
          "yaxis": {
           "automargin": true,
           "gridcolor": "#EBF0F8",
           "linecolor": "#EBF0F8",
           "ticks": "",
           "title": {
            "standoff": 15
           },
           "zerolinecolor": "#EBF0F8",
           "zerolinewidth": 2
          }
         }
        },
        "title": {
         "font": {
          "size": 20
         },
         "text": "Relación entre Radio de Dependencia por Edad y PIB per cápita"
        },
        "xaxis": {
         "anchor": "y",
         "domain": [
          0,
          1
         ],
         "gridcolor": "lightgray",
         "showgrid": true,
         "title": {
          "text": "Radio de Dependencia por Edad (% de población en edad de trabajar)"
         }
        },
        "yaxis": {
         "anchor": "x",
         "domain": [
          0,
          1
         ],
         "gridcolor": "lightgray",
         "showgrid": true,
         "title": {
          "text": "PIB per cápita (USD actuales)"
         }
        }
       }
      }
     },
     "metadata": {},
     "output_type": "display_data"
    }
   ],
   "source": [
    "fig = px.scatter(df_pivot, \n",
    "                 x='Age Dependency Ratio', \n",
    "                 y='GDP per capita (current US$)', \n",
    "                 color='Year',\n",
    "                 size='GDP per capita (current US$)', \n",
    "                 hover_data=['Year'], \n",
    "                 trendline=\"ols\", # Regresión lineal!!!\n",
    "                 title='Relación entre Radio de Dependencia por Edad y PIB per cápita',\n",
    "                 labels={'Age Dependency Ratio': 'Radio de Dependencia por Edad (% de población en edad de trabajar)',\n",
    "                         'GDP per capita (current US$)': 'PIB per cápita (USD actuales)'},\n",
    "                 template='plotly_white') \n",
    "\n",
    "fig.update_layout(\n",
    "    xaxis_title=\"Radio de Dependencia por Edad (% de población en edad de trabajar)\",\n",
    "    yaxis_title=\"PIB per cápita (USD actuales)\",\n",
    "    xaxis=dict(showgrid=True, gridcolor='lightgray'),\n",
    "    yaxis=dict(showgrid=True, gridcolor='lightgray'),\n",
    "    showlegend=True,\n",
    "    legend_title_text='Año',\n",
    "    hovermode=\"x unified\",\n",
    "    font=dict(size=12, family=\"Arial\"),\n",
    "    title_font_size=20\n",
    ")\n",
    "\n",
    "fig.show()"
   ]
  },
  {
   "cell_type": "markdown",
   "metadata": {},
   "source": [
    "Si hay más personas dependientes en relación con la población trabajadora, la productividad económica por habitante tiende a verse afectada. Pero también otros factores económicos afectan esto. Si la tendencia negativa se mantiene, el país necesitará políticas que aumenten la productividad laboral o incentiven el crecimiento de la población económicamente activa."
   ]
  },
  {
   "cell_type": "code",
   "execution_count": 106,
   "metadata": {},
   "outputs": [
    {
     "data": {
      "application/vnd.plotly.v1+json": {
       "config": {
        "plotlyServerURL": "https://plot.ly"
       },
       "data": [
        {
         "customdata": [
          [
           1999
          ],
          [
           2000
          ],
          [
           2001
          ],
          [
           2002
          ],
          [
           2003
          ],
          [
           2004
          ],
          [
           2005
          ],
          [
           2006
          ],
          [
           2007
          ],
          [
           2008
          ],
          [
           2009
          ],
          [
           2010
          ],
          [
           2011
          ],
          [
           2012
          ],
          [
           2013
          ],
          [
           2014
          ],
          [
           2015
          ],
          [
           2016
          ],
          [
           2017
          ],
          [
           2018
          ],
          [
           2019
          ],
          [
           2020
          ],
          [
           2021
          ],
          [
           2022
          ],
          [
           2023
          ]
         ],
         "hovertemplate": "Radio de Dependencia por Edad (% de población en edad de trabajar)=%{x}<br>Población Total=%{marker.size}<br>Year=%{marker.color}<extra></extra>",
         "legendgroup": "",
         "marker": {
          "color": [
           1999,
           2000,
           2001,
           2002,
           2003,
           2004,
           2005,
           2006,
           2007,
           2008,
           2009,
           2010,
           2011,
           2012,
           2013,
           2014,
           2015,
           2016,
           2017,
           2018,
           2019,
           2020,
           2021,
           2022,
           2023
          ],
          "coloraxis": "coloraxis",
          "size": [
           36794682,
           37213984,
           37624825,
           38029349,
           38424282,
           38815916,
           39216789,
           39622115,
           40016763,
           40424148,
           40854831,
           41288694,
           41730660,
           42161721,
           42582455,
           43024071,
           43477012,
           43900313,
           44288894,
           44654882,
           44973465,
           45191965,
           45312281,
           45407904,
           45538401
          ],
          "sizemode": "area",
          "sizeref": 113846.0025,
          "symbol": "circle"
         },
         "mode": "markers",
         "name": "",
         "orientation": "v",
         "showlegend": false,
         "type": "scatter",
         "x": [
          61.2236911618814,
          60.8399424011737,
          60.442088771688,
          60.0100181534326,
          59.5157720560259,
          58.9908808603745,
          58.4885317167095,
          58.0003526705021,
          57.5050434620378,
          57.0741876732807,
          56.735685768345,
          56.452142111234,
          56.2739537637124,
          56.1467747951315,
          56.0487044709811,
          56.0256427923844,
          56.0522891497333,
          56.0461721346243,
          55.9728015245357,
          55.8529254060554,
          55.5931801951266,
          55.0207968902513,
          54.2195244410156,
          53.3385463867822,
          52.4243366823125
         ],
         "xaxis": "x",
         "y": [
          36794682,
          37213984,
          37624825,
          38029349,
          38424282,
          38815916,
          39216789,
          39622115,
          40016763,
          40424148,
          40854831,
          41288694,
          41730660,
          42161721,
          42582455,
          43024071,
          43477012,
          43900313,
          44288894,
          44654882,
          44973465,
          45191965,
          45312281,
          45407904,
          45538401
         ],
         "yaxis": "y"
        },
        {
         "hovertemplate": "<b>OLS trendline</b><br>Population, total = -1.20782e+06 * Age Dependency Ratio + 1.10434e+08<br>R<sup>2</sup>=0.897970<br><br>Radio de Dependencia por Edad (% de población en edad de trabajar)=%{x}<br>Población Total=%{y} <b>(trend)</b><extra></extra>",
         "legendgroup": "",
         "marker": {
          "symbol": "circle"
         },
         "mode": "lines",
         "name": "",
         "showlegend": false,
         "type": "scatter",
         "x": [
          52.4243366823125,
          53.3385463867822,
          54.2195244410156,
          55.0207968902513,
          55.5931801951266,
          55.8529254060554,
          55.9728015245357,
          56.0256427923844,
          56.0461721346243,
          56.0487044709811,
          56.0522891497333,
          56.1467747951315,
          56.2739537637124,
          56.452142111234,
          56.735685768345,
          57.0741876732807,
          57.5050434620378,
          58.0003526705021,
          58.4885317167095,
          58.9908808603745,
          59.5157720560259,
          60.0100181534326,
          60.442088771688,
          60.8399424011737,
          61.2236911618814
         ],
         "xaxis": "x",
         "y": [
          47115265.4620406,
          46011068.465479136,
          44947009.18371363,
          43979219.59720216,
          43287885.95347121,
          42974161.563567504,
          42829373.28431578,
          42765550.762012884,
          42740755.096497804,
          42737696.50043851,
          42733366.868525326,
          42619245.60580324,
          42465636.828247905,
          42250418.11289886,
          41907949.581832856,
          41499101.60643628,
          40978707.14379746,
          40380464.81746735,
          39790834.41432135,
          39184089.1424782,
          38550117.22233103,
          37953158.938416004,
          37431297.18542048,
          36950763.25474642,
          36487265.408534646
         ],
         "yaxis": "y"
        }
       ],
       "layout": {
        "annotations": [
         {
          "arrowhead": 2,
          "ax": 20,
          "ay": -30,
          "showarrow": true,
          "text": "Tendencia positiva",
          "x": 55,
          "xref": "x",
          "y": 46000000,
          "yref": "y"
         }
        ],
        "coloraxis": {
         "colorbar": {
          "title": {
           "text": "Year"
          }
         },
         "colorscale": [
          [
           0,
           "#0d0887"
          ],
          [
           0.1111111111111111,
           "#46039f"
          ],
          [
           0.2222222222222222,
           "#7201a8"
          ],
          [
           0.3333333333333333,
           "#9c179e"
          ],
          [
           0.4444444444444444,
           "#bd3786"
          ],
          [
           0.5555555555555556,
           "#d8576b"
          ],
          [
           0.6666666666666666,
           "#ed7953"
          ],
          [
           0.7777777777777778,
           "#fb9f3a"
          ],
          [
           0.8888888888888888,
           "#fdca26"
          ],
          [
           1,
           "#f0f921"
          ]
         ]
        },
        "font": {
         "family": "Arial",
         "size": 12
        },
        "hovermode": "x unified",
        "legend": {
         "itemsizing": "constant",
         "title": {
          "text": "Año"
         },
         "tracegroupgap": 0
        },
        "showlegend": true,
        "template": {
         "data": {
          "bar": [
           {
            "error_x": {
             "color": "#2a3f5f"
            },
            "error_y": {
             "color": "#2a3f5f"
            },
            "marker": {
             "line": {
              "color": "white",
              "width": 0.5
             },
             "pattern": {
              "fillmode": "overlay",
              "size": 10,
              "solidity": 0.2
             }
            },
            "type": "bar"
           }
          ],
          "barpolar": [
           {
            "marker": {
             "line": {
              "color": "white",
              "width": 0.5
             },
             "pattern": {
              "fillmode": "overlay",
              "size": 10,
              "solidity": 0.2
             }
            },
            "type": "barpolar"
           }
          ],
          "carpet": [
           {
            "aaxis": {
             "endlinecolor": "#2a3f5f",
             "gridcolor": "#C8D4E3",
             "linecolor": "#C8D4E3",
             "minorgridcolor": "#C8D4E3",
             "startlinecolor": "#2a3f5f"
            },
            "baxis": {
             "endlinecolor": "#2a3f5f",
             "gridcolor": "#C8D4E3",
             "linecolor": "#C8D4E3",
             "minorgridcolor": "#C8D4E3",
             "startlinecolor": "#2a3f5f"
            },
            "type": "carpet"
           }
          ],
          "choropleth": [
           {
            "colorbar": {
             "outlinewidth": 0,
             "ticks": ""
            },
            "type": "choropleth"
           }
          ],
          "contour": [
           {
            "colorbar": {
             "outlinewidth": 0,
             "ticks": ""
            },
            "colorscale": [
             [
              0,
              "#0d0887"
             ],
             [
              0.1111111111111111,
              "#46039f"
             ],
             [
              0.2222222222222222,
              "#7201a8"
             ],
             [
              0.3333333333333333,
              "#9c179e"
             ],
             [
              0.4444444444444444,
              "#bd3786"
             ],
             [
              0.5555555555555556,
              "#d8576b"
             ],
             [
              0.6666666666666666,
              "#ed7953"
             ],
             [
              0.7777777777777778,
              "#fb9f3a"
             ],
             [
              0.8888888888888888,
              "#fdca26"
             ],
             [
              1,
              "#f0f921"
             ]
            ],
            "type": "contour"
           }
          ],
          "contourcarpet": [
           {
            "colorbar": {
             "outlinewidth": 0,
             "ticks": ""
            },
            "type": "contourcarpet"
           }
          ],
          "heatmap": [
           {
            "colorbar": {
             "outlinewidth": 0,
             "ticks": ""
            },
            "colorscale": [
             [
              0,
              "#0d0887"
             ],
             [
              0.1111111111111111,
              "#46039f"
             ],
             [
              0.2222222222222222,
              "#7201a8"
             ],
             [
              0.3333333333333333,
              "#9c179e"
             ],
             [
              0.4444444444444444,
              "#bd3786"
             ],
             [
              0.5555555555555556,
              "#d8576b"
             ],
             [
              0.6666666666666666,
              "#ed7953"
             ],
             [
              0.7777777777777778,
              "#fb9f3a"
             ],
             [
              0.8888888888888888,
              "#fdca26"
             ],
             [
              1,
              "#f0f921"
             ]
            ],
            "type": "heatmap"
           }
          ],
          "heatmapgl": [
           {
            "colorbar": {
             "outlinewidth": 0,
             "ticks": ""
            },
            "colorscale": [
             [
              0,
              "#0d0887"
             ],
             [
              0.1111111111111111,
              "#46039f"
             ],
             [
              0.2222222222222222,
              "#7201a8"
             ],
             [
              0.3333333333333333,
              "#9c179e"
             ],
             [
              0.4444444444444444,
              "#bd3786"
             ],
             [
              0.5555555555555556,
              "#d8576b"
             ],
             [
              0.6666666666666666,
              "#ed7953"
             ],
             [
              0.7777777777777778,
              "#fb9f3a"
             ],
             [
              0.8888888888888888,
              "#fdca26"
             ],
             [
              1,
              "#f0f921"
             ]
            ],
            "type": "heatmapgl"
           }
          ],
          "histogram": [
           {
            "marker": {
             "pattern": {
              "fillmode": "overlay",
              "size": 10,
              "solidity": 0.2
             }
            },
            "type": "histogram"
           }
          ],
          "histogram2d": [
           {
            "colorbar": {
             "outlinewidth": 0,
             "ticks": ""
            },
            "colorscale": [
             [
              0,
              "#0d0887"
             ],
             [
              0.1111111111111111,
              "#46039f"
             ],
             [
              0.2222222222222222,
              "#7201a8"
             ],
             [
              0.3333333333333333,
              "#9c179e"
             ],
             [
              0.4444444444444444,
              "#bd3786"
             ],
             [
              0.5555555555555556,
              "#d8576b"
             ],
             [
              0.6666666666666666,
              "#ed7953"
             ],
             [
              0.7777777777777778,
              "#fb9f3a"
             ],
             [
              0.8888888888888888,
              "#fdca26"
             ],
             [
              1,
              "#f0f921"
             ]
            ],
            "type": "histogram2d"
           }
          ],
          "histogram2dcontour": [
           {
            "colorbar": {
             "outlinewidth": 0,
             "ticks": ""
            },
            "colorscale": [
             [
              0,
              "#0d0887"
             ],
             [
              0.1111111111111111,
              "#46039f"
             ],
             [
              0.2222222222222222,
              "#7201a8"
             ],
             [
              0.3333333333333333,
              "#9c179e"
             ],
             [
              0.4444444444444444,
              "#bd3786"
             ],
             [
              0.5555555555555556,
              "#d8576b"
             ],
             [
              0.6666666666666666,
              "#ed7953"
             ],
             [
              0.7777777777777778,
              "#fb9f3a"
             ],
             [
              0.8888888888888888,
              "#fdca26"
             ],
             [
              1,
              "#f0f921"
             ]
            ],
            "type": "histogram2dcontour"
           }
          ],
          "mesh3d": [
           {
            "colorbar": {
             "outlinewidth": 0,
             "ticks": ""
            },
            "type": "mesh3d"
           }
          ],
          "parcoords": [
           {
            "line": {
             "colorbar": {
              "outlinewidth": 0,
              "ticks": ""
             }
            },
            "type": "parcoords"
           }
          ],
          "pie": [
           {
            "automargin": true,
            "type": "pie"
           }
          ],
          "scatter": [
           {
            "fillpattern": {
             "fillmode": "overlay",
             "size": 10,
             "solidity": 0.2
            },
            "type": "scatter"
           }
          ],
          "scatter3d": [
           {
            "line": {
             "colorbar": {
              "outlinewidth": 0,
              "ticks": ""
             }
            },
            "marker": {
             "colorbar": {
              "outlinewidth": 0,
              "ticks": ""
             }
            },
            "type": "scatter3d"
           }
          ],
          "scattercarpet": [
           {
            "marker": {
             "colorbar": {
              "outlinewidth": 0,
              "ticks": ""
             }
            },
            "type": "scattercarpet"
           }
          ],
          "scattergeo": [
           {
            "marker": {
             "colorbar": {
              "outlinewidth": 0,
              "ticks": ""
             }
            },
            "type": "scattergeo"
           }
          ],
          "scattergl": [
           {
            "marker": {
             "colorbar": {
              "outlinewidth": 0,
              "ticks": ""
             }
            },
            "type": "scattergl"
           }
          ],
          "scattermapbox": [
           {
            "marker": {
             "colorbar": {
              "outlinewidth": 0,
              "ticks": ""
             }
            },
            "type": "scattermapbox"
           }
          ],
          "scatterpolar": [
           {
            "marker": {
             "colorbar": {
              "outlinewidth": 0,
              "ticks": ""
             }
            },
            "type": "scatterpolar"
           }
          ],
          "scatterpolargl": [
           {
            "marker": {
             "colorbar": {
              "outlinewidth": 0,
              "ticks": ""
             }
            },
            "type": "scatterpolargl"
           }
          ],
          "scatterternary": [
           {
            "marker": {
             "colorbar": {
              "outlinewidth": 0,
              "ticks": ""
             }
            },
            "type": "scatterternary"
           }
          ],
          "surface": [
           {
            "colorbar": {
             "outlinewidth": 0,
             "ticks": ""
            },
            "colorscale": [
             [
              0,
              "#0d0887"
             ],
             [
              0.1111111111111111,
              "#46039f"
             ],
             [
              0.2222222222222222,
              "#7201a8"
             ],
             [
              0.3333333333333333,
              "#9c179e"
             ],
             [
              0.4444444444444444,
              "#bd3786"
             ],
             [
              0.5555555555555556,
              "#d8576b"
             ],
             [
              0.6666666666666666,
              "#ed7953"
             ],
             [
              0.7777777777777778,
              "#fb9f3a"
             ],
             [
              0.8888888888888888,
              "#fdca26"
             ],
             [
              1,
              "#f0f921"
             ]
            ],
            "type": "surface"
           }
          ],
          "table": [
           {
            "cells": {
             "fill": {
              "color": "#EBF0F8"
             },
             "line": {
              "color": "white"
             }
            },
            "header": {
             "fill": {
              "color": "#C8D4E3"
             },
             "line": {
              "color": "white"
             }
            },
            "type": "table"
           }
          ]
         },
         "layout": {
          "annotationdefaults": {
           "arrowcolor": "#2a3f5f",
           "arrowhead": 0,
           "arrowwidth": 1
          },
          "autotypenumbers": "strict",
          "coloraxis": {
           "colorbar": {
            "outlinewidth": 0,
            "ticks": ""
           }
          },
          "colorscale": {
           "diverging": [
            [
             0,
             "#8e0152"
            ],
            [
             0.1,
             "#c51b7d"
            ],
            [
             0.2,
             "#de77ae"
            ],
            [
             0.3,
             "#f1b6da"
            ],
            [
             0.4,
             "#fde0ef"
            ],
            [
             0.5,
             "#f7f7f7"
            ],
            [
             0.6,
             "#e6f5d0"
            ],
            [
             0.7,
             "#b8e186"
            ],
            [
             0.8,
             "#7fbc41"
            ],
            [
             0.9,
             "#4d9221"
            ],
            [
             1,
             "#276419"
            ]
           ],
           "sequential": [
            [
             0,
             "#0d0887"
            ],
            [
             0.1111111111111111,
             "#46039f"
            ],
            [
             0.2222222222222222,
             "#7201a8"
            ],
            [
             0.3333333333333333,
             "#9c179e"
            ],
            [
             0.4444444444444444,
             "#bd3786"
            ],
            [
             0.5555555555555556,
             "#d8576b"
            ],
            [
             0.6666666666666666,
             "#ed7953"
            ],
            [
             0.7777777777777778,
             "#fb9f3a"
            ],
            [
             0.8888888888888888,
             "#fdca26"
            ],
            [
             1,
             "#f0f921"
            ]
           ],
           "sequentialminus": [
            [
             0,
             "#0d0887"
            ],
            [
             0.1111111111111111,
             "#46039f"
            ],
            [
             0.2222222222222222,
             "#7201a8"
            ],
            [
             0.3333333333333333,
             "#9c179e"
            ],
            [
             0.4444444444444444,
             "#bd3786"
            ],
            [
             0.5555555555555556,
             "#d8576b"
            ],
            [
             0.6666666666666666,
             "#ed7953"
            ],
            [
             0.7777777777777778,
             "#fb9f3a"
            ],
            [
             0.8888888888888888,
             "#fdca26"
            ],
            [
             1,
             "#f0f921"
            ]
           ]
          },
          "colorway": [
           "#636efa",
           "#EF553B",
           "#00cc96",
           "#ab63fa",
           "#FFA15A",
           "#19d3f3",
           "#FF6692",
           "#B6E880",
           "#FF97FF",
           "#FECB52"
          ],
          "font": {
           "color": "#2a3f5f"
          },
          "geo": {
           "bgcolor": "white",
           "lakecolor": "white",
           "landcolor": "white",
           "showlakes": true,
           "showland": true,
           "subunitcolor": "#C8D4E3"
          },
          "hoverlabel": {
           "align": "left"
          },
          "hovermode": "closest",
          "mapbox": {
           "style": "light"
          },
          "paper_bgcolor": "white",
          "plot_bgcolor": "white",
          "polar": {
           "angularaxis": {
            "gridcolor": "#EBF0F8",
            "linecolor": "#EBF0F8",
            "ticks": ""
           },
           "bgcolor": "white",
           "radialaxis": {
            "gridcolor": "#EBF0F8",
            "linecolor": "#EBF0F8",
            "ticks": ""
           }
          },
          "scene": {
           "xaxis": {
            "backgroundcolor": "white",
            "gridcolor": "#DFE8F3",
            "gridwidth": 2,
            "linecolor": "#EBF0F8",
            "showbackground": true,
            "ticks": "",
            "zerolinecolor": "#EBF0F8"
           },
           "yaxis": {
            "backgroundcolor": "white",
            "gridcolor": "#DFE8F3",
            "gridwidth": 2,
            "linecolor": "#EBF0F8",
            "showbackground": true,
            "ticks": "",
            "zerolinecolor": "#EBF0F8"
           },
           "zaxis": {
            "backgroundcolor": "white",
            "gridcolor": "#DFE8F3",
            "gridwidth": 2,
            "linecolor": "#EBF0F8",
            "showbackground": true,
            "ticks": "",
            "zerolinecolor": "#EBF0F8"
           }
          },
          "shapedefaults": {
           "line": {
            "color": "#2a3f5f"
           }
          },
          "ternary": {
           "aaxis": {
            "gridcolor": "#DFE8F3",
            "linecolor": "#A2B1C6",
            "ticks": ""
           },
           "baxis": {
            "gridcolor": "#DFE8F3",
            "linecolor": "#A2B1C6",
            "ticks": ""
           },
           "bgcolor": "white",
           "caxis": {
            "gridcolor": "#DFE8F3",
            "linecolor": "#A2B1C6",
            "ticks": ""
           }
          },
          "title": {
           "x": 0.05
          },
          "xaxis": {
           "automargin": true,
           "gridcolor": "#EBF0F8",
           "linecolor": "#EBF0F8",
           "ticks": "",
           "title": {
            "standoff": 15
           },
           "zerolinecolor": "#EBF0F8",
           "zerolinewidth": 2
          },
          "yaxis": {
           "automargin": true,
           "gridcolor": "#EBF0F8",
           "linecolor": "#EBF0F8",
           "ticks": "",
           "title": {
            "standoff": 15
           },
           "zerolinecolor": "#EBF0F8",
           "zerolinewidth": 2
          }
         }
        },
        "title": {
         "font": {
          "size": 20
         },
         "text": "Radio de Dependencia por Edad vs. Población Total"
        },
        "xaxis": {
         "anchor": "y",
         "domain": [
          0,
          1
         ],
         "gridcolor": "lightgray",
         "showgrid": true,
         "title": {
          "text": "Radio de Dependencia por Edad (% de población en edad de trabajar)"
         }
        },
        "yaxis": {
         "anchor": "x",
         "domain": [
          0,
          1
         ],
         "gridcolor": "lightgray",
         "showgrid": true,
         "title": {
          "text": "Población Total"
         }
        }
       }
      }
     },
     "metadata": {},
     "output_type": "display_data"
    }
   ],
   "source": [
    "fig = px.scatter(df_pivot, \n",
    "                 x='Age Dependency Ratio', \n",
    "                 y='Population, total', \n",
    "                 color='Year',  \n",
    "                 size='Population, total',\n",
    "                 hover_data=['Year'], \n",
    "                 trendline=\"ols\", \n",
    "                 title='Radio de Dependencia por Edad vs. Población Total',\n",
    "                 labels={'Age Dependency Ratio': 'Radio de Dependencia por Edad (% de población en edad de trabajar)',\n",
    "                         'Population, total': 'Población Total'},\n",
    "                 template='plotly_white')  \n",
    "\n",
    "\n",
    "fig.update_layout(\n",
    "    xaxis_title=\"Radio de Dependencia por Edad (% de población en edad de trabajar)\",\n",
    "    yaxis_title=\"Población Total\",\n",
    "    xaxis=dict(showgrid=True, gridcolor='lightgray'),\n",
    "    yaxis=dict(showgrid=True, gridcolor='lightgray'),\n",
    "    showlegend=True,\n",
    "    legend_title_text='Año',\n",
    "    hovermode=\"x unified\",\n",
    "    font=dict(size=12, family=\"Arial\"),\n",
    "    title_font_size=20\n",
    ")\n",
    "\n",
    "\n",
    "fig.add_annotation(\n",
    "    x=55,\n",
    "    y=46000000,  \n",
    "    xref=\"x\",\n",
    "    yref=\"y\",\n",
    "    text=\"Tendencia positiva\",\n",
    "    showarrow=True,\n",
    "    arrowhead=2,\n",
    "    ax=20,\n",
    "    ay=-30\n",
    ")\n",
    "\n",
    "fig.show()"
   ]
  },
  {
   "cell_type": "markdown",
   "metadata": {},
   "source": [
    "Argentina ha experimentado un crecimiento constante en su población total, el cual viene acompañado de un aumento en la proporción de personas dependientes. Este aumento en la dependencia sugiere que la proporción de personas en edad de trabajar está disminuyendo... y a futuro, el país podría enfrentar desafíos en términos de sostenibilidad económica y social."
   ]
  },
  {
   "cell_type": "code",
   "execution_count": 107,
   "metadata": {},
   "outputs": [
    {
     "data": {
      "application/vnd.plotly.v1+json": {
       "config": {
        "plotlyServerURL": "https://plot.ly"
       },
       "data": [
        {
         "customdata": [
          [
           1999
          ],
          [
           2000
          ],
          [
           2001
          ],
          [
           2002
          ],
          [
           2003
          ],
          [
           2004
          ],
          [
           2005
          ],
          [
           2006
          ],
          [
           2007
          ],
          [
           2008
          ],
          [
           2009
          ],
          [
           2010
          ],
          [
           2011
          ],
          [
           2012
          ],
          [
           2013
          ],
          [
           2014
          ],
          [
           2015
          ],
          [
           2016
          ],
          [
           2017
          ],
          [
           2018
          ],
          [
           2019
          ],
          [
           2020
          ],
          [
           2021
          ],
          [
           2022
          ],
          [
           2023
          ]
         ],
         "hovertemplate": "Participación laboral=%{marker.size}<br>Tasa de Desempleo=%{y}<br>Year=%{marker.color}<extra></extra>",
         "legendgroup": "",
         "marker": {
          "color": [
           1999,
           2000,
           2001,
           2002,
           2003,
           2004,
           2005,
           2006,
           2007,
           2008,
           2009,
           2010,
           2011,
           2012,
           2013,
           2014,
           2015,
           2016,
           2017,
           2018,
           2019,
           2020,
           2021,
           2022,
           2023
          ],
          "coloraxis": "coloraxis",
          "size": [
           60.4,
           57.72,
           56.8,
           57.9,
           60.25,
           61.943,
           61.511,
           61.795,
           61,
           60.428,
           60.78,
           60.187,
           60.651,
           60.362,
           59.962,
           59.444,
           60.5,
           60.6,
           58.808,
           59.595,
           60.289,
           56.023,
           60.358,
           61.484,
           62.286
          ],
          "sizemode": "area",
          "sizeref": 0.155715,
          "symbol": "circle"
         },
         "mode": "markers",
         "name": "",
         "orientation": "v",
         "showlegend": false,
         "type": "scatter",
         "x": [
          60.4,
          57.72,
          56.8,
          57.9,
          60.25,
          61.943,
          61.511,
          61.795,
          61,
          60.428,
          60.78,
          60.187,
          60.651,
          60.362,
          59.962,
          59.444,
          60.5,
          60.6,
          58.808,
          59.595,
          60.289,
          56.023,
          60.358,
          61.484,
          62.286
         ],
         "xaxis": "x",
         "y": [
          14.05,
          15,
          17.32,
          19.59,
          15.36,
          13.522,
          11.506,
          10.078,
          8.47,
          7.837,
          8.645,
          7.714,
          7.18,
          7.217,
          7.1,
          7.268,
          6.5,
          8.5,
          8.347,
          9.221,
          9.843,
          11.461,
          8.736,
          6.805,
          6.139
         ],
         "yaxis": "y"
        },
        {
         "hovertemplate": "<b>OLS trendline</b><br>Unemployment Rate = -1.18452 * Labor Force Participation + 81.2583<br>R<sup>2</sup>=0.250992<br><br>Participación laboral=%{x}<br>Tasa de Desempleo=%{y} <b>(trend)</b><extra></extra>",
         "legendgroup": "",
         "marker": {
          "symbol": "circle"
         },
         "mode": "lines",
         "name": "",
         "showlegend": false,
         "type": "scatter",
         "x": [
          56.023,
          56.8,
          57.72,
          57.9,
          58.808,
          59.444,
          59.595,
          59.962,
          60.187,
          60.25,
          60.289,
          60.358,
          60.362,
          60.4,
          60.428,
          60.5,
          60.6,
          60.651,
          60.78,
          61,
          61.484,
          61.511,
          61.795,
          61.943,
          62.286
         ],
         "xaxis": "x",
         "y": [
          14.898164591189015,
          13.97779510049891,
          12.888039718986803,
          12.674826709560534,
          11.599285528676845,
          10.845932895370652,
          10.66707087079638,
          10.232353234910576,
          9.965836973127722,
          9.89121241982852,
          9.845016267786164,
          9.763284614172761,
          9.758546547296618,
          9.713534911973298,
          9.680368443840322,
          9.595083240069798,
          9.476631568166312,
          9.416221215495526,
          9.263418558740028,
          9.002824880552353,
          8.429518788539468,
          8.397536837125514,
          8.061134088919616,
          7.885825614502451,
          7.47953637987348
         ],
         "yaxis": "y"
        }
       ],
       "layout": {
        "annotations": [
         {
          "arrowhead": 2,
          "ax": 25,
          "ay": -30,
          "showarrow": true,
          "text": "Mayor participación con desempleo",
          "x": 58,
          "xref": "x",
          "y": 20.2,
          "yref": "y"
         }
        ],
        "coloraxis": {
         "colorbar": {
          "title": {
           "text": "Year"
          }
         },
         "colorscale": [
          [
           0,
           "#0d0887"
          ],
          [
           0.1111111111111111,
           "#46039f"
          ],
          [
           0.2222222222222222,
           "#7201a8"
          ],
          [
           0.3333333333333333,
           "#9c179e"
          ],
          [
           0.4444444444444444,
           "#bd3786"
          ],
          [
           0.5555555555555556,
           "#d8576b"
          ],
          [
           0.6666666666666666,
           "#ed7953"
          ],
          [
           0.7777777777777778,
           "#fb9f3a"
          ],
          [
           0.8888888888888888,
           "#fdca26"
          ],
          [
           1,
           "#f0f921"
          ]
         ]
        },
        "font": {
         "family": "Arial",
         "size": 12
        },
        "hovermode": "x unified",
        "legend": {
         "itemsizing": "constant",
         "title": {
          "text": "Año"
         },
         "tracegroupgap": 0
        },
        "showlegend": true,
        "template": {
         "data": {
          "bar": [
           {
            "error_x": {
             "color": "#2a3f5f"
            },
            "error_y": {
             "color": "#2a3f5f"
            },
            "marker": {
             "line": {
              "color": "white",
              "width": 0.5
             },
             "pattern": {
              "fillmode": "overlay",
              "size": 10,
              "solidity": 0.2
             }
            },
            "type": "bar"
           }
          ],
          "barpolar": [
           {
            "marker": {
             "line": {
              "color": "white",
              "width": 0.5
             },
             "pattern": {
              "fillmode": "overlay",
              "size": 10,
              "solidity": 0.2
             }
            },
            "type": "barpolar"
           }
          ],
          "carpet": [
           {
            "aaxis": {
             "endlinecolor": "#2a3f5f",
             "gridcolor": "#C8D4E3",
             "linecolor": "#C8D4E3",
             "minorgridcolor": "#C8D4E3",
             "startlinecolor": "#2a3f5f"
            },
            "baxis": {
             "endlinecolor": "#2a3f5f",
             "gridcolor": "#C8D4E3",
             "linecolor": "#C8D4E3",
             "minorgridcolor": "#C8D4E3",
             "startlinecolor": "#2a3f5f"
            },
            "type": "carpet"
           }
          ],
          "choropleth": [
           {
            "colorbar": {
             "outlinewidth": 0,
             "ticks": ""
            },
            "type": "choropleth"
           }
          ],
          "contour": [
           {
            "colorbar": {
             "outlinewidth": 0,
             "ticks": ""
            },
            "colorscale": [
             [
              0,
              "#0d0887"
             ],
             [
              0.1111111111111111,
              "#46039f"
             ],
             [
              0.2222222222222222,
              "#7201a8"
             ],
             [
              0.3333333333333333,
              "#9c179e"
             ],
             [
              0.4444444444444444,
              "#bd3786"
             ],
             [
              0.5555555555555556,
              "#d8576b"
             ],
             [
              0.6666666666666666,
              "#ed7953"
             ],
             [
              0.7777777777777778,
              "#fb9f3a"
             ],
             [
              0.8888888888888888,
              "#fdca26"
             ],
             [
              1,
              "#f0f921"
             ]
            ],
            "type": "contour"
           }
          ],
          "contourcarpet": [
           {
            "colorbar": {
             "outlinewidth": 0,
             "ticks": ""
            },
            "type": "contourcarpet"
           }
          ],
          "heatmap": [
           {
            "colorbar": {
             "outlinewidth": 0,
             "ticks": ""
            },
            "colorscale": [
             [
              0,
              "#0d0887"
             ],
             [
              0.1111111111111111,
              "#46039f"
             ],
             [
              0.2222222222222222,
              "#7201a8"
             ],
             [
              0.3333333333333333,
              "#9c179e"
             ],
             [
              0.4444444444444444,
              "#bd3786"
             ],
             [
              0.5555555555555556,
              "#d8576b"
             ],
             [
              0.6666666666666666,
              "#ed7953"
             ],
             [
              0.7777777777777778,
              "#fb9f3a"
             ],
             [
              0.8888888888888888,
              "#fdca26"
             ],
             [
              1,
              "#f0f921"
             ]
            ],
            "type": "heatmap"
           }
          ],
          "heatmapgl": [
           {
            "colorbar": {
             "outlinewidth": 0,
             "ticks": ""
            },
            "colorscale": [
             [
              0,
              "#0d0887"
             ],
             [
              0.1111111111111111,
              "#46039f"
             ],
             [
              0.2222222222222222,
              "#7201a8"
             ],
             [
              0.3333333333333333,
              "#9c179e"
             ],
             [
              0.4444444444444444,
              "#bd3786"
             ],
             [
              0.5555555555555556,
              "#d8576b"
             ],
             [
              0.6666666666666666,
              "#ed7953"
             ],
             [
              0.7777777777777778,
              "#fb9f3a"
             ],
             [
              0.8888888888888888,
              "#fdca26"
             ],
             [
              1,
              "#f0f921"
             ]
            ],
            "type": "heatmapgl"
           }
          ],
          "histogram": [
           {
            "marker": {
             "pattern": {
              "fillmode": "overlay",
              "size": 10,
              "solidity": 0.2
             }
            },
            "type": "histogram"
           }
          ],
          "histogram2d": [
           {
            "colorbar": {
             "outlinewidth": 0,
             "ticks": ""
            },
            "colorscale": [
             [
              0,
              "#0d0887"
             ],
             [
              0.1111111111111111,
              "#46039f"
             ],
             [
              0.2222222222222222,
              "#7201a8"
             ],
             [
              0.3333333333333333,
              "#9c179e"
             ],
             [
              0.4444444444444444,
              "#bd3786"
             ],
             [
              0.5555555555555556,
              "#d8576b"
             ],
             [
              0.6666666666666666,
              "#ed7953"
             ],
             [
              0.7777777777777778,
              "#fb9f3a"
             ],
             [
              0.8888888888888888,
              "#fdca26"
             ],
             [
              1,
              "#f0f921"
             ]
            ],
            "type": "histogram2d"
           }
          ],
          "histogram2dcontour": [
           {
            "colorbar": {
             "outlinewidth": 0,
             "ticks": ""
            },
            "colorscale": [
             [
              0,
              "#0d0887"
             ],
             [
              0.1111111111111111,
              "#46039f"
             ],
             [
              0.2222222222222222,
              "#7201a8"
             ],
             [
              0.3333333333333333,
              "#9c179e"
             ],
             [
              0.4444444444444444,
              "#bd3786"
             ],
             [
              0.5555555555555556,
              "#d8576b"
             ],
             [
              0.6666666666666666,
              "#ed7953"
             ],
             [
              0.7777777777777778,
              "#fb9f3a"
             ],
             [
              0.8888888888888888,
              "#fdca26"
             ],
             [
              1,
              "#f0f921"
             ]
            ],
            "type": "histogram2dcontour"
           }
          ],
          "mesh3d": [
           {
            "colorbar": {
             "outlinewidth": 0,
             "ticks": ""
            },
            "type": "mesh3d"
           }
          ],
          "parcoords": [
           {
            "line": {
             "colorbar": {
              "outlinewidth": 0,
              "ticks": ""
             }
            },
            "type": "parcoords"
           }
          ],
          "pie": [
           {
            "automargin": true,
            "type": "pie"
           }
          ],
          "scatter": [
           {
            "fillpattern": {
             "fillmode": "overlay",
             "size": 10,
             "solidity": 0.2
            },
            "type": "scatter"
           }
          ],
          "scatter3d": [
           {
            "line": {
             "colorbar": {
              "outlinewidth": 0,
              "ticks": ""
             }
            },
            "marker": {
             "colorbar": {
              "outlinewidth": 0,
              "ticks": ""
             }
            },
            "type": "scatter3d"
           }
          ],
          "scattercarpet": [
           {
            "marker": {
             "colorbar": {
              "outlinewidth": 0,
              "ticks": ""
             }
            },
            "type": "scattercarpet"
           }
          ],
          "scattergeo": [
           {
            "marker": {
             "colorbar": {
              "outlinewidth": 0,
              "ticks": ""
             }
            },
            "type": "scattergeo"
           }
          ],
          "scattergl": [
           {
            "marker": {
             "colorbar": {
              "outlinewidth": 0,
              "ticks": ""
             }
            },
            "type": "scattergl"
           }
          ],
          "scattermapbox": [
           {
            "marker": {
             "colorbar": {
              "outlinewidth": 0,
              "ticks": ""
             }
            },
            "type": "scattermapbox"
           }
          ],
          "scatterpolar": [
           {
            "marker": {
             "colorbar": {
              "outlinewidth": 0,
              "ticks": ""
             }
            },
            "type": "scatterpolar"
           }
          ],
          "scatterpolargl": [
           {
            "marker": {
             "colorbar": {
              "outlinewidth": 0,
              "ticks": ""
             }
            },
            "type": "scatterpolargl"
           }
          ],
          "scatterternary": [
           {
            "marker": {
             "colorbar": {
              "outlinewidth": 0,
              "ticks": ""
             }
            },
            "type": "scatterternary"
           }
          ],
          "surface": [
           {
            "colorbar": {
             "outlinewidth": 0,
             "ticks": ""
            },
            "colorscale": [
             [
              0,
              "#0d0887"
             ],
             [
              0.1111111111111111,
              "#46039f"
             ],
             [
              0.2222222222222222,
              "#7201a8"
             ],
             [
              0.3333333333333333,
              "#9c179e"
             ],
             [
              0.4444444444444444,
              "#bd3786"
             ],
             [
              0.5555555555555556,
              "#d8576b"
             ],
             [
              0.6666666666666666,
              "#ed7953"
             ],
             [
              0.7777777777777778,
              "#fb9f3a"
             ],
             [
              0.8888888888888888,
              "#fdca26"
             ],
             [
              1,
              "#f0f921"
             ]
            ],
            "type": "surface"
           }
          ],
          "table": [
           {
            "cells": {
             "fill": {
              "color": "#EBF0F8"
             },
             "line": {
              "color": "white"
             }
            },
            "header": {
             "fill": {
              "color": "#C8D4E3"
             },
             "line": {
              "color": "white"
             }
            },
            "type": "table"
           }
          ]
         },
         "layout": {
          "annotationdefaults": {
           "arrowcolor": "#2a3f5f",
           "arrowhead": 0,
           "arrowwidth": 1
          },
          "autotypenumbers": "strict",
          "coloraxis": {
           "colorbar": {
            "outlinewidth": 0,
            "ticks": ""
           }
          },
          "colorscale": {
           "diverging": [
            [
             0,
             "#8e0152"
            ],
            [
             0.1,
             "#c51b7d"
            ],
            [
             0.2,
             "#de77ae"
            ],
            [
             0.3,
             "#f1b6da"
            ],
            [
             0.4,
             "#fde0ef"
            ],
            [
             0.5,
             "#f7f7f7"
            ],
            [
             0.6,
             "#e6f5d0"
            ],
            [
             0.7,
             "#b8e186"
            ],
            [
             0.8,
             "#7fbc41"
            ],
            [
             0.9,
             "#4d9221"
            ],
            [
             1,
             "#276419"
            ]
           ],
           "sequential": [
            [
             0,
             "#0d0887"
            ],
            [
             0.1111111111111111,
             "#46039f"
            ],
            [
             0.2222222222222222,
             "#7201a8"
            ],
            [
             0.3333333333333333,
             "#9c179e"
            ],
            [
             0.4444444444444444,
             "#bd3786"
            ],
            [
             0.5555555555555556,
             "#d8576b"
            ],
            [
             0.6666666666666666,
             "#ed7953"
            ],
            [
             0.7777777777777778,
             "#fb9f3a"
            ],
            [
             0.8888888888888888,
             "#fdca26"
            ],
            [
             1,
             "#f0f921"
            ]
           ],
           "sequentialminus": [
            [
             0,
             "#0d0887"
            ],
            [
             0.1111111111111111,
             "#46039f"
            ],
            [
             0.2222222222222222,
             "#7201a8"
            ],
            [
             0.3333333333333333,
             "#9c179e"
            ],
            [
             0.4444444444444444,
             "#bd3786"
            ],
            [
             0.5555555555555556,
             "#d8576b"
            ],
            [
             0.6666666666666666,
             "#ed7953"
            ],
            [
             0.7777777777777778,
             "#fb9f3a"
            ],
            [
             0.8888888888888888,
             "#fdca26"
            ],
            [
             1,
             "#f0f921"
            ]
           ]
          },
          "colorway": [
           "#636efa",
           "#EF553B",
           "#00cc96",
           "#ab63fa",
           "#FFA15A",
           "#19d3f3",
           "#FF6692",
           "#B6E880",
           "#FF97FF",
           "#FECB52"
          ],
          "font": {
           "color": "#2a3f5f"
          },
          "geo": {
           "bgcolor": "white",
           "lakecolor": "white",
           "landcolor": "white",
           "showlakes": true,
           "showland": true,
           "subunitcolor": "#C8D4E3"
          },
          "hoverlabel": {
           "align": "left"
          },
          "hovermode": "closest",
          "mapbox": {
           "style": "light"
          },
          "paper_bgcolor": "white",
          "plot_bgcolor": "white",
          "polar": {
           "angularaxis": {
            "gridcolor": "#EBF0F8",
            "linecolor": "#EBF0F8",
            "ticks": ""
           },
           "bgcolor": "white",
           "radialaxis": {
            "gridcolor": "#EBF0F8",
            "linecolor": "#EBF0F8",
            "ticks": ""
           }
          },
          "scene": {
           "xaxis": {
            "backgroundcolor": "white",
            "gridcolor": "#DFE8F3",
            "gridwidth": 2,
            "linecolor": "#EBF0F8",
            "showbackground": true,
            "ticks": "",
            "zerolinecolor": "#EBF0F8"
           },
           "yaxis": {
            "backgroundcolor": "white",
            "gridcolor": "#DFE8F3",
            "gridwidth": 2,
            "linecolor": "#EBF0F8",
            "showbackground": true,
            "ticks": "",
            "zerolinecolor": "#EBF0F8"
           },
           "zaxis": {
            "backgroundcolor": "white",
            "gridcolor": "#DFE8F3",
            "gridwidth": 2,
            "linecolor": "#EBF0F8",
            "showbackground": true,
            "ticks": "",
            "zerolinecolor": "#EBF0F8"
           }
          },
          "shapedefaults": {
           "line": {
            "color": "#2a3f5f"
           }
          },
          "ternary": {
           "aaxis": {
            "gridcolor": "#DFE8F3",
            "linecolor": "#A2B1C6",
            "ticks": ""
           },
           "baxis": {
            "gridcolor": "#DFE8F3",
            "linecolor": "#A2B1C6",
            "ticks": ""
           },
           "bgcolor": "white",
           "caxis": {
            "gridcolor": "#DFE8F3",
            "linecolor": "#A2B1C6",
            "ticks": ""
           }
          },
          "title": {
           "x": 0.05
          },
          "xaxis": {
           "automargin": true,
           "gridcolor": "#EBF0F8",
           "linecolor": "#EBF0F8",
           "ticks": "",
           "title": {
            "standoff": 15
           },
           "zerolinecolor": "#EBF0F8",
           "zerolinewidth": 2
          },
          "yaxis": {
           "automargin": true,
           "gridcolor": "#EBF0F8",
           "linecolor": "#EBF0F8",
           "ticks": "",
           "title": {
            "standoff": 15
           },
           "zerolinecolor": "#EBF0F8",
           "zerolinewidth": 2
          }
         }
        },
        "title": {
         "font": {
          "size": 20
         },
         "text": "Relación entre Participación laboral y Tasa de Desempleo"
        },
        "xaxis": {
         "anchor": "y",
         "domain": [
          0,
          1
         ],
         "gridcolor": "lightgray",
         "showgrid": true,
         "title": {
          "text": "Participación Laboral"
         }
        },
        "yaxis": {
         "anchor": "x",
         "domain": [
          0,
          1
         ],
         "gridcolor": "lightgray",
         "showgrid": true,
         "title": {
          "text": "Tasa de Desempleo"
         }
        }
       }
      }
     },
     "metadata": {},
     "output_type": "display_data"
    }
   ],
   "source": [
    "\n",
    "fig = px.scatter(df_pivot, \n",
    "                 x='Labor Force Participation', \n",
    "                 y='Unemployment Rate', \n",
    "                 color='Year', \n",
    "                 size='Labor Force Participation',  \n",
    "                 hover_data=['Year'],\n",
    "                 trendline=\"ols\",  \n",
    "                 title='Relación entre Participación laboral y Tasa de Desempleo',\n",
    "                 labels={'Labor Force Participation': 'Participación laboral',\n",
    "                         'Unemployment Rate': 'Tasa de Desempleo'},\n",
    "                 template='plotly_white')\n",
    "\n",
    "\n",
    "fig.update_layout(\n",
    "    xaxis_title=\"Participación Laboral\",\n",
    "    yaxis_title=\"Tasa de Desempleo\",\n",
    "    xaxis=dict(showgrid=True, gridcolor='lightgray'),\n",
    "    yaxis=dict(showgrid=True, gridcolor='lightgray'),\n",
    "    showlegend=True,\n",
    "    legend_title_text='Año',\n",
    "    hovermode=\"x unified\",\n",
    "    font=dict(size=12, family=\"Arial\"),\n",
    "    title_font_size=20\n",
    ")\n",
    "\n",
    "\n",
    "fig.add_annotation(\n",
    "    x=58,\n",
    "    y=20.2,\n",
    "    xref=\"x\",\n",
    "    yref=\"y\",\n",
    "    text=\"Mayor participación con desempleo\",\n",
    "    showarrow=True,\n",
    "    arrowhead=2,\n",
    "    ax=25,\n",
    "    ay=-30\n",
    ")\n",
    "\n",
    "# Mostrar el gráfico\n",
    "fig.show()"
   ]
  },
  {
   "cell_type": "markdown",
   "metadata": {},
   "source": [
    "Aunque intuitivamente uno esperaría una relación inversa (menor desempleo con mayor participación), el gráfico muestra que en este caso la dinámica es más compleja. La tendencia positiva podría reflejar períodos donde la entrada masiva a la fuerza laboral supera la capacidad de absorción del mercado, un fenómeno típico en economías bajo presión."
   ]
  },
  {
   "cell_type": "code",
   "execution_count": 108,
   "metadata": {},
   "outputs": [
    {
     "data": {
      "application/vnd.plotly.v1+json": {
       "config": {
        "plotlyServerURL": "https://plot.ly"
       },
       "data": [
        {
         "customdata": [
          61.2236911618814,
          60.8399424011737,
          60.442088771688,
          60.0100181534326,
          59.5157720560259,
          58.9908808603745,
          58.4885317167095,
          58.0003526705021,
          57.5050434620378,
          57.0741876732807,
          56.735685768345,
          56.452142111234,
          56.2739537637124,
          56.1467747951315,
          56.0487044709811,
          56.0256427923844,
          56.0522891497333,
          56.0461721346243,
          55.9728015245357,
          55.8529254060554,
          55.5931801951266,
          55.0207968902513,
          54.2195244410156,
          53.3385463867822,
          52.4243366823125
         ],
         "hovertemplate": "<b>Año: %{x}</b><br>Participación: %{y:.1f}%<br>Ratio Dep.: %{customdata:.1f}%<extra></extra>",
         "legendgroup": "61.2236911618814",
         "line": {
          "color": "#636efa",
          "dash": "solid",
          "shape": "linear",
          "width": 2
         },
         "marker": {
          "symbol": "circle"
         },
         "mode": "lines+markers",
         "name": "61.2236911618814",
         "orientation": "v",
         "showlegend": true,
         "type": "scatter",
         "x": [
          1999
         ],
         "xaxis": "x",
         "y": [
          60.4
         ],
         "yaxis": "y"
        },
        {
         "customdata": [
          61.2236911618814,
          60.8399424011737,
          60.442088771688,
          60.0100181534326,
          59.5157720560259,
          58.9908808603745,
          58.4885317167095,
          58.0003526705021,
          57.5050434620378,
          57.0741876732807,
          56.735685768345,
          56.452142111234,
          56.2739537637124,
          56.1467747951315,
          56.0487044709811,
          56.0256427923844,
          56.0522891497333,
          56.0461721346243,
          55.9728015245357,
          55.8529254060554,
          55.5931801951266,
          55.0207968902513,
          54.2195244410156,
          53.3385463867822,
          52.4243366823125
         ],
         "hovertemplate": "<b>Año: %{x}</b><br>Participación: %{y:.1f}%<br>Ratio Dep.: %{customdata:.1f}%<extra></extra>",
         "legendgroup": "60.8399424011737",
         "line": {
          "color": "#EF553B",
          "dash": "solid",
          "shape": "linear",
          "width": 2
         },
         "marker": {
          "symbol": "circle"
         },
         "mode": "lines+markers",
         "name": "60.8399424011737",
         "orientation": "v",
         "showlegend": true,
         "type": "scatter",
         "x": [
          2000
         ],
         "xaxis": "x",
         "y": [
          57.72
         ],
         "yaxis": "y"
        },
        {
         "customdata": [
          61.2236911618814,
          60.8399424011737,
          60.442088771688,
          60.0100181534326,
          59.5157720560259,
          58.9908808603745,
          58.4885317167095,
          58.0003526705021,
          57.5050434620378,
          57.0741876732807,
          56.735685768345,
          56.452142111234,
          56.2739537637124,
          56.1467747951315,
          56.0487044709811,
          56.0256427923844,
          56.0522891497333,
          56.0461721346243,
          55.9728015245357,
          55.8529254060554,
          55.5931801951266,
          55.0207968902513,
          54.2195244410156,
          53.3385463867822,
          52.4243366823125
         ],
         "hovertemplate": "<b>Año: %{x}</b><br>Participación: %{y:.1f}%<br>Ratio Dep.: %{customdata:.1f}%<extra></extra>",
         "legendgroup": "60.442088771688",
         "line": {
          "color": "#00cc96",
          "dash": "solid",
          "shape": "linear",
          "width": 2
         },
         "marker": {
          "symbol": "circle"
         },
         "mode": "lines+markers",
         "name": "60.442088771688",
         "orientation": "v",
         "showlegend": true,
         "type": "scatter",
         "x": [
          2001
         ],
         "xaxis": "x",
         "y": [
          56.8
         ],
         "yaxis": "y"
        },
        {
         "customdata": [
          61.2236911618814,
          60.8399424011737,
          60.442088771688,
          60.0100181534326,
          59.5157720560259,
          58.9908808603745,
          58.4885317167095,
          58.0003526705021,
          57.5050434620378,
          57.0741876732807,
          56.735685768345,
          56.452142111234,
          56.2739537637124,
          56.1467747951315,
          56.0487044709811,
          56.0256427923844,
          56.0522891497333,
          56.0461721346243,
          55.9728015245357,
          55.8529254060554,
          55.5931801951266,
          55.0207968902513,
          54.2195244410156,
          53.3385463867822,
          52.4243366823125
         ],
         "hovertemplate": "<b>Año: %{x}</b><br>Participación: %{y:.1f}%<br>Ratio Dep.: %{customdata:.1f}%<extra></extra>",
         "legendgroup": "60.0100181534326",
         "line": {
          "color": "#ab63fa",
          "dash": "solid",
          "shape": "linear",
          "width": 2
         },
         "marker": {
          "symbol": "circle"
         },
         "mode": "lines+markers",
         "name": "60.0100181534326",
         "orientation": "v",
         "showlegend": true,
         "type": "scatter",
         "x": [
          2002
         ],
         "xaxis": "x",
         "y": [
          57.9
         ],
         "yaxis": "y"
        },
        {
         "customdata": [
          61.2236911618814,
          60.8399424011737,
          60.442088771688,
          60.0100181534326,
          59.5157720560259,
          58.9908808603745,
          58.4885317167095,
          58.0003526705021,
          57.5050434620378,
          57.0741876732807,
          56.735685768345,
          56.452142111234,
          56.2739537637124,
          56.1467747951315,
          56.0487044709811,
          56.0256427923844,
          56.0522891497333,
          56.0461721346243,
          55.9728015245357,
          55.8529254060554,
          55.5931801951266,
          55.0207968902513,
          54.2195244410156,
          53.3385463867822,
          52.4243366823125
         ],
         "hovertemplate": "<b>Año: %{x}</b><br>Participación: %{y:.1f}%<br>Ratio Dep.: %{customdata:.1f}%<extra></extra>",
         "legendgroup": "59.5157720560259",
         "line": {
          "color": "#FFA15A",
          "dash": "solid",
          "shape": "linear",
          "width": 2
         },
         "marker": {
          "symbol": "circle"
         },
         "mode": "lines+markers",
         "name": "59.5157720560259",
         "orientation": "v",
         "showlegend": true,
         "type": "scatter",
         "x": [
          2003
         ],
         "xaxis": "x",
         "y": [
          60.25
         ],
         "yaxis": "y"
        },
        {
         "customdata": [
          61.2236911618814,
          60.8399424011737,
          60.442088771688,
          60.0100181534326,
          59.5157720560259,
          58.9908808603745,
          58.4885317167095,
          58.0003526705021,
          57.5050434620378,
          57.0741876732807,
          56.735685768345,
          56.452142111234,
          56.2739537637124,
          56.1467747951315,
          56.0487044709811,
          56.0256427923844,
          56.0522891497333,
          56.0461721346243,
          55.9728015245357,
          55.8529254060554,
          55.5931801951266,
          55.0207968902513,
          54.2195244410156,
          53.3385463867822,
          52.4243366823125
         ],
         "hovertemplate": "<b>Año: %{x}</b><br>Participación: %{y:.1f}%<br>Ratio Dep.: %{customdata:.1f}%<extra></extra>",
         "legendgroup": "58.9908808603745",
         "line": {
          "color": "#19d3f3",
          "dash": "solid",
          "shape": "linear",
          "width": 2
         },
         "marker": {
          "symbol": "circle"
         },
         "mode": "lines+markers",
         "name": "58.9908808603745",
         "orientation": "v",
         "showlegend": true,
         "type": "scatter",
         "x": [
          2004
         ],
         "xaxis": "x",
         "y": [
          61.943
         ],
         "yaxis": "y"
        },
        {
         "customdata": [
          61.2236911618814,
          60.8399424011737,
          60.442088771688,
          60.0100181534326,
          59.5157720560259,
          58.9908808603745,
          58.4885317167095,
          58.0003526705021,
          57.5050434620378,
          57.0741876732807,
          56.735685768345,
          56.452142111234,
          56.2739537637124,
          56.1467747951315,
          56.0487044709811,
          56.0256427923844,
          56.0522891497333,
          56.0461721346243,
          55.9728015245357,
          55.8529254060554,
          55.5931801951266,
          55.0207968902513,
          54.2195244410156,
          53.3385463867822,
          52.4243366823125
         ],
         "hovertemplate": "<b>Año: %{x}</b><br>Participación: %{y:.1f}%<br>Ratio Dep.: %{customdata:.1f}%<extra></extra>",
         "legendgroup": "58.4885317167095",
         "line": {
          "color": "#FF6692",
          "dash": "solid",
          "shape": "linear",
          "width": 2
         },
         "marker": {
          "symbol": "circle"
         },
         "mode": "lines+markers",
         "name": "58.4885317167095",
         "orientation": "v",
         "showlegend": true,
         "type": "scatter",
         "x": [
          2005
         ],
         "xaxis": "x",
         "y": [
          61.511
         ],
         "yaxis": "y"
        },
        {
         "customdata": [
          61.2236911618814,
          60.8399424011737,
          60.442088771688,
          60.0100181534326,
          59.5157720560259,
          58.9908808603745,
          58.4885317167095,
          58.0003526705021,
          57.5050434620378,
          57.0741876732807,
          56.735685768345,
          56.452142111234,
          56.2739537637124,
          56.1467747951315,
          56.0487044709811,
          56.0256427923844,
          56.0522891497333,
          56.0461721346243,
          55.9728015245357,
          55.8529254060554,
          55.5931801951266,
          55.0207968902513,
          54.2195244410156,
          53.3385463867822,
          52.4243366823125
         ],
         "hovertemplate": "<b>Año: %{x}</b><br>Participación: %{y:.1f}%<br>Ratio Dep.: %{customdata:.1f}%<extra></extra>",
         "legendgroup": "58.0003526705021",
         "line": {
          "color": "#B6E880",
          "dash": "solid",
          "shape": "linear",
          "width": 2
         },
         "marker": {
          "symbol": "circle"
         },
         "mode": "lines+markers",
         "name": "58.0003526705021",
         "orientation": "v",
         "showlegend": true,
         "type": "scatter",
         "x": [
          2006
         ],
         "xaxis": "x",
         "y": [
          61.795
         ],
         "yaxis": "y"
        },
        {
         "customdata": [
          61.2236911618814,
          60.8399424011737,
          60.442088771688,
          60.0100181534326,
          59.5157720560259,
          58.9908808603745,
          58.4885317167095,
          58.0003526705021,
          57.5050434620378,
          57.0741876732807,
          56.735685768345,
          56.452142111234,
          56.2739537637124,
          56.1467747951315,
          56.0487044709811,
          56.0256427923844,
          56.0522891497333,
          56.0461721346243,
          55.9728015245357,
          55.8529254060554,
          55.5931801951266,
          55.0207968902513,
          54.2195244410156,
          53.3385463867822,
          52.4243366823125
         ],
         "hovertemplate": "<b>Año: %{x}</b><br>Participación: %{y:.1f}%<br>Ratio Dep.: %{customdata:.1f}%<extra></extra>",
         "legendgroup": "57.5050434620378",
         "line": {
          "color": "#FF97FF",
          "dash": "solid",
          "shape": "linear",
          "width": 2
         },
         "marker": {
          "symbol": "circle"
         },
         "mode": "lines+markers",
         "name": "57.5050434620378",
         "orientation": "v",
         "showlegend": true,
         "type": "scatter",
         "x": [
          2007
         ],
         "xaxis": "x",
         "y": [
          61
         ],
         "yaxis": "y"
        },
        {
         "customdata": [
          61.2236911618814,
          60.8399424011737,
          60.442088771688,
          60.0100181534326,
          59.5157720560259,
          58.9908808603745,
          58.4885317167095,
          58.0003526705021,
          57.5050434620378,
          57.0741876732807,
          56.735685768345,
          56.452142111234,
          56.2739537637124,
          56.1467747951315,
          56.0487044709811,
          56.0256427923844,
          56.0522891497333,
          56.0461721346243,
          55.9728015245357,
          55.8529254060554,
          55.5931801951266,
          55.0207968902513,
          54.2195244410156,
          53.3385463867822,
          52.4243366823125
         ],
         "hovertemplate": "<b>Año: %{x}</b><br>Participación: %{y:.1f}%<br>Ratio Dep.: %{customdata:.1f}%<extra></extra>",
         "legendgroup": "57.0741876732807",
         "line": {
          "color": "#FECB52",
          "dash": "solid",
          "shape": "linear",
          "width": 2
         },
         "marker": {
          "symbol": "circle"
         },
         "mode": "lines+markers",
         "name": "57.0741876732807",
         "orientation": "v",
         "showlegend": true,
         "type": "scatter",
         "x": [
          2008
         ],
         "xaxis": "x",
         "y": [
          60.428
         ],
         "yaxis": "y"
        },
        {
         "customdata": [
          61.2236911618814,
          60.8399424011737,
          60.442088771688,
          60.0100181534326,
          59.5157720560259,
          58.9908808603745,
          58.4885317167095,
          58.0003526705021,
          57.5050434620378,
          57.0741876732807,
          56.735685768345,
          56.452142111234,
          56.2739537637124,
          56.1467747951315,
          56.0487044709811,
          56.0256427923844,
          56.0522891497333,
          56.0461721346243,
          55.9728015245357,
          55.8529254060554,
          55.5931801951266,
          55.0207968902513,
          54.2195244410156,
          53.3385463867822,
          52.4243366823125
         ],
         "hovertemplate": "<b>Año: %{x}</b><br>Participación: %{y:.1f}%<br>Ratio Dep.: %{customdata:.1f}%<extra></extra>",
         "legendgroup": "56.735685768345",
         "line": {
          "color": "#636efa",
          "dash": "solid",
          "shape": "linear",
          "width": 2
         },
         "marker": {
          "symbol": "circle"
         },
         "mode": "lines+markers",
         "name": "56.735685768345",
         "orientation": "v",
         "showlegend": true,
         "type": "scatter",
         "x": [
          2009
         ],
         "xaxis": "x",
         "y": [
          60.78
         ],
         "yaxis": "y"
        },
        {
         "customdata": [
          61.2236911618814,
          60.8399424011737,
          60.442088771688,
          60.0100181534326,
          59.5157720560259,
          58.9908808603745,
          58.4885317167095,
          58.0003526705021,
          57.5050434620378,
          57.0741876732807,
          56.735685768345,
          56.452142111234,
          56.2739537637124,
          56.1467747951315,
          56.0487044709811,
          56.0256427923844,
          56.0522891497333,
          56.0461721346243,
          55.9728015245357,
          55.8529254060554,
          55.5931801951266,
          55.0207968902513,
          54.2195244410156,
          53.3385463867822,
          52.4243366823125
         ],
         "hovertemplate": "<b>Año: %{x}</b><br>Participación: %{y:.1f}%<br>Ratio Dep.: %{customdata:.1f}%<extra></extra>",
         "legendgroup": "56.452142111234",
         "line": {
          "color": "#EF553B",
          "dash": "solid",
          "shape": "linear",
          "width": 2
         },
         "marker": {
          "symbol": "circle"
         },
         "mode": "lines+markers",
         "name": "56.452142111234",
         "orientation": "v",
         "showlegend": true,
         "type": "scatter",
         "x": [
          2010
         ],
         "xaxis": "x",
         "y": [
          60.187
         ],
         "yaxis": "y"
        },
        {
         "customdata": [
          61.2236911618814,
          60.8399424011737,
          60.442088771688,
          60.0100181534326,
          59.5157720560259,
          58.9908808603745,
          58.4885317167095,
          58.0003526705021,
          57.5050434620378,
          57.0741876732807,
          56.735685768345,
          56.452142111234,
          56.2739537637124,
          56.1467747951315,
          56.0487044709811,
          56.0256427923844,
          56.0522891497333,
          56.0461721346243,
          55.9728015245357,
          55.8529254060554,
          55.5931801951266,
          55.0207968902513,
          54.2195244410156,
          53.3385463867822,
          52.4243366823125
         ],
         "hovertemplate": "<b>Año: %{x}</b><br>Participación: %{y:.1f}%<br>Ratio Dep.: %{customdata:.1f}%<extra></extra>",
         "legendgroup": "56.2739537637124",
         "line": {
          "color": "#00cc96",
          "dash": "solid",
          "shape": "linear",
          "width": 2
         },
         "marker": {
          "symbol": "circle"
         },
         "mode": "lines+markers",
         "name": "56.2739537637124",
         "orientation": "v",
         "showlegend": true,
         "type": "scatter",
         "x": [
          2011
         ],
         "xaxis": "x",
         "y": [
          60.651
         ],
         "yaxis": "y"
        },
        {
         "customdata": [
          61.2236911618814,
          60.8399424011737,
          60.442088771688,
          60.0100181534326,
          59.5157720560259,
          58.9908808603745,
          58.4885317167095,
          58.0003526705021,
          57.5050434620378,
          57.0741876732807,
          56.735685768345,
          56.452142111234,
          56.2739537637124,
          56.1467747951315,
          56.0487044709811,
          56.0256427923844,
          56.0522891497333,
          56.0461721346243,
          55.9728015245357,
          55.8529254060554,
          55.5931801951266,
          55.0207968902513,
          54.2195244410156,
          53.3385463867822,
          52.4243366823125
         ],
         "hovertemplate": "<b>Año: %{x}</b><br>Participación: %{y:.1f}%<br>Ratio Dep.: %{customdata:.1f}%<extra></extra>",
         "legendgroup": "56.1467747951315",
         "line": {
          "color": "#ab63fa",
          "dash": "solid",
          "shape": "linear",
          "width": 2
         },
         "marker": {
          "symbol": "circle"
         },
         "mode": "lines+markers",
         "name": "56.1467747951315",
         "orientation": "v",
         "showlegend": true,
         "type": "scatter",
         "x": [
          2012
         ],
         "xaxis": "x",
         "y": [
          60.362
         ],
         "yaxis": "y"
        },
        {
         "customdata": [
          61.2236911618814,
          60.8399424011737,
          60.442088771688,
          60.0100181534326,
          59.5157720560259,
          58.9908808603745,
          58.4885317167095,
          58.0003526705021,
          57.5050434620378,
          57.0741876732807,
          56.735685768345,
          56.452142111234,
          56.2739537637124,
          56.1467747951315,
          56.0487044709811,
          56.0256427923844,
          56.0522891497333,
          56.0461721346243,
          55.9728015245357,
          55.8529254060554,
          55.5931801951266,
          55.0207968902513,
          54.2195244410156,
          53.3385463867822,
          52.4243366823125
         ],
         "hovertemplate": "<b>Año: %{x}</b><br>Participación: %{y:.1f}%<br>Ratio Dep.: %{customdata:.1f}%<extra></extra>",
         "legendgroup": "56.0487044709811",
         "line": {
          "color": "#FFA15A",
          "dash": "solid",
          "shape": "linear",
          "width": 2
         },
         "marker": {
          "symbol": "circle"
         },
         "mode": "lines+markers",
         "name": "56.0487044709811",
         "orientation": "v",
         "showlegend": true,
         "type": "scatter",
         "x": [
          2013
         ],
         "xaxis": "x",
         "y": [
          59.962
         ],
         "yaxis": "y"
        },
        {
         "customdata": [
          61.2236911618814,
          60.8399424011737,
          60.442088771688,
          60.0100181534326,
          59.5157720560259,
          58.9908808603745,
          58.4885317167095,
          58.0003526705021,
          57.5050434620378,
          57.0741876732807,
          56.735685768345,
          56.452142111234,
          56.2739537637124,
          56.1467747951315,
          56.0487044709811,
          56.0256427923844,
          56.0522891497333,
          56.0461721346243,
          55.9728015245357,
          55.8529254060554,
          55.5931801951266,
          55.0207968902513,
          54.2195244410156,
          53.3385463867822,
          52.4243366823125
         ],
         "hovertemplate": "<b>Año: %{x}</b><br>Participación: %{y:.1f}%<br>Ratio Dep.: %{customdata:.1f}%<extra></extra>",
         "legendgroup": "56.0256427923844",
         "line": {
          "color": "#19d3f3",
          "dash": "solid",
          "shape": "linear",
          "width": 2
         },
         "marker": {
          "symbol": "circle"
         },
         "mode": "lines+markers",
         "name": "56.0256427923844",
         "orientation": "v",
         "showlegend": true,
         "type": "scatter",
         "x": [
          2014
         ],
         "xaxis": "x",
         "y": [
          59.444
         ],
         "yaxis": "y"
        },
        {
         "customdata": [
          61.2236911618814,
          60.8399424011737,
          60.442088771688,
          60.0100181534326,
          59.5157720560259,
          58.9908808603745,
          58.4885317167095,
          58.0003526705021,
          57.5050434620378,
          57.0741876732807,
          56.735685768345,
          56.452142111234,
          56.2739537637124,
          56.1467747951315,
          56.0487044709811,
          56.0256427923844,
          56.0522891497333,
          56.0461721346243,
          55.9728015245357,
          55.8529254060554,
          55.5931801951266,
          55.0207968902513,
          54.2195244410156,
          53.3385463867822,
          52.4243366823125
         ],
         "hovertemplate": "<b>Año: %{x}</b><br>Participación: %{y:.1f}%<br>Ratio Dep.: %{customdata:.1f}%<extra></extra>",
         "legendgroup": "56.0522891497333",
         "line": {
          "color": "#FF6692",
          "dash": "solid",
          "shape": "linear",
          "width": 2
         },
         "marker": {
          "symbol": "circle"
         },
         "mode": "lines+markers",
         "name": "56.0522891497333",
         "orientation": "v",
         "showlegend": true,
         "type": "scatter",
         "x": [
          2015
         ],
         "xaxis": "x",
         "y": [
          60.5
         ],
         "yaxis": "y"
        },
        {
         "customdata": [
          61.2236911618814,
          60.8399424011737,
          60.442088771688,
          60.0100181534326,
          59.5157720560259,
          58.9908808603745,
          58.4885317167095,
          58.0003526705021,
          57.5050434620378,
          57.0741876732807,
          56.735685768345,
          56.452142111234,
          56.2739537637124,
          56.1467747951315,
          56.0487044709811,
          56.0256427923844,
          56.0522891497333,
          56.0461721346243,
          55.9728015245357,
          55.8529254060554,
          55.5931801951266,
          55.0207968902513,
          54.2195244410156,
          53.3385463867822,
          52.4243366823125
         ],
         "hovertemplate": "<b>Año: %{x}</b><br>Participación: %{y:.1f}%<br>Ratio Dep.: %{customdata:.1f}%<extra></extra>",
         "legendgroup": "56.0461721346243",
         "line": {
          "color": "#B6E880",
          "dash": "solid",
          "shape": "linear",
          "width": 2
         },
         "marker": {
          "symbol": "circle"
         },
         "mode": "lines+markers",
         "name": "56.0461721346243",
         "orientation": "v",
         "showlegend": true,
         "type": "scatter",
         "x": [
          2016
         ],
         "xaxis": "x",
         "y": [
          60.6
         ],
         "yaxis": "y"
        },
        {
         "customdata": [
          61.2236911618814,
          60.8399424011737,
          60.442088771688,
          60.0100181534326,
          59.5157720560259,
          58.9908808603745,
          58.4885317167095,
          58.0003526705021,
          57.5050434620378,
          57.0741876732807,
          56.735685768345,
          56.452142111234,
          56.2739537637124,
          56.1467747951315,
          56.0487044709811,
          56.0256427923844,
          56.0522891497333,
          56.0461721346243,
          55.9728015245357,
          55.8529254060554,
          55.5931801951266,
          55.0207968902513,
          54.2195244410156,
          53.3385463867822,
          52.4243366823125
         ],
         "hovertemplate": "<b>Año: %{x}</b><br>Participación: %{y:.1f}%<br>Ratio Dep.: %{customdata:.1f}%<extra></extra>",
         "legendgroup": "55.9728015245357",
         "line": {
          "color": "#FF97FF",
          "dash": "solid",
          "shape": "linear",
          "width": 2
         },
         "marker": {
          "symbol": "circle"
         },
         "mode": "lines+markers",
         "name": "55.9728015245357",
         "orientation": "v",
         "showlegend": true,
         "type": "scatter",
         "x": [
          2017
         ],
         "xaxis": "x",
         "y": [
          58.808
         ],
         "yaxis": "y"
        },
        {
         "customdata": [
          61.2236911618814,
          60.8399424011737,
          60.442088771688,
          60.0100181534326,
          59.5157720560259,
          58.9908808603745,
          58.4885317167095,
          58.0003526705021,
          57.5050434620378,
          57.0741876732807,
          56.735685768345,
          56.452142111234,
          56.2739537637124,
          56.1467747951315,
          56.0487044709811,
          56.0256427923844,
          56.0522891497333,
          56.0461721346243,
          55.9728015245357,
          55.8529254060554,
          55.5931801951266,
          55.0207968902513,
          54.2195244410156,
          53.3385463867822,
          52.4243366823125
         ],
         "hovertemplate": "<b>Año: %{x}</b><br>Participación: %{y:.1f}%<br>Ratio Dep.: %{customdata:.1f}%<extra></extra>",
         "legendgroup": "55.8529254060554",
         "line": {
          "color": "#FECB52",
          "dash": "solid",
          "shape": "linear",
          "width": 2
         },
         "marker": {
          "symbol": "circle"
         },
         "mode": "lines+markers",
         "name": "55.8529254060554",
         "orientation": "v",
         "showlegend": true,
         "type": "scatter",
         "x": [
          2018
         ],
         "xaxis": "x",
         "y": [
          59.595
         ],
         "yaxis": "y"
        },
        {
         "customdata": [
          61.2236911618814,
          60.8399424011737,
          60.442088771688,
          60.0100181534326,
          59.5157720560259,
          58.9908808603745,
          58.4885317167095,
          58.0003526705021,
          57.5050434620378,
          57.0741876732807,
          56.735685768345,
          56.452142111234,
          56.2739537637124,
          56.1467747951315,
          56.0487044709811,
          56.0256427923844,
          56.0522891497333,
          56.0461721346243,
          55.9728015245357,
          55.8529254060554,
          55.5931801951266,
          55.0207968902513,
          54.2195244410156,
          53.3385463867822,
          52.4243366823125
         ],
         "hovertemplate": "<b>Año: %{x}</b><br>Participación: %{y:.1f}%<br>Ratio Dep.: %{customdata:.1f}%<extra></extra>",
         "legendgroup": "55.5931801951266",
         "line": {
          "color": "#636efa",
          "dash": "solid",
          "shape": "linear",
          "width": 2
         },
         "marker": {
          "symbol": "circle"
         },
         "mode": "lines+markers",
         "name": "55.5931801951266",
         "orientation": "v",
         "showlegend": true,
         "type": "scatter",
         "x": [
          2019
         ],
         "xaxis": "x",
         "y": [
          60.289
         ],
         "yaxis": "y"
        },
        {
         "customdata": [
          61.2236911618814,
          60.8399424011737,
          60.442088771688,
          60.0100181534326,
          59.5157720560259,
          58.9908808603745,
          58.4885317167095,
          58.0003526705021,
          57.5050434620378,
          57.0741876732807,
          56.735685768345,
          56.452142111234,
          56.2739537637124,
          56.1467747951315,
          56.0487044709811,
          56.0256427923844,
          56.0522891497333,
          56.0461721346243,
          55.9728015245357,
          55.8529254060554,
          55.5931801951266,
          55.0207968902513,
          54.2195244410156,
          53.3385463867822,
          52.4243366823125
         ],
         "hovertemplate": "<b>Año: %{x}</b><br>Participación: %{y:.1f}%<br>Ratio Dep.: %{customdata:.1f}%<extra></extra>",
         "legendgroup": "55.0207968902513",
         "line": {
          "color": "#EF553B",
          "dash": "solid",
          "shape": "linear",
          "width": 2
         },
         "marker": {
          "symbol": "circle"
         },
         "mode": "lines+markers",
         "name": "55.0207968902513",
         "orientation": "v",
         "showlegend": true,
         "type": "scatter",
         "x": [
          2020
         ],
         "xaxis": "x",
         "y": [
          56.023
         ],
         "yaxis": "y"
        },
        {
         "customdata": [
          61.2236911618814,
          60.8399424011737,
          60.442088771688,
          60.0100181534326,
          59.5157720560259,
          58.9908808603745,
          58.4885317167095,
          58.0003526705021,
          57.5050434620378,
          57.0741876732807,
          56.735685768345,
          56.452142111234,
          56.2739537637124,
          56.1467747951315,
          56.0487044709811,
          56.0256427923844,
          56.0522891497333,
          56.0461721346243,
          55.9728015245357,
          55.8529254060554,
          55.5931801951266,
          55.0207968902513,
          54.2195244410156,
          53.3385463867822,
          52.4243366823125
         ],
         "hovertemplate": "<b>Año: %{x}</b><br>Participación: %{y:.1f}%<br>Ratio Dep.: %{customdata:.1f}%<extra></extra>",
         "legendgroup": "54.2195244410156",
         "line": {
          "color": "#00cc96",
          "dash": "solid",
          "shape": "linear",
          "width": 2
         },
         "marker": {
          "symbol": "circle"
         },
         "mode": "lines+markers",
         "name": "54.2195244410156",
         "orientation": "v",
         "showlegend": true,
         "type": "scatter",
         "x": [
          2021
         ],
         "xaxis": "x",
         "y": [
          60.358
         ],
         "yaxis": "y"
        },
        {
         "customdata": [
          61.2236911618814,
          60.8399424011737,
          60.442088771688,
          60.0100181534326,
          59.5157720560259,
          58.9908808603745,
          58.4885317167095,
          58.0003526705021,
          57.5050434620378,
          57.0741876732807,
          56.735685768345,
          56.452142111234,
          56.2739537637124,
          56.1467747951315,
          56.0487044709811,
          56.0256427923844,
          56.0522891497333,
          56.0461721346243,
          55.9728015245357,
          55.8529254060554,
          55.5931801951266,
          55.0207968902513,
          54.2195244410156,
          53.3385463867822,
          52.4243366823125
         ],
         "hovertemplate": "<b>Año: %{x}</b><br>Participación: %{y:.1f}%<br>Ratio Dep.: %{customdata:.1f}%<extra></extra>",
         "legendgroup": "53.3385463867822",
         "line": {
          "color": "#ab63fa",
          "dash": "solid",
          "shape": "linear",
          "width": 2
         },
         "marker": {
          "symbol": "circle"
         },
         "mode": "lines+markers",
         "name": "53.3385463867822",
         "orientation": "v",
         "showlegend": true,
         "type": "scatter",
         "x": [
          2022
         ],
         "xaxis": "x",
         "y": [
          61.484
         ],
         "yaxis": "y"
        },
        {
         "customdata": [
          61.2236911618814,
          60.8399424011737,
          60.442088771688,
          60.0100181534326,
          59.5157720560259,
          58.9908808603745,
          58.4885317167095,
          58.0003526705021,
          57.5050434620378,
          57.0741876732807,
          56.735685768345,
          56.452142111234,
          56.2739537637124,
          56.1467747951315,
          56.0487044709811,
          56.0256427923844,
          56.0522891497333,
          56.0461721346243,
          55.9728015245357,
          55.8529254060554,
          55.5931801951266,
          55.0207968902513,
          54.2195244410156,
          53.3385463867822,
          52.4243366823125
         ],
         "hovertemplate": "<b>Año: %{x}</b><br>Participación: %{y:.1f}%<br>Ratio Dep.: %{customdata:.1f}%<extra></extra>",
         "legendgroup": "52.4243366823125",
         "line": {
          "color": "#FFA15A",
          "dash": "solid",
          "shape": "linear",
          "width": 2
         },
         "marker": {
          "symbol": "circle"
         },
         "mode": "lines+markers",
         "name": "52.4243366823125",
         "orientation": "v",
         "showlegend": true,
         "type": "scatter",
         "x": [
          2023
         ],
         "xaxis": "x",
         "y": [
          62.286
         ],
         "yaxis": "y"
        }
       ],
       "layout": {
        "annotations": [
         {
          "arrowhead": 2,
          "ax": 20,
          "ay": -30,
          "font": {
           "color": "darkblue",
           "size": 12
          },
          "showarrow": true,
          "text": "Pandemia",
          "x": 2020,
          "xref": "x",
          "y": 56.5,
          "yref": "y"
         },
         {
          "arrowhead": 2,
          "ax": 20,
          "ay": 30,
          "font": {
           "color": "red",
           "size": 12
          },
          "showarrow": true,
          "text": "Crisis del 2001",
          "x": 2001,
          "xref": "x",
          "y": 56.5,
          "yref": "y"
         }
        ],
        "font": {
         "family": "Arial",
         "size": 12
        },
        "hovermode": "x unified",
        "legend": {
         "title": {
          "text": "Radio de Dependencia por Edad"
         },
         "tracegroupgap": 0
        },
        "margin": {
         "b": 50,
         "l": 50,
         "r": 50,
         "t": 80
        },
        "showlegend": true,
        "template": {
         "data": {
          "bar": [
           {
            "error_x": {
             "color": "#2a3f5f"
            },
            "error_y": {
             "color": "#2a3f5f"
            },
            "marker": {
             "line": {
              "color": "white",
              "width": 0.5
             },
             "pattern": {
              "fillmode": "overlay",
              "size": 10,
              "solidity": 0.2
             }
            },
            "type": "bar"
           }
          ],
          "barpolar": [
           {
            "marker": {
             "line": {
              "color": "white",
              "width": 0.5
             },
             "pattern": {
              "fillmode": "overlay",
              "size": 10,
              "solidity": 0.2
             }
            },
            "type": "barpolar"
           }
          ],
          "carpet": [
           {
            "aaxis": {
             "endlinecolor": "#2a3f5f",
             "gridcolor": "#C8D4E3",
             "linecolor": "#C8D4E3",
             "minorgridcolor": "#C8D4E3",
             "startlinecolor": "#2a3f5f"
            },
            "baxis": {
             "endlinecolor": "#2a3f5f",
             "gridcolor": "#C8D4E3",
             "linecolor": "#C8D4E3",
             "minorgridcolor": "#C8D4E3",
             "startlinecolor": "#2a3f5f"
            },
            "type": "carpet"
           }
          ],
          "choropleth": [
           {
            "colorbar": {
             "outlinewidth": 0,
             "ticks": ""
            },
            "type": "choropleth"
           }
          ],
          "contour": [
           {
            "colorbar": {
             "outlinewidth": 0,
             "ticks": ""
            },
            "colorscale": [
             [
              0,
              "#0d0887"
             ],
             [
              0.1111111111111111,
              "#46039f"
             ],
             [
              0.2222222222222222,
              "#7201a8"
             ],
             [
              0.3333333333333333,
              "#9c179e"
             ],
             [
              0.4444444444444444,
              "#bd3786"
             ],
             [
              0.5555555555555556,
              "#d8576b"
             ],
             [
              0.6666666666666666,
              "#ed7953"
             ],
             [
              0.7777777777777778,
              "#fb9f3a"
             ],
             [
              0.8888888888888888,
              "#fdca26"
             ],
             [
              1,
              "#f0f921"
             ]
            ],
            "type": "contour"
           }
          ],
          "contourcarpet": [
           {
            "colorbar": {
             "outlinewidth": 0,
             "ticks": ""
            },
            "type": "contourcarpet"
           }
          ],
          "heatmap": [
           {
            "colorbar": {
             "outlinewidth": 0,
             "ticks": ""
            },
            "colorscale": [
             [
              0,
              "#0d0887"
             ],
             [
              0.1111111111111111,
              "#46039f"
             ],
             [
              0.2222222222222222,
              "#7201a8"
             ],
             [
              0.3333333333333333,
              "#9c179e"
             ],
             [
              0.4444444444444444,
              "#bd3786"
             ],
             [
              0.5555555555555556,
              "#d8576b"
             ],
             [
              0.6666666666666666,
              "#ed7953"
             ],
             [
              0.7777777777777778,
              "#fb9f3a"
             ],
             [
              0.8888888888888888,
              "#fdca26"
             ],
             [
              1,
              "#f0f921"
             ]
            ],
            "type": "heatmap"
           }
          ],
          "heatmapgl": [
           {
            "colorbar": {
             "outlinewidth": 0,
             "ticks": ""
            },
            "colorscale": [
             [
              0,
              "#0d0887"
             ],
             [
              0.1111111111111111,
              "#46039f"
             ],
             [
              0.2222222222222222,
              "#7201a8"
             ],
             [
              0.3333333333333333,
              "#9c179e"
             ],
             [
              0.4444444444444444,
              "#bd3786"
             ],
             [
              0.5555555555555556,
              "#d8576b"
             ],
             [
              0.6666666666666666,
              "#ed7953"
             ],
             [
              0.7777777777777778,
              "#fb9f3a"
             ],
             [
              0.8888888888888888,
              "#fdca26"
             ],
             [
              1,
              "#f0f921"
             ]
            ],
            "type": "heatmapgl"
           }
          ],
          "histogram": [
           {
            "marker": {
             "pattern": {
              "fillmode": "overlay",
              "size": 10,
              "solidity": 0.2
             }
            },
            "type": "histogram"
           }
          ],
          "histogram2d": [
           {
            "colorbar": {
             "outlinewidth": 0,
             "ticks": ""
            },
            "colorscale": [
             [
              0,
              "#0d0887"
             ],
             [
              0.1111111111111111,
              "#46039f"
             ],
             [
              0.2222222222222222,
              "#7201a8"
             ],
             [
              0.3333333333333333,
              "#9c179e"
             ],
             [
              0.4444444444444444,
              "#bd3786"
             ],
             [
              0.5555555555555556,
              "#d8576b"
             ],
             [
              0.6666666666666666,
              "#ed7953"
             ],
             [
              0.7777777777777778,
              "#fb9f3a"
             ],
             [
              0.8888888888888888,
              "#fdca26"
             ],
             [
              1,
              "#f0f921"
             ]
            ],
            "type": "histogram2d"
           }
          ],
          "histogram2dcontour": [
           {
            "colorbar": {
             "outlinewidth": 0,
             "ticks": ""
            },
            "colorscale": [
             [
              0,
              "#0d0887"
             ],
             [
              0.1111111111111111,
              "#46039f"
             ],
             [
              0.2222222222222222,
              "#7201a8"
             ],
             [
              0.3333333333333333,
              "#9c179e"
             ],
             [
              0.4444444444444444,
              "#bd3786"
             ],
             [
              0.5555555555555556,
              "#d8576b"
             ],
             [
              0.6666666666666666,
              "#ed7953"
             ],
             [
              0.7777777777777778,
              "#fb9f3a"
             ],
             [
              0.8888888888888888,
              "#fdca26"
             ],
             [
              1,
              "#f0f921"
             ]
            ],
            "type": "histogram2dcontour"
           }
          ],
          "mesh3d": [
           {
            "colorbar": {
             "outlinewidth": 0,
             "ticks": ""
            },
            "type": "mesh3d"
           }
          ],
          "parcoords": [
           {
            "line": {
             "colorbar": {
              "outlinewidth": 0,
              "ticks": ""
             }
            },
            "type": "parcoords"
           }
          ],
          "pie": [
           {
            "automargin": true,
            "type": "pie"
           }
          ],
          "scatter": [
           {
            "fillpattern": {
             "fillmode": "overlay",
             "size": 10,
             "solidity": 0.2
            },
            "type": "scatter"
           }
          ],
          "scatter3d": [
           {
            "line": {
             "colorbar": {
              "outlinewidth": 0,
              "ticks": ""
             }
            },
            "marker": {
             "colorbar": {
              "outlinewidth": 0,
              "ticks": ""
             }
            },
            "type": "scatter3d"
           }
          ],
          "scattercarpet": [
           {
            "marker": {
             "colorbar": {
              "outlinewidth": 0,
              "ticks": ""
             }
            },
            "type": "scattercarpet"
           }
          ],
          "scattergeo": [
           {
            "marker": {
             "colorbar": {
              "outlinewidth": 0,
              "ticks": ""
             }
            },
            "type": "scattergeo"
           }
          ],
          "scattergl": [
           {
            "marker": {
             "colorbar": {
              "outlinewidth": 0,
              "ticks": ""
             }
            },
            "type": "scattergl"
           }
          ],
          "scattermapbox": [
           {
            "marker": {
             "colorbar": {
              "outlinewidth": 0,
              "ticks": ""
             }
            },
            "type": "scattermapbox"
           }
          ],
          "scatterpolar": [
           {
            "marker": {
             "colorbar": {
              "outlinewidth": 0,
              "ticks": ""
             }
            },
            "type": "scatterpolar"
           }
          ],
          "scatterpolargl": [
           {
            "marker": {
             "colorbar": {
              "outlinewidth": 0,
              "ticks": ""
             }
            },
            "type": "scatterpolargl"
           }
          ],
          "scatterternary": [
           {
            "marker": {
             "colorbar": {
              "outlinewidth": 0,
              "ticks": ""
             }
            },
            "type": "scatterternary"
           }
          ],
          "surface": [
           {
            "colorbar": {
             "outlinewidth": 0,
             "ticks": ""
            },
            "colorscale": [
             [
              0,
              "#0d0887"
             ],
             [
              0.1111111111111111,
              "#46039f"
             ],
             [
              0.2222222222222222,
              "#7201a8"
             ],
             [
              0.3333333333333333,
              "#9c179e"
             ],
             [
              0.4444444444444444,
              "#bd3786"
             ],
             [
              0.5555555555555556,
              "#d8576b"
             ],
             [
              0.6666666666666666,
              "#ed7953"
             ],
             [
              0.7777777777777778,
              "#fb9f3a"
             ],
             [
              0.8888888888888888,
              "#fdca26"
             ],
             [
              1,
              "#f0f921"
             ]
            ],
            "type": "surface"
           }
          ],
          "table": [
           {
            "cells": {
             "fill": {
              "color": "#EBF0F8"
             },
             "line": {
              "color": "white"
             }
            },
            "header": {
             "fill": {
              "color": "#C8D4E3"
             },
             "line": {
              "color": "white"
             }
            },
            "type": "table"
           }
          ]
         },
         "layout": {
          "annotationdefaults": {
           "arrowcolor": "#2a3f5f",
           "arrowhead": 0,
           "arrowwidth": 1
          },
          "autotypenumbers": "strict",
          "coloraxis": {
           "colorbar": {
            "outlinewidth": 0,
            "ticks": ""
           }
          },
          "colorscale": {
           "diverging": [
            [
             0,
             "#8e0152"
            ],
            [
             0.1,
             "#c51b7d"
            ],
            [
             0.2,
             "#de77ae"
            ],
            [
             0.3,
             "#f1b6da"
            ],
            [
             0.4,
             "#fde0ef"
            ],
            [
             0.5,
             "#f7f7f7"
            ],
            [
             0.6,
             "#e6f5d0"
            ],
            [
             0.7,
             "#b8e186"
            ],
            [
             0.8,
             "#7fbc41"
            ],
            [
             0.9,
             "#4d9221"
            ],
            [
             1,
             "#276419"
            ]
           ],
           "sequential": [
            [
             0,
             "#0d0887"
            ],
            [
             0.1111111111111111,
             "#46039f"
            ],
            [
             0.2222222222222222,
             "#7201a8"
            ],
            [
             0.3333333333333333,
             "#9c179e"
            ],
            [
             0.4444444444444444,
             "#bd3786"
            ],
            [
             0.5555555555555556,
             "#d8576b"
            ],
            [
             0.6666666666666666,
             "#ed7953"
            ],
            [
             0.7777777777777778,
             "#fb9f3a"
            ],
            [
             0.8888888888888888,
             "#fdca26"
            ],
            [
             1,
             "#f0f921"
            ]
           ],
           "sequentialminus": [
            [
             0,
             "#0d0887"
            ],
            [
             0.1111111111111111,
             "#46039f"
            ],
            [
             0.2222222222222222,
             "#7201a8"
            ],
            [
             0.3333333333333333,
             "#9c179e"
            ],
            [
             0.4444444444444444,
             "#bd3786"
            ],
            [
             0.5555555555555556,
             "#d8576b"
            ],
            [
             0.6666666666666666,
             "#ed7953"
            ],
            [
             0.7777777777777778,
             "#fb9f3a"
            ],
            [
             0.8888888888888888,
             "#fdca26"
            ],
            [
             1,
             "#f0f921"
            ]
           ]
          },
          "colorway": [
           "#636efa",
           "#EF553B",
           "#00cc96",
           "#ab63fa",
           "#FFA15A",
           "#19d3f3",
           "#FF6692",
           "#B6E880",
           "#FF97FF",
           "#FECB52"
          ],
          "font": {
           "color": "#2a3f5f"
          },
          "geo": {
           "bgcolor": "white",
           "lakecolor": "white",
           "landcolor": "white",
           "showlakes": true,
           "showland": true,
           "subunitcolor": "#C8D4E3"
          },
          "hoverlabel": {
           "align": "left"
          },
          "hovermode": "closest",
          "mapbox": {
           "style": "light"
          },
          "paper_bgcolor": "white",
          "plot_bgcolor": "white",
          "polar": {
           "angularaxis": {
            "gridcolor": "#EBF0F8",
            "linecolor": "#EBF0F8",
            "ticks": ""
           },
           "bgcolor": "white",
           "radialaxis": {
            "gridcolor": "#EBF0F8",
            "linecolor": "#EBF0F8",
            "ticks": ""
           }
          },
          "scene": {
           "xaxis": {
            "backgroundcolor": "white",
            "gridcolor": "#DFE8F3",
            "gridwidth": 2,
            "linecolor": "#EBF0F8",
            "showbackground": true,
            "ticks": "",
            "zerolinecolor": "#EBF0F8"
           },
           "yaxis": {
            "backgroundcolor": "white",
            "gridcolor": "#DFE8F3",
            "gridwidth": 2,
            "linecolor": "#EBF0F8",
            "showbackground": true,
            "ticks": "",
            "zerolinecolor": "#EBF0F8"
           },
           "zaxis": {
            "backgroundcolor": "white",
            "gridcolor": "#DFE8F3",
            "gridwidth": 2,
            "linecolor": "#EBF0F8",
            "showbackground": true,
            "ticks": "",
            "zerolinecolor": "#EBF0F8"
           }
          },
          "shapedefaults": {
           "line": {
            "color": "#2a3f5f"
           }
          },
          "ternary": {
           "aaxis": {
            "gridcolor": "#DFE8F3",
            "linecolor": "#A2B1C6",
            "ticks": ""
           },
           "baxis": {
            "gridcolor": "#DFE8F3",
            "linecolor": "#A2B1C6",
            "ticks": ""
           },
           "bgcolor": "white",
           "caxis": {
            "gridcolor": "#DFE8F3",
            "linecolor": "#A2B1C6",
            "ticks": ""
           }
          },
          "title": {
           "x": 0.05
          },
          "xaxis": {
           "automargin": true,
           "gridcolor": "#EBF0F8",
           "linecolor": "#EBF0F8",
           "ticks": "",
           "title": {
            "standoff": 15
           },
           "zerolinecolor": "#EBF0F8",
           "zerolinewidth": 2
          },
          "yaxis": {
           "automargin": true,
           "gridcolor": "#EBF0F8",
           "linecolor": "#EBF0F8",
           "ticks": "",
           "title": {
            "standoff": 15
           },
           "zerolinecolor": "#EBF0F8",
           "zerolinewidth": 2
          }
         }
        },
        "title": {
         "font": {
          "size": 20
         },
         "text": "Evolución de la Participación Laboral por Radio de Dependencia por Edad"
        },
        "xaxis": {
         "anchor": "y",
         "domain": [
          0,
          1
         ],
         "gridcolor": "lightgray",
         "showgrid": true,
         "tickformat": "%Y",
         "title": {
          "text": "Año"
         }
        },
        "yaxis": {
         "anchor": "x",
         "domain": [
          0,
          1
         ],
         "gridcolor": "lightgray",
         "range": [
          50,
          65
         ],
         "showgrid": true,
         "title": {
          "text": "Participación Laboral (% de población en edad de trabajar)"
         }
        }
       }
      }
     },
     "metadata": {},
     "output_type": "display_data"
    }
   ],
   "source": [
    "import plotly.express as px\n",
    "\n",
    "fig = px.line(\n",
    "    df_pivot,\n",
    "    x='Year',\n",
    "    y='Labor Force Participation',\n",
    "    color='Age Dependency Ratio',\n",
    "    title='Evolución de la Participación Laboral por Radio de Dependencia por Edad',\n",
    "    labels={\n",
    "        'Labor Force Participation': 'Participación Laboral (% de población en edad de trabajar)',\n",
    "        'Year': 'Año',\n",
    "        'Age Dependency Ratio': 'Radio de Dependencia por Edad (% de población dependiente)'\n",
    "    },\n",
    "    template='plotly_white',\n",
    "    markers=True, \n",
    "    line_shape='linear'\n",
    ")\n",
    "\n",
    "fig.update_layout(\n",
    "    hovermode=\"x unified\",\n",
    "    xaxis_title=\"Año\",\n",
    "    yaxis_title=\"Participación Laboral (% de población en edad de trabajar)\",\n",
    "    xaxis=dict(\n",
    "        showgrid=True,\n",
    "        gridcolor='lightgray',\n",
    "        tickformat='%Y'\n",
    "    ),\n",
    "    yaxis=dict(\n",
    "        showgrid=True,\n",
    "        gridcolor='lightgray',\n",
    "        range=[50, 65]\n",
    "    ),\n",
    "    showlegend=True,\n",
    "    legend_title_text='Radio de Dependencia por Edad', \n",
    "    font=dict(size=12, family=\"Arial\"),\n",
    "    title_font_size=20,\n",
    "    margin=dict(l=50, r=50, t=80, b=50)\n",
    ")\n",
    "\n",
    "fig.update_traces(\n",
    "    line=dict(width=2), \n",
    "    hovertemplate='<b>Año: %{x}</b><br>Participación: %{y:.1f}%<br>Ratio Dep.: %{customdata:.1f}%<extra></extra>',\n",
    "    customdata=df_pivot['Age Dependency Ratio']  \n",
    ")\n",
    "\n",
    "\n",
    "fig.add_annotation(\n",
    "    x=2020,\n",
    "    y=56.5,  \n",
    "    xref=\"x\",\n",
    "    yref=\"y\",\n",
    "    text=\"Pandemia\",\n",
    "    showarrow=True,\n",
    "    arrowhead=2,\n",
    "    ax=20,\n",
    "    ay=-30,\n",
    "    font=dict(size=12, color=\"darkblue\")\n",
    ")\n",
    "\n",
    "\n",
    "fig.add_annotation(\n",
    "    x=2001,\n",
    "    y=56.5,  \n",
    "    xref=\"x\",\n",
    "    yref=\"y\",\n",
    "    text=\"Crisis del 2001\",\n",
    "    showarrow=True,\n",
    "    arrowhead=2,\n",
    "    ax=20,\n",
    "    ay=30,  \n",
    "    font=dict(size=12, color=\"red\")\n",
    ")\n",
    "\n",
    "# Mostrar gráfico\n",
    "fig.show()"
   ]
  },
  {
   "cell_type": "markdown",
   "metadata": {},
   "source": [
    "Podemos notar tendencias negativas en años clave donde hubo crisis económicas o la pandemia de 2020 (un mayor radio de dependencia podría implicar menor participación laboral, ya que más población dependiente reduce la proporción de personas en edad de trabajar)."
   ]
  },
  {
   "cell_type": "code",
   "execution_count": 109,
   "metadata": {},
   "outputs": [
    {
     "data": {
      "application/vnd.plotly.v1+json": {
       "config": {
        "plotlyServerURL": "https://plot.ly"
       },
       "data": [
        {
         "customdata": [
          [
           1999
          ],
          [
           2000
          ],
          [
           2001
          ],
          [
           2002
          ],
          [
           2003
          ],
          [
           2004
          ],
          [
           2005
          ],
          [
           2006
          ],
          [
           2007
          ],
          [
           2008
          ],
          [
           2009
          ],
          [
           2010
          ],
          [
           2011
          ],
          [
           2012
          ],
          [
           2013
          ],
          [
           2014
          ],
          [
           2015
          ],
          [
           2016
          ],
          [
           2017
          ],
          [
           2018
          ],
          [
           2019
          ],
          [
           2020
          ],
          [
           2021
          ],
          [
           2022
          ],
          [
           2023
          ]
         ],
         "hovertemplate": "<b>Año: %{x}</b><br><b>%{data.name}</b>: %{y:.2f}<extra></extra>",
         "legendgroup": "Gini index",
         "line": {
          "color": "#636efa",
          "dash": "solid",
          "shape": "spline",
          "width": 3
         },
         "marker": {
          "symbol": "circle"
         },
         "mode": "lines+markers",
         "name": "Gini index",
         "orientation": "v",
         "showlegend": true,
         "type": "scatter",
         "x": [
          1999,
          2000,
          2001,
          2002,
          2003,
          2004,
          2005,
          2006,
          2007,
          2008,
          2009,
          2010,
          2011,
          2012,
          2013,
          2014,
          2015,
          2016,
          2017,
          2018,
          2019,
          2020,
          2021,
          2022,
          2023
         ],
         "xaxis": "x",
         "y": [
          49.8,
          51,
          53.3,
          53.8,
          51,
          48.5,
          47.8,
          46.4,
          46.3,
          45,
          43.8,
          43.7,
          42.7,
          41.4,
          41.1,
          41.8,
          42.4,
          42.3,
          41.4,
          41.7,
          43.3,
          42.7,
          42.4,
          40.7,
          41
         ],
         "yaxis": "y"
        },
        {
         "customdata": [
          [
           1999
          ],
          [
           2000
          ],
          [
           2001
          ],
          [
           2002
          ],
          [
           2003
          ],
          [
           2004
          ],
          [
           2005
          ],
          [
           2006
          ],
          [
           2007
          ],
          [
           2008
          ],
          [
           2009
          ],
          [
           2010
          ],
          [
           2011
          ],
          [
           2012
          ],
          [
           2013
          ],
          [
           2014
          ],
          [
           2015
          ],
          [
           2016
          ],
          [
           2017
          ],
          [
           2018
          ],
          [
           2019
          ],
          [
           2020
          ],
          [
           2021
          ],
          [
           2022
          ],
          [
           2023
          ]
         ],
         "hovertemplate": "<b>Año: %{x}</b><br><b>%{data.name}</b>: %{y:.2f}<extra></extra>",
         "legendgroup": "GDP per capita (current US$)",
         "line": {
          "color": "#EF553B",
          "dash": "solid",
          "shape": "spline",
          "width": 3
         },
         "marker": {
          "symbol": "circle"
         },
         "mode": "lines+markers",
         "name": "GDP per capita (current US$)",
         "orientation": "v",
         "showlegend": true,
         "type": "scatter",
         "x": [
          1999,
          2000,
          2001,
          2002,
          2003,
          2004,
          2005,
          2006,
          2007,
          2008,
          2009,
          2010,
          2011,
          2012,
          2013,
          2014,
          2015,
          2016,
          2017,
          2018,
          2019,
          2020,
          2021,
          2022,
          2023
         ],
         "xaxis": "x",
         "y": [
          7705.54288252851,
          7637.01489203628,
          7141.47507662826,
          2569.69963519124,
          3320.47775133903,
          4242.02099089422,
          5067.65342293276,
          5869.38028970204,
          7185.25155147027,
          8944.1102657357,
          8150.23527028221,
          10260.1313108254,
          12704.2831819684,
          12949.717486654,
          12963.675773326,
          12233.1444119186,
          13679.6264980954,
          12699.9623137756,
          14532.5009308511,
          11752.7998922979,
          9955.97478680428,
          8535.59938004389,
          10738.0179223384,
          13935.6811110049,
          14187.4827252965
         ],
         "yaxis": "y"
        }
       ],
       "layout": {
        "annotations": [
         {
          "arrowhead": 2,
          "ax": 20,
          "ay": -30,
          "font": {
           "color": "darkred",
           "size": 12
          },
          "showarrow": true,
          "text": "Crisis 2001-2002 (Gini)",
          "x": 2002,
          "xref": "x",
          "y": 45,
          "yref": "y"
         },
         {
          "arrowhead": 2,
          "ax": -20,
          "ay": 30,
          "font": {
           "color": "darkblue",
           "size": 12
          },
          "showarrow": true,
          "text": "Pandemia (PIB per cápita)",
          "x": 2020,
          "xref": "x",
          "y": 8500,
          "yref": "y"
         }
        ],
        "font": {
         "family": "Arial",
         "size": 12
        },
        "hovermode": "x unified",
        "legend": {
         "title": {
          "text": "Indicador"
         },
         "tracegroupgap": 0
        },
        "showlegend": true,
        "template": {
         "data": {
          "bar": [
           {
            "error_x": {
             "color": "#2a3f5f"
            },
            "error_y": {
             "color": "#2a3f5f"
            },
            "marker": {
             "line": {
              "color": "white",
              "width": 0.5
             },
             "pattern": {
              "fillmode": "overlay",
              "size": 10,
              "solidity": 0.2
             }
            },
            "type": "bar"
           }
          ],
          "barpolar": [
           {
            "marker": {
             "line": {
              "color": "white",
              "width": 0.5
             },
             "pattern": {
              "fillmode": "overlay",
              "size": 10,
              "solidity": 0.2
             }
            },
            "type": "barpolar"
           }
          ],
          "carpet": [
           {
            "aaxis": {
             "endlinecolor": "#2a3f5f",
             "gridcolor": "#C8D4E3",
             "linecolor": "#C8D4E3",
             "minorgridcolor": "#C8D4E3",
             "startlinecolor": "#2a3f5f"
            },
            "baxis": {
             "endlinecolor": "#2a3f5f",
             "gridcolor": "#C8D4E3",
             "linecolor": "#C8D4E3",
             "minorgridcolor": "#C8D4E3",
             "startlinecolor": "#2a3f5f"
            },
            "type": "carpet"
           }
          ],
          "choropleth": [
           {
            "colorbar": {
             "outlinewidth": 0,
             "ticks": ""
            },
            "type": "choropleth"
           }
          ],
          "contour": [
           {
            "colorbar": {
             "outlinewidth": 0,
             "ticks": ""
            },
            "colorscale": [
             [
              0,
              "#0d0887"
             ],
             [
              0.1111111111111111,
              "#46039f"
             ],
             [
              0.2222222222222222,
              "#7201a8"
             ],
             [
              0.3333333333333333,
              "#9c179e"
             ],
             [
              0.4444444444444444,
              "#bd3786"
             ],
             [
              0.5555555555555556,
              "#d8576b"
             ],
             [
              0.6666666666666666,
              "#ed7953"
             ],
             [
              0.7777777777777778,
              "#fb9f3a"
             ],
             [
              0.8888888888888888,
              "#fdca26"
             ],
             [
              1,
              "#f0f921"
             ]
            ],
            "type": "contour"
           }
          ],
          "contourcarpet": [
           {
            "colorbar": {
             "outlinewidth": 0,
             "ticks": ""
            },
            "type": "contourcarpet"
           }
          ],
          "heatmap": [
           {
            "colorbar": {
             "outlinewidth": 0,
             "ticks": ""
            },
            "colorscale": [
             [
              0,
              "#0d0887"
             ],
             [
              0.1111111111111111,
              "#46039f"
             ],
             [
              0.2222222222222222,
              "#7201a8"
             ],
             [
              0.3333333333333333,
              "#9c179e"
             ],
             [
              0.4444444444444444,
              "#bd3786"
             ],
             [
              0.5555555555555556,
              "#d8576b"
             ],
             [
              0.6666666666666666,
              "#ed7953"
             ],
             [
              0.7777777777777778,
              "#fb9f3a"
             ],
             [
              0.8888888888888888,
              "#fdca26"
             ],
             [
              1,
              "#f0f921"
             ]
            ],
            "type": "heatmap"
           }
          ],
          "heatmapgl": [
           {
            "colorbar": {
             "outlinewidth": 0,
             "ticks": ""
            },
            "colorscale": [
             [
              0,
              "#0d0887"
             ],
             [
              0.1111111111111111,
              "#46039f"
             ],
             [
              0.2222222222222222,
              "#7201a8"
             ],
             [
              0.3333333333333333,
              "#9c179e"
             ],
             [
              0.4444444444444444,
              "#bd3786"
             ],
             [
              0.5555555555555556,
              "#d8576b"
             ],
             [
              0.6666666666666666,
              "#ed7953"
             ],
             [
              0.7777777777777778,
              "#fb9f3a"
             ],
             [
              0.8888888888888888,
              "#fdca26"
             ],
             [
              1,
              "#f0f921"
             ]
            ],
            "type": "heatmapgl"
           }
          ],
          "histogram": [
           {
            "marker": {
             "pattern": {
              "fillmode": "overlay",
              "size": 10,
              "solidity": 0.2
             }
            },
            "type": "histogram"
           }
          ],
          "histogram2d": [
           {
            "colorbar": {
             "outlinewidth": 0,
             "ticks": ""
            },
            "colorscale": [
             [
              0,
              "#0d0887"
             ],
             [
              0.1111111111111111,
              "#46039f"
             ],
             [
              0.2222222222222222,
              "#7201a8"
             ],
             [
              0.3333333333333333,
              "#9c179e"
             ],
             [
              0.4444444444444444,
              "#bd3786"
             ],
             [
              0.5555555555555556,
              "#d8576b"
             ],
             [
              0.6666666666666666,
              "#ed7953"
             ],
             [
              0.7777777777777778,
              "#fb9f3a"
             ],
             [
              0.8888888888888888,
              "#fdca26"
             ],
             [
              1,
              "#f0f921"
             ]
            ],
            "type": "histogram2d"
           }
          ],
          "histogram2dcontour": [
           {
            "colorbar": {
             "outlinewidth": 0,
             "ticks": ""
            },
            "colorscale": [
             [
              0,
              "#0d0887"
             ],
             [
              0.1111111111111111,
              "#46039f"
             ],
             [
              0.2222222222222222,
              "#7201a8"
             ],
             [
              0.3333333333333333,
              "#9c179e"
             ],
             [
              0.4444444444444444,
              "#bd3786"
             ],
             [
              0.5555555555555556,
              "#d8576b"
             ],
             [
              0.6666666666666666,
              "#ed7953"
             ],
             [
              0.7777777777777778,
              "#fb9f3a"
             ],
             [
              0.8888888888888888,
              "#fdca26"
             ],
             [
              1,
              "#f0f921"
             ]
            ],
            "type": "histogram2dcontour"
           }
          ],
          "mesh3d": [
           {
            "colorbar": {
             "outlinewidth": 0,
             "ticks": ""
            },
            "type": "mesh3d"
           }
          ],
          "parcoords": [
           {
            "line": {
             "colorbar": {
              "outlinewidth": 0,
              "ticks": ""
             }
            },
            "type": "parcoords"
           }
          ],
          "pie": [
           {
            "automargin": true,
            "type": "pie"
           }
          ],
          "scatter": [
           {
            "fillpattern": {
             "fillmode": "overlay",
             "size": 10,
             "solidity": 0.2
            },
            "type": "scatter"
           }
          ],
          "scatter3d": [
           {
            "line": {
             "colorbar": {
              "outlinewidth": 0,
              "ticks": ""
             }
            },
            "marker": {
             "colorbar": {
              "outlinewidth": 0,
              "ticks": ""
             }
            },
            "type": "scatter3d"
           }
          ],
          "scattercarpet": [
           {
            "marker": {
             "colorbar": {
              "outlinewidth": 0,
              "ticks": ""
             }
            },
            "type": "scattercarpet"
           }
          ],
          "scattergeo": [
           {
            "marker": {
             "colorbar": {
              "outlinewidth": 0,
              "ticks": ""
             }
            },
            "type": "scattergeo"
           }
          ],
          "scattergl": [
           {
            "marker": {
             "colorbar": {
              "outlinewidth": 0,
              "ticks": ""
             }
            },
            "type": "scattergl"
           }
          ],
          "scattermapbox": [
           {
            "marker": {
             "colorbar": {
              "outlinewidth": 0,
              "ticks": ""
             }
            },
            "type": "scattermapbox"
           }
          ],
          "scatterpolar": [
           {
            "marker": {
             "colorbar": {
              "outlinewidth": 0,
              "ticks": ""
             }
            },
            "type": "scatterpolar"
           }
          ],
          "scatterpolargl": [
           {
            "marker": {
             "colorbar": {
              "outlinewidth": 0,
              "ticks": ""
             }
            },
            "type": "scatterpolargl"
           }
          ],
          "scatterternary": [
           {
            "marker": {
             "colorbar": {
              "outlinewidth": 0,
              "ticks": ""
             }
            },
            "type": "scatterternary"
           }
          ],
          "surface": [
           {
            "colorbar": {
             "outlinewidth": 0,
             "ticks": ""
            },
            "colorscale": [
             [
              0,
              "#0d0887"
             ],
             [
              0.1111111111111111,
              "#46039f"
             ],
             [
              0.2222222222222222,
              "#7201a8"
             ],
             [
              0.3333333333333333,
              "#9c179e"
             ],
             [
              0.4444444444444444,
              "#bd3786"
             ],
             [
              0.5555555555555556,
              "#d8576b"
             ],
             [
              0.6666666666666666,
              "#ed7953"
             ],
             [
              0.7777777777777778,
              "#fb9f3a"
             ],
             [
              0.8888888888888888,
              "#fdca26"
             ],
             [
              1,
              "#f0f921"
             ]
            ],
            "type": "surface"
           }
          ],
          "table": [
           {
            "cells": {
             "fill": {
              "color": "#EBF0F8"
             },
             "line": {
              "color": "white"
             }
            },
            "header": {
             "fill": {
              "color": "#C8D4E3"
             },
             "line": {
              "color": "white"
             }
            },
            "type": "table"
           }
          ]
         },
         "layout": {
          "annotationdefaults": {
           "arrowcolor": "#2a3f5f",
           "arrowhead": 0,
           "arrowwidth": 1
          },
          "autotypenumbers": "strict",
          "coloraxis": {
           "colorbar": {
            "outlinewidth": 0,
            "ticks": ""
           }
          },
          "colorscale": {
           "diverging": [
            [
             0,
             "#8e0152"
            ],
            [
             0.1,
             "#c51b7d"
            ],
            [
             0.2,
             "#de77ae"
            ],
            [
             0.3,
             "#f1b6da"
            ],
            [
             0.4,
             "#fde0ef"
            ],
            [
             0.5,
             "#f7f7f7"
            ],
            [
             0.6,
             "#e6f5d0"
            ],
            [
             0.7,
             "#b8e186"
            ],
            [
             0.8,
             "#7fbc41"
            ],
            [
             0.9,
             "#4d9221"
            ],
            [
             1,
             "#276419"
            ]
           ],
           "sequential": [
            [
             0,
             "#0d0887"
            ],
            [
             0.1111111111111111,
             "#46039f"
            ],
            [
             0.2222222222222222,
             "#7201a8"
            ],
            [
             0.3333333333333333,
             "#9c179e"
            ],
            [
             0.4444444444444444,
             "#bd3786"
            ],
            [
             0.5555555555555556,
             "#d8576b"
            ],
            [
             0.6666666666666666,
             "#ed7953"
            ],
            [
             0.7777777777777778,
             "#fb9f3a"
            ],
            [
             0.8888888888888888,
             "#fdca26"
            ],
            [
             1,
             "#f0f921"
            ]
           ],
           "sequentialminus": [
            [
             0,
             "#0d0887"
            ],
            [
             0.1111111111111111,
             "#46039f"
            ],
            [
             0.2222222222222222,
             "#7201a8"
            ],
            [
             0.3333333333333333,
             "#9c179e"
            ],
            [
             0.4444444444444444,
             "#bd3786"
            ],
            [
             0.5555555555555556,
             "#d8576b"
            ],
            [
             0.6666666666666666,
             "#ed7953"
            ],
            [
             0.7777777777777778,
             "#fb9f3a"
            ],
            [
             0.8888888888888888,
             "#fdca26"
            ],
            [
             1,
             "#f0f921"
            ]
           ]
          },
          "colorway": [
           "#636efa",
           "#EF553B",
           "#00cc96",
           "#ab63fa",
           "#FFA15A",
           "#19d3f3",
           "#FF6692",
           "#B6E880",
           "#FF97FF",
           "#FECB52"
          ],
          "font": {
           "color": "#2a3f5f"
          },
          "geo": {
           "bgcolor": "white",
           "lakecolor": "white",
           "landcolor": "white",
           "showlakes": true,
           "showland": true,
           "subunitcolor": "#C8D4E3"
          },
          "hoverlabel": {
           "align": "left"
          },
          "hovermode": "closest",
          "mapbox": {
           "style": "light"
          },
          "paper_bgcolor": "white",
          "plot_bgcolor": "white",
          "polar": {
           "angularaxis": {
            "gridcolor": "#EBF0F8",
            "linecolor": "#EBF0F8",
            "ticks": ""
           },
           "bgcolor": "white",
           "radialaxis": {
            "gridcolor": "#EBF0F8",
            "linecolor": "#EBF0F8",
            "ticks": ""
           }
          },
          "scene": {
           "xaxis": {
            "backgroundcolor": "white",
            "gridcolor": "#DFE8F3",
            "gridwidth": 2,
            "linecolor": "#EBF0F8",
            "showbackground": true,
            "ticks": "",
            "zerolinecolor": "#EBF0F8"
           },
           "yaxis": {
            "backgroundcolor": "white",
            "gridcolor": "#DFE8F3",
            "gridwidth": 2,
            "linecolor": "#EBF0F8",
            "showbackground": true,
            "ticks": "",
            "zerolinecolor": "#EBF0F8"
           },
           "zaxis": {
            "backgroundcolor": "white",
            "gridcolor": "#DFE8F3",
            "gridwidth": 2,
            "linecolor": "#EBF0F8",
            "showbackground": true,
            "ticks": "",
            "zerolinecolor": "#EBF0F8"
           }
          },
          "shapedefaults": {
           "line": {
            "color": "#2a3f5f"
           }
          },
          "ternary": {
           "aaxis": {
            "gridcolor": "#DFE8F3",
            "linecolor": "#A2B1C6",
            "ticks": ""
           },
           "baxis": {
            "gridcolor": "#DFE8F3",
            "linecolor": "#A2B1C6",
            "ticks": ""
           },
           "bgcolor": "white",
           "caxis": {
            "gridcolor": "#DFE8F3",
            "linecolor": "#A2B1C6",
            "ticks": ""
           }
          },
          "title": {
           "x": 0.05
          },
          "xaxis": {
           "automargin": true,
           "gridcolor": "#EBF0F8",
           "linecolor": "#EBF0F8",
           "ticks": "",
           "title": {
            "standoff": 15
           },
           "zerolinecolor": "#EBF0F8",
           "zerolinewidth": 2
          },
          "yaxis": {
           "automargin": true,
           "gridcolor": "#EBF0F8",
           "linecolor": "#EBF0F8",
           "ticks": "",
           "title": {
            "standoff": 15
           },
           "zerolinecolor": "#EBF0F8",
           "zerolinewidth": 2
          }
         }
        },
        "title": {
         "font": {
          "size": 20
         },
         "text": "Evolución del Índice de Gini y PIB per cápita"
        },
        "xaxis": {
         "anchor": "y",
         "domain": [
          0,
          1
         ],
         "gridcolor": "lightgray",
         "showgrid": true,
         "title": {
          "text": "Año"
         }
        },
        "yaxis": {
         "anchor": "x",
         "domain": [
          0,
          1
         ],
         "gridcolor": "lightgray",
         "showgrid": true,
         "title": {
          "text": "Valor (Índice de Gini % / PIB per cápita USD)"
         }
        }
       }
      }
     },
     "metadata": {},
     "output_type": "display_data"
    }
   ],
   "source": [
    "fig = px.line(\n",
    "    df_pivot,\n",
    "    x='Year',\n",
    "    y=['Gini index', 'GDP per capita (current US$)'],\n",
    "    title='Evolución del Índice de Gini y PIB per cápita',\n",
    "    labels={\n",
    "        'value': 'Valor',\n",
    "        'Year': 'Año',\n",
    "        'variable': 'Indicador'\n",
    "    },\n",
    "    template='plotly_white',\n",
    "    line_shape='spline',\n",
    "    markers=True \n",
    ")\n",
    "\n",
    "fig.update_layout(\n",
    "    hovermode=\"x unified\",\n",
    "    xaxis_title=\"Año\",\n",
    "    yaxis_title=\"Valor (Índice de Gini % / PIB per cápita USD)\",\n",
    "    showlegend=True,\n",
    "    legend_title_text='Indicador',\n",
    "    font=dict(size=12, family=\"Arial\"),\n",
    "    title_font_size=20,\n",
    "    yaxis=dict(showgrid=True, gridcolor='lightgray'),\n",
    "    xaxis=dict(showgrid=True, gridcolor='lightgray')\n",
    ")\n",
    "\n",
    "fig.update_traces(\n",
    "    line=dict(width=3, dash='solid'),\n",
    "\n",
    "    hovertemplate='<b>Año: %{x}</b><br><b>%{data.name}</b>: %{y:.2f}<extra></extra>',\n",
    "    customdata=df_pivot[['Year']] \n",
    ")\n",
    "\n",
    "fig.add_annotation(\n",
    "    x=2002,\n",
    "    y=45,\n",
    "    xref=\"x\",\n",
    "    yref=\"y\",\n",
    "    text=\"Crisis 2001-2002 (Gini)\",\n",
    "    showarrow=True,\n",
    "    arrowhead=2,\n",
    "    ax=20,\n",
    "    ay=-30,\n",
    "    font=dict(size=12, color=\"darkred\")\n",
    ")\n",
    "\n",
    "fig.add_annotation(\n",
    "    x=2020,\n",
    "    y=8500, \n",
    "    xref=\"x\",\n",
    "    yref=\"y\",\n",
    "    text=\"Pandemia (PIB per cápita)\",\n",
    "    showarrow=True,\n",
    "    arrowhead=2,\n",
    "    ax=-20,\n",
    "    ay=30,\n",
    "    font=dict(size=12, color=\"darkblue\")\n",
    ")\n",
    "\n",
    "\n",
    "fig.show()"
   ]
  },
  {
   "cell_type": "markdown",
   "metadata": {},
   "source": [
    "Podemos notar que las crisis (2001-2002, 2020) afectan negativamente el PIB per cápita y aumentan la desigualdad (Gini). Si el PIB per cápita crece entre 2002 y 2019, refleja recuperación económica. Si el Gini disminuye en ese período, indica mejora en la distribución; si aumenta, sugiere crecimiento desigual."
   ]
  },
  {
   "cell_type": "code",
   "execution_count": 110,
   "metadata": {},
   "outputs": [
    {
     "data": {
      "application/vnd.plotly.v1+json": {
       "config": {
        "plotlyServerURL": "https://plot.ly"
       },
       "data": [
        {
         "hovertemplate": "Año=%{x}<br>Índice de Gini=%{y}<extra></extra>",
         "legendgroup": "",
         "line": {
          "color": "#636efa",
          "dash": "solid",
          "shape": "spline"
         },
         "marker": {
          "symbol": "circle"
         },
         "mode": "lines",
         "name": "",
         "orientation": "v",
         "showlegend": false,
         "type": "scatter",
         "x": [
          1999,
          2000,
          2001,
          2002,
          2003,
          2004,
          2005,
          2006,
          2007,
          2008,
          2009,
          2010,
          2011,
          2012,
          2013,
          2014,
          2015,
          2016,
          2017,
          2018,
          2019,
          2020,
          2021,
          2022,
          2023
         ],
         "xaxis": "x",
         "y": [
          49.8,
          51,
          53.3,
          53.8,
          51,
          48.5,
          47.8,
          46.4,
          46.3,
          45,
          43.8,
          43.7,
          42.7,
          41.4,
          41.1,
          41.8,
          42.4,
          42.3,
          41.4,
          41.7,
          43.3,
          42.7,
          42.4,
          40.7,
          41
         ],
         "yaxis": "y"
        },
        {
         "fill": "tozeroy",
         "fillcolor": "rgba(0, 0, 255, 0.3)",
         "hoverinfo": "skip",
         "line": {
          "width": 0
         },
         "showlegend": false,
         "type": "scatter",
         "x": [
          1999,
          2000,
          2001,
          2002,
          2003,
          2004,
          2005,
          2006,
          2007,
          2008,
          2009,
          2010,
          2011,
          2012,
          2013,
          2014,
          2015,
          2016,
          2017,
          2018,
          2019,
          2020,
          2021,
          2022,
          2023
         ],
         "y": [
          49.8,
          51,
          53.3,
          53.8,
          51,
          48.5,
          47.8,
          46.4,
          46.3,
          45,
          43.8,
          43.7,
          42.7,
          41.4,
          41.1,
          41.8,
          42.4,
          42.3,
          41.4,
          41.7,
          43.3,
          42.7,
          42.4,
          40.7,
          41
         ]
        }
       ],
       "layout": {
        "annotations": [
         {
          "arrowhead": 2,
          "ax": 20,
          "ay": -30,
          "font": {
           "color": "darkred",
           "size": 12
          },
          "showarrow": true,
          "text": "Crisis 2001-2002",
          "x": 2002,
          "xref": "x",
          "y": 54,
          "yref": "y"
         },
         {
          "arrowhead": 2,
          "ax": -20,
          "ay": 30,
          "font": {
           "color": "darkgreen",
           "size": 12
          },
          "showarrow": true,
          "text": "Pandemia",
          "x": 2020,
          "xref": "x",
          "y": 42,
          "yref": "y"
         }
        ],
        "font": {
         "family": "Arial",
         "size": 12
        },
        "hovermode": "x unified",
        "legend": {
         "tracegroupgap": 0
        },
        "template": {
         "data": {
          "bar": [
           {
            "error_x": {
             "color": "#2a3f5f"
            },
            "error_y": {
             "color": "#2a3f5f"
            },
            "marker": {
             "line": {
              "color": "white",
              "width": 0.5
             },
             "pattern": {
              "fillmode": "overlay",
              "size": 10,
              "solidity": 0.2
             }
            },
            "type": "bar"
           }
          ],
          "barpolar": [
           {
            "marker": {
             "line": {
              "color": "white",
              "width": 0.5
             },
             "pattern": {
              "fillmode": "overlay",
              "size": 10,
              "solidity": 0.2
             }
            },
            "type": "barpolar"
           }
          ],
          "carpet": [
           {
            "aaxis": {
             "endlinecolor": "#2a3f5f",
             "gridcolor": "#C8D4E3",
             "linecolor": "#C8D4E3",
             "minorgridcolor": "#C8D4E3",
             "startlinecolor": "#2a3f5f"
            },
            "baxis": {
             "endlinecolor": "#2a3f5f",
             "gridcolor": "#C8D4E3",
             "linecolor": "#C8D4E3",
             "minorgridcolor": "#C8D4E3",
             "startlinecolor": "#2a3f5f"
            },
            "type": "carpet"
           }
          ],
          "choropleth": [
           {
            "colorbar": {
             "outlinewidth": 0,
             "ticks": ""
            },
            "type": "choropleth"
           }
          ],
          "contour": [
           {
            "colorbar": {
             "outlinewidth": 0,
             "ticks": ""
            },
            "colorscale": [
             [
              0,
              "#0d0887"
             ],
             [
              0.1111111111111111,
              "#46039f"
             ],
             [
              0.2222222222222222,
              "#7201a8"
             ],
             [
              0.3333333333333333,
              "#9c179e"
             ],
             [
              0.4444444444444444,
              "#bd3786"
             ],
             [
              0.5555555555555556,
              "#d8576b"
             ],
             [
              0.6666666666666666,
              "#ed7953"
             ],
             [
              0.7777777777777778,
              "#fb9f3a"
             ],
             [
              0.8888888888888888,
              "#fdca26"
             ],
             [
              1,
              "#f0f921"
             ]
            ],
            "type": "contour"
           }
          ],
          "contourcarpet": [
           {
            "colorbar": {
             "outlinewidth": 0,
             "ticks": ""
            },
            "type": "contourcarpet"
           }
          ],
          "heatmap": [
           {
            "colorbar": {
             "outlinewidth": 0,
             "ticks": ""
            },
            "colorscale": [
             [
              0,
              "#0d0887"
             ],
             [
              0.1111111111111111,
              "#46039f"
             ],
             [
              0.2222222222222222,
              "#7201a8"
             ],
             [
              0.3333333333333333,
              "#9c179e"
             ],
             [
              0.4444444444444444,
              "#bd3786"
             ],
             [
              0.5555555555555556,
              "#d8576b"
             ],
             [
              0.6666666666666666,
              "#ed7953"
             ],
             [
              0.7777777777777778,
              "#fb9f3a"
             ],
             [
              0.8888888888888888,
              "#fdca26"
             ],
             [
              1,
              "#f0f921"
             ]
            ],
            "type": "heatmap"
           }
          ],
          "heatmapgl": [
           {
            "colorbar": {
             "outlinewidth": 0,
             "ticks": ""
            },
            "colorscale": [
             [
              0,
              "#0d0887"
             ],
             [
              0.1111111111111111,
              "#46039f"
             ],
             [
              0.2222222222222222,
              "#7201a8"
             ],
             [
              0.3333333333333333,
              "#9c179e"
             ],
             [
              0.4444444444444444,
              "#bd3786"
             ],
             [
              0.5555555555555556,
              "#d8576b"
             ],
             [
              0.6666666666666666,
              "#ed7953"
             ],
             [
              0.7777777777777778,
              "#fb9f3a"
             ],
             [
              0.8888888888888888,
              "#fdca26"
             ],
             [
              1,
              "#f0f921"
             ]
            ],
            "type": "heatmapgl"
           }
          ],
          "histogram": [
           {
            "marker": {
             "pattern": {
              "fillmode": "overlay",
              "size": 10,
              "solidity": 0.2
             }
            },
            "type": "histogram"
           }
          ],
          "histogram2d": [
           {
            "colorbar": {
             "outlinewidth": 0,
             "ticks": ""
            },
            "colorscale": [
             [
              0,
              "#0d0887"
             ],
             [
              0.1111111111111111,
              "#46039f"
             ],
             [
              0.2222222222222222,
              "#7201a8"
             ],
             [
              0.3333333333333333,
              "#9c179e"
             ],
             [
              0.4444444444444444,
              "#bd3786"
             ],
             [
              0.5555555555555556,
              "#d8576b"
             ],
             [
              0.6666666666666666,
              "#ed7953"
             ],
             [
              0.7777777777777778,
              "#fb9f3a"
             ],
             [
              0.8888888888888888,
              "#fdca26"
             ],
             [
              1,
              "#f0f921"
             ]
            ],
            "type": "histogram2d"
           }
          ],
          "histogram2dcontour": [
           {
            "colorbar": {
             "outlinewidth": 0,
             "ticks": ""
            },
            "colorscale": [
             [
              0,
              "#0d0887"
             ],
             [
              0.1111111111111111,
              "#46039f"
             ],
             [
              0.2222222222222222,
              "#7201a8"
             ],
             [
              0.3333333333333333,
              "#9c179e"
             ],
             [
              0.4444444444444444,
              "#bd3786"
             ],
             [
              0.5555555555555556,
              "#d8576b"
             ],
             [
              0.6666666666666666,
              "#ed7953"
             ],
             [
              0.7777777777777778,
              "#fb9f3a"
             ],
             [
              0.8888888888888888,
              "#fdca26"
             ],
             [
              1,
              "#f0f921"
             ]
            ],
            "type": "histogram2dcontour"
           }
          ],
          "mesh3d": [
           {
            "colorbar": {
             "outlinewidth": 0,
             "ticks": ""
            },
            "type": "mesh3d"
           }
          ],
          "parcoords": [
           {
            "line": {
             "colorbar": {
              "outlinewidth": 0,
              "ticks": ""
             }
            },
            "type": "parcoords"
           }
          ],
          "pie": [
           {
            "automargin": true,
            "type": "pie"
           }
          ],
          "scatter": [
           {
            "fillpattern": {
             "fillmode": "overlay",
             "size": 10,
             "solidity": 0.2
            },
            "type": "scatter"
           }
          ],
          "scatter3d": [
           {
            "line": {
             "colorbar": {
              "outlinewidth": 0,
              "ticks": ""
             }
            },
            "marker": {
             "colorbar": {
              "outlinewidth": 0,
              "ticks": ""
             }
            },
            "type": "scatter3d"
           }
          ],
          "scattercarpet": [
           {
            "marker": {
             "colorbar": {
              "outlinewidth": 0,
              "ticks": ""
             }
            },
            "type": "scattercarpet"
           }
          ],
          "scattergeo": [
           {
            "marker": {
             "colorbar": {
              "outlinewidth": 0,
              "ticks": ""
             }
            },
            "type": "scattergeo"
           }
          ],
          "scattergl": [
           {
            "marker": {
             "colorbar": {
              "outlinewidth": 0,
              "ticks": ""
             }
            },
            "type": "scattergl"
           }
          ],
          "scattermapbox": [
           {
            "marker": {
             "colorbar": {
              "outlinewidth": 0,
              "ticks": ""
             }
            },
            "type": "scattermapbox"
           }
          ],
          "scatterpolar": [
           {
            "marker": {
             "colorbar": {
              "outlinewidth": 0,
              "ticks": ""
             }
            },
            "type": "scatterpolar"
           }
          ],
          "scatterpolargl": [
           {
            "marker": {
             "colorbar": {
              "outlinewidth": 0,
              "ticks": ""
             }
            },
            "type": "scatterpolargl"
           }
          ],
          "scatterternary": [
           {
            "marker": {
             "colorbar": {
              "outlinewidth": 0,
              "ticks": ""
             }
            },
            "type": "scatterternary"
           }
          ],
          "surface": [
           {
            "colorbar": {
             "outlinewidth": 0,
             "ticks": ""
            },
            "colorscale": [
             [
              0,
              "#0d0887"
             ],
             [
              0.1111111111111111,
              "#46039f"
             ],
             [
              0.2222222222222222,
              "#7201a8"
             ],
             [
              0.3333333333333333,
              "#9c179e"
             ],
             [
              0.4444444444444444,
              "#bd3786"
             ],
             [
              0.5555555555555556,
              "#d8576b"
             ],
             [
              0.6666666666666666,
              "#ed7953"
             ],
             [
              0.7777777777777778,
              "#fb9f3a"
             ],
             [
              0.8888888888888888,
              "#fdca26"
             ],
             [
              1,
              "#f0f921"
             ]
            ],
            "type": "surface"
           }
          ],
          "table": [
           {
            "cells": {
             "fill": {
              "color": "#EBF0F8"
             },
             "line": {
              "color": "white"
             }
            },
            "header": {
             "fill": {
              "color": "#C8D4E3"
             },
             "line": {
              "color": "white"
             }
            },
            "type": "table"
           }
          ]
         },
         "layout": {
          "annotationdefaults": {
           "arrowcolor": "#2a3f5f",
           "arrowhead": 0,
           "arrowwidth": 1
          },
          "autotypenumbers": "strict",
          "coloraxis": {
           "colorbar": {
            "outlinewidth": 0,
            "ticks": ""
           }
          },
          "colorscale": {
           "diverging": [
            [
             0,
             "#8e0152"
            ],
            [
             0.1,
             "#c51b7d"
            ],
            [
             0.2,
             "#de77ae"
            ],
            [
             0.3,
             "#f1b6da"
            ],
            [
             0.4,
             "#fde0ef"
            ],
            [
             0.5,
             "#f7f7f7"
            ],
            [
             0.6,
             "#e6f5d0"
            ],
            [
             0.7,
             "#b8e186"
            ],
            [
             0.8,
             "#7fbc41"
            ],
            [
             0.9,
             "#4d9221"
            ],
            [
             1,
             "#276419"
            ]
           ],
           "sequential": [
            [
             0,
             "#0d0887"
            ],
            [
             0.1111111111111111,
             "#46039f"
            ],
            [
             0.2222222222222222,
             "#7201a8"
            ],
            [
             0.3333333333333333,
             "#9c179e"
            ],
            [
             0.4444444444444444,
             "#bd3786"
            ],
            [
             0.5555555555555556,
             "#d8576b"
            ],
            [
             0.6666666666666666,
             "#ed7953"
            ],
            [
             0.7777777777777778,
             "#fb9f3a"
            ],
            [
             0.8888888888888888,
             "#fdca26"
            ],
            [
             1,
             "#f0f921"
            ]
           ],
           "sequentialminus": [
            [
             0,
             "#0d0887"
            ],
            [
             0.1111111111111111,
             "#46039f"
            ],
            [
             0.2222222222222222,
             "#7201a8"
            ],
            [
             0.3333333333333333,
             "#9c179e"
            ],
            [
             0.4444444444444444,
             "#bd3786"
            ],
            [
             0.5555555555555556,
             "#d8576b"
            ],
            [
             0.6666666666666666,
             "#ed7953"
            ],
            [
             0.7777777777777778,
             "#fb9f3a"
            ],
            [
             0.8888888888888888,
             "#fdca26"
            ],
            [
             1,
             "#f0f921"
            ]
           ]
          },
          "colorway": [
           "#636efa",
           "#EF553B",
           "#00cc96",
           "#ab63fa",
           "#FFA15A",
           "#19d3f3",
           "#FF6692",
           "#B6E880",
           "#FF97FF",
           "#FECB52"
          ],
          "font": {
           "color": "#2a3f5f"
          },
          "geo": {
           "bgcolor": "white",
           "lakecolor": "white",
           "landcolor": "white",
           "showlakes": true,
           "showland": true,
           "subunitcolor": "#C8D4E3"
          },
          "hoverlabel": {
           "align": "left"
          },
          "hovermode": "closest",
          "mapbox": {
           "style": "light"
          },
          "paper_bgcolor": "white",
          "plot_bgcolor": "white",
          "polar": {
           "angularaxis": {
            "gridcolor": "#EBF0F8",
            "linecolor": "#EBF0F8",
            "ticks": ""
           },
           "bgcolor": "white",
           "radialaxis": {
            "gridcolor": "#EBF0F8",
            "linecolor": "#EBF0F8",
            "ticks": ""
           }
          },
          "scene": {
           "xaxis": {
            "backgroundcolor": "white",
            "gridcolor": "#DFE8F3",
            "gridwidth": 2,
            "linecolor": "#EBF0F8",
            "showbackground": true,
            "ticks": "",
            "zerolinecolor": "#EBF0F8"
           },
           "yaxis": {
            "backgroundcolor": "white",
            "gridcolor": "#DFE8F3",
            "gridwidth": 2,
            "linecolor": "#EBF0F8",
            "showbackground": true,
            "ticks": "",
            "zerolinecolor": "#EBF0F8"
           },
           "zaxis": {
            "backgroundcolor": "white",
            "gridcolor": "#DFE8F3",
            "gridwidth": 2,
            "linecolor": "#EBF0F8",
            "showbackground": true,
            "ticks": "",
            "zerolinecolor": "#EBF0F8"
           }
          },
          "shapedefaults": {
           "line": {
            "color": "#2a3f5f"
           }
          },
          "ternary": {
           "aaxis": {
            "gridcolor": "#DFE8F3",
            "linecolor": "#A2B1C6",
            "ticks": ""
           },
           "baxis": {
            "gridcolor": "#DFE8F3",
            "linecolor": "#A2B1C6",
            "ticks": ""
           },
           "bgcolor": "white",
           "caxis": {
            "gridcolor": "#DFE8F3",
            "linecolor": "#A2B1C6",
            "ticks": ""
           }
          },
          "title": {
           "x": 0.05
          },
          "xaxis": {
           "automargin": true,
           "gridcolor": "#EBF0F8",
           "linecolor": "#EBF0F8",
           "ticks": "",
           "title": {
            "standoff": 15
           },
           "zerolinecolor": "#EBF0F8",
           "zerolinewidth": 2
          },
          "yaxis": {
           "automargin": true,
           "gridcolor": "#EBF0F8",
           "linecolor": "#EBF0F8",
           "ticks": "",
           "title": {
            "standoff": 15
           },
           "zerolinecolor": "#EBF0F8",
           "zerolinewidth": 2
          }
         }
        },
        "title": {
         "font": {
          "size": 20
         },
         "text": "Evolución de la Desigualdad (Índice de Gini) a lo largo del tiempo"
        },
        "xaxis": {
         "anchor": "y",
         "domain": [
          0,
          1
         ],
         "gridcolor": "lightgray",
         "showgrid": true,
         "tickformat": "%Y",
         "title": {
          "text": "Año"
         }
        },
        "yaxis": {
         "anchor": "x",
         "domain": [
          0,
          1
         ],
         "gridcolor": "lightgray",
         "range": [
          35,
          55
         ],
         "showgrid": true,
         "title": {
          "text": "Índice de Gini"
         }
        }
       }
      }
     },
     "metadata": {},
     "output_type": "display_data"
    }
   ],
   "source": [
    "fig = px.line(df_pivot, \n",
    "              x='Year', \n",
    "              y='Gini index', \n",
    "              title='Evolución de la Desigualdad (Índice de Gini) a lo largo del tiempo',\n",
    "              labels={'Gini index': 'Índice de Gini',\n",
    "                      'Year': 'Año'},\n",
    "              template='plotly_white',  \n",
    "              line_shape='spline',\n",
    "              markers=False)  \n",
    "\n",
    "\n",
    "fig.update_layout(\n",
    "    hovermode=\"x unified\",  \n",
    "    xaxis_title=\"Año\",\n",
    "    yaxis_title=\"Índice de Gini\",\n",
    "    xaxis=dict(showgrid=True, gridcolor='lightgray', tickformat='%Y'),\n",
    "    yaxis=dict(showgrid=True, gridcolor='lightgray', range=[35, 55]),\n",
    "    font=dict(size=12, family=\"Arial\"),\n",
    "    title_font_size=20,\n",
    ")\n",
    "\n",
    "\n",
    "\n",
    "fig.add_trace(go.Scatter(\n",
    "    x=df_pivot['Year'],\n",
    "    y=df_pivot['Gini index'],\n",
    "    fill='tozeroy',\n",
    "    fillcolor='rgba(0, 0, 255, 0.3)',  \n",
    "    line=dict(width=0),  \n",
    "    showlegend=False,\n",
    "    hoverinfo=\"skip\" \n",
    "))\n",
    "\n",
    "fig.add_annotation(\n",
    "    x=2002, \n",
    "    y=54,   \n",
    "    xref=\"x\",\n",
    "    yref=\"y\",\n",
    "    text=\"Crisis 2001-2002\",\n",
    "    showarrow=True,\n",
    "    arrowhead=2,\n",
    "    ax=20,\n",
    "    ay=-30,\n",
    "    font=dict(size=12, color=\"darkred\")\n",
    ")\n",
    "\n",
    "fig.add_annotation(\n",
    "    x=2020, \n",
    "    y=42,  \n",
    "    xref=\"x\",\n",
    "    yref=\"y\",\n",
    "    text=\"Pandemia\",\n",
    "    showarrow=True,\n",
    "    arrowhead=2,\n",
    "    ax=-20,\n",
    "    ay=30,\n",
    "    font=dict(size=12, color=\"darkgreen\")\n",
    ")\n",
    "\n",
    "fig.show()"
   ]
  },
  {
   "cell_type": "code",
   "execution_count": 111,
   "metadata": {},
   "outputs": [
    {
     "data": {
      "application/vnd.plotly.v1+json": {
       "config": {
        "plotlyServerURL": "https://plot.ly"
       },
       "data": [
        {
         "customdata": [
          [
           1999
          ],
          [
           2000
          ],
          [
           2001
          ],
          [
           2002
          ],
          [
           2003
          ],
          [
           2004
          ],
          [
           2005
          ],
          [
           2006
          ],
          [
           2007
          ],
          [
           2008
          ],
          [
           2009
          ],
          [
           2010
          ],
          [
           2011
          ],
          [
           2012
          ],
          [
           2013
          ],
          [
           2014
          ],
          [
           2015
          ],
          [
           2016
          ],
          [
           2017
          ],
          [
           2018
          ],
          [
           2019
          ],
          [
           2020
          ],
          [
           2021
          ],
          [
           2022
          ],
          [
           2023
          ]
         ],
         "hovertemplate": "Esperanza de Vida al Nacimiento (años)=%{x}<br>PIB per cápita (USD actuales)=%{marker.size}<br>Year=%{marker.color}<extra></extra>",
         "legendgroup": "",
         "marker": {
          "color": [
           1999,
           2000,
           2001,
           2002,
           2003,
           2004,
           2005,
           2006,
           2007,
           2008,
           2009,
           2010,
           2011,
           2012,
           2013,
           2014,
           2015,
           2016,
           2017,
           2018,
           2019,
           2020,
           2021,
           2022,
           2023
          ],
          "coloraxis": "coloraxis",
          "size": [
           7705.54288252851,
           7637.01489203628,
           7141.47507662826,
           2569.69963519124,
           3320.47775133903,
           4242.02099089422,
           5067.65342293276,
           5869.38028970204,
           7185.25155147027,
           8944.1102657357,
           8150.23527028221,
           10260.1313108254,
           12704.2831819684,
           12949.717486654,
           12963.675773326,
           12233.1444119186,
           13679.6264980954,
           12699.9623137756,
           14532.5009308511,
           11752.7998922979,
           9955.97478680428,
           8535.59938004389,
           10738.0179223384,
           13935.6811110049,
           14187.4827252965
          ],
          "sizemode": "area",
          "sizeref": 36.33125232712775,
          "symbol": "circle"
         },
         "mode": "markers",
         "name": "",
         "orientation": "v",
         "showlegend": false,
         "type": "scatter",
         "x": [
          73.722,
          73.926,
          74.186,
          74.408,
          74.08,
          74.855,
          75.139,
          75.433,
          75.006,
          75.641,
          75.936,
          75.721,
          76.124,
          76.467,
          76.491,
          76.755,
          76.76,
          76.308,
          76.833,
          76.999,
          77.284,
          75.892,
          75.39,
          76.064,
          74.5
         ],
         "xaxis": "x",
         "y": [
          7705.54288252851,
          7637.01489203628,
          7141.47507662826,
          2569.69963519124,
          3320.47775133903,
          4242.02099089422,
          5067.65342293276,
          5869.38028970204,
          7185.25155147027,
          8944.1102657357,
          8150.23527028221,
          10260.1313108254,
          12704.2831819684,
          12949.717486654,
          12963.675773326,
          12233.1444119186,
          13679.6264980954,
          12699.9623137756,
          14532.5009308511,
          11752.7998922979,
          9955.97478680428,
          8535.59938004389,
          10738.0179223384,
          13935.6811110049,
          14187.4827252965
         ],
         "yaxis": "y"
        },
        {
         "hovertemplate": "<b>OLS trendline</b><br>GDP per capita (current US$) = 2272.42 * Life expectancy at birth, total (years) + -162229<br>R<sup>2</sup>=0.435147<br><br>Esperanza de Vida al Nacimiento (años)=%{x}<br>PIB per cápita (USD actuales)=%{y} <b>(trend)</b><extra></extra>",
         "legendgroup": "",
         "marker": {
          "symbol": "circle"
         },
         "mode": "lines",
         "name": "",
         "showlegend": false,
         "type": "scatter",
         "x": [
          73.722,
          73.926,
          74.08,
          74.186,
          74.408,
          74.5,
          74.855,
          75.006,
          75.139,
          75.39,
          75.433,
          75.641,
          75.721,
          75.892,
          75.936,
          76.064,
          76.124,
          76.308,
          76.467,
          76.491,
          76.755,
          76.76,
          76.833,
          76.999,
          77.284
         ],
         "xaxis": "x",
         "y": [
          5298.126319584961,
          5761.699896711507,
          6111.652499052114,
          6352.528965598263,
          6857.006093647709,
          7066.068687253777,
          7872.777608233766,
          8215.912952087237,
          8518.144745017751,
          9088.522038443043,
          9186.236076758942,
          9658.899331868335,
          9840.692891525803,
          10229.276625293598,
          10329.263083105237,
          10620.132778557134,
          10756.47794830025,
          11174.603135512414,
          11535.91783533161,
          11590.455903228867,
          12190.37465009847,
          12201.736747577088,
          12367.623370764486,
          12744.845007053722,
          13392.484563333448
         ],
         "yaxis": "y"
        }
       ],
       "layout": {
        "annotations": [
         {
          "arrowhead": 2,
          "ax": 20,
          "ay": -30,
          "showarrow": true,
          "text": "Tendencia positiva",
          "x": 77.07,
          "xref": "x",
          "y": 12500,
          "yref": "y"
         }
        ],
        "coloraxis": {
         "colorbar": {
          "title": {
           "text": "Year"
          }
         },
         "colorscale": [
          [
           0,
           "#0d0887"
          ],
          [
           0.1111111111111111,
           "#46039f"
          ],
          [
           0.2222222222222222,
           "#7201a8"
          ],
          [
           0.3333333333333333,
           "#9c179e"
          ],
          [
           0.4444444444444444,
           "#bd3786"
          ],
          [
           0.5555555555555556,
           "#d8576b"
          ],
          [
           0.6666666666666666,
           "#ed7953"
          ],
          [
           0.7777777777777778,
           "#fb9f3a"
          ],
          [
           0.8888888888888888,
           "#fdca26"
          ],
          [
           1,
           "#f0f921"
          ]
         ]
        },
        "font": {
         "family": "Arial",
         "size": 12
        },
        "hovermode": "x unified",
        "legend": {
         "itemsizing": "constant",
         "title": {
          "text": "Año"
         },
         "tracegroupgap": 0
        },
        "showlegend": true,
        "template": {
         "data": {
          "bar": [
           {
            "error_x": {
             "color": "#2a3f5f"
            },
            "error_y": {
             "color": "#2a3f5f"
            },
            "marker": {
             "line": {
              "color": "white",
              "width": 0.5
             },
             "pattern": {
              "fillmode": "overlay",
              "size": 10,
              "solidity": 0.2
             }
            },
            "type": "bar"
           }
          ],
          "barpolar": [
           {
            "marker": {
             "line": {
              "color": "white",
              "width": 0.5
             },
             "pattern": {
              "fillmode": "overlay",
              "size": 10,
              "solidity": 0.2
             }
            },
            "type": "barpolar"
           }
          ],
          "carpet": [
           {
            "aaxis": {
             "endlinecolor": "#2a3f5f",
             "gridcolor": "#C8D4E3",
             "linecolor": "#C8D4E3",
             "minorgridcolor": "#C8D4E3",
             "startlinecolor": "#2a3f5f"
            },
            "baxis": {
             "endlinecolor": "#2a3f5f",
             "gridcolor": "#C8D4E3",
             "linecolor": "#C8D4E3",
             "minorgridcolor": "#C8D4E3",
             "startlinecolor": "#2a3f5f"
            },
            "type": "carpet"
           }
          ],
          "choropleth": [
           {
            "colorbar": {
             "outlinewidth": 0,
             "ticks": ""
            },
            "type": "choropleth"
           }
          ],
          "contour": [
           {
            "colorbar": {
             "outlinewidth": 0,
             "ticks": ""
            },
            "colorscale": [
             [
              0,
              "#0d0887"
             ],
             [
              0.1111111111111111,
              "#46039f"
             ],
             [
              0.2222222222222222,
              "#7201a8"
             ],
             [
              0.3333333333333333,
              "#9c179e"
             ],
             [
              0.4444444444444444,
              "#bd3786"
             ],
             [
              0.5555555555555556,
              "#d8576b"
             ],
             [
              0.6666666666666666,
              "#ed7953"
             ],
             [
              0.7777777777777778,
              "#fb9f3a"
             ],
             [
              0.8888888888888888,
              "#fdca26"
             ],
             [
              1,
              "#f0f921"
             ]
            ],
            "type": "contour"
           }
          ],
          "contourcarpet": [
           {
            "colorbar": {
             "outlinewidth": 0,
             "ticks": ""
            },
            "type": "contourcarpet"
           }
          ],
          "heatmap": [
           {
            "colorbar": {
             "outlinewidth": 0,
             "ticks": ""
            },
            "colorscale": [
             [
              0,
              "#0d0887"
             ],
             [
              0.1111111111111111,
              "#46039f"
             ],
             [
              0.2222222222222222,
              "#7201a8"
             ],
             [
              0.3333333333333333,
              "#9c179e"
             ],
             [
              0.4444444444444444,
              "#bd3786"
             ],
             [
              0.5555555555555556,
              "#d8576b"
             ],
             [
              0.6666666666666666,
              "#ed7953"
             ],
             [
              0.7777777777777778,
              "#fb9f3a"
             ],
             [
              0.8888888888888888,
              "#fdca26"
             ],
             [
              1,
              "#f0f921"
             ]
            ],
            "type": "heatmap"
           }
          ],
          "heatmapgl": [
           {
            "colorbar": {
             "outlinewidth": 0,
             "ticks": ""
            },
            "colorscale": [
             [
              0,
              "#0d0887"
             ],
             [
              0.1111111111111111,
              "#46039f"
             ],
             [
              0.2222222222222222,
              "#7201a8"
             ],
             [
              0.3333333333333333,
              "#9c179e"
             ],
             [
              0.4444444444444444,
              "#bd3786"
             ],
             [
              0.5555555555555556,
              "#d8576b"
             ],
             [
              0.6666666666666666,
              "#ed7953"
             ],
             [
              0.7777777777777778,
              "#fb9f3a"
             ],
             [
              0.8888888888888888,
              "#fdca26"
             ],
             [
              1,
              "#f0f921"
             ]
            ],
            "type": "heatmapgl"
           }
          ],
          "histogram": [
           {
            "marker": {
             "pattern": {
              "fillmode": "overlay",
              "size": 10,
              "solidity": 0.2
             }
            },
            "type": "histogram"
           }
          ],
          "histogram2d": [
           {
            "colorbar": {
             "outlinewidth": 0,
             "ticks": ""
            },
            "colorscale": [
             [
              0,
              "#0d0887"
             ],
             [
              0.1111111111111111,
              "#46039f"
             ],
             [
              0.2222222222222222,
              "#7201a8"
             ],
             [
              0.3333333333333333,
              "#9c179e"
             ],
             [
              0.4444444444444444,
              "#bd3786"
             ],
             [
              0.5555555555555556,
              "#d8576b"
             ],
             [
              0.6666666666666666,
              "#ed7953"
             ],
             [
              0.7777777777777778,
              "#fb9f3a"
             ],
             [
              0.8888888888888888,
              "#fdca26"
             ],
             [
              1,
              "#f0f921"
             ]
            ],
            "type": "histogram2d"
           }
          ],
          "histogram2dcontour": [
           {
            "colorbar": {
             "outlinewidth": 0,
             "ticks": ""
            },
            "colorscale": [
             [
              0,
              "#0d0887"
             ],
             [
              0.1111111111111111,
              "#46039f"
             ],
             [
              0.2222222222222222,
              "#7201a8"
             ],
             [
              0.3333333333333333,
              "#9c179e"
             ],
             [
              0.4444444444444444,
              "#bd3786"
             ],
             [
              0.5555555555555556,
              "#d8576b"
             ],
             [
              0.6666666666666666,
              "#ed7953"
             ],
             [
              0.7777777777777778,
              "#fb9f3a"
             ],
             [
              0.8888888888888888,
              "#fdca26"
             ],
             [
              1,
              "#f0f921"
             ]
            ],
            "type": "histogram2dcontour"
           }
          ],
          "mesh3d": [
           {
            "colorbar": {
             "outlinewidth": 0,
             "ticks": ""
            },
            "type": "mesh3d"
           }
          ],
          "parcoords": [
           {
            "line": {
             "colorbar": {
              "outlinewidth": 0,
              "ticks": ""
             }
            },
            "type": "parcoords"
           }
          ],
          "pie": [
           {
            "automargin": true,
            "type": "pie"
           }
          ],
          "scatter": [
           {
            "fillpattern": {
             "fillmode": "overlay",
             "size": 10,
             "solidity": 0.2
            },
            "type": "scatter"
           }
          ],
          "scatter3d": [
           {
            "line": {
             "colorbar": {
              "outlinewidth": 0,
              "ticks": ""
             }
            },
            "marker": {
             "colorbar": {
              "outlinewidth": 0,
              "ticks": ""
             }
            },
            "type": "scatter3d"
           }
          ],
          "scattercarpet": [
           {
            "marker": {
             "colorbar": {
              "outlinewidth": 0,
              "ticks": ""
             }
            },
            "type": "scattercarpet"
           }
          ],
          "scattergeo": [
           {
            "marker": {
             "colorbar": {
              "outlinewidth": 0,
              "ticks": ""
             }
            },
            "type": "scattergeo"
           }
          ],
          "scattergl": [
           {
            "marker": {
             "colorbar": {
              "outlinewidth": 0,
              "ticks": ""
             }
            },
            "type": "scattergl"
           }
          ],
          "scattermapbox": [
           {
            "marker": {
             "colorbar": {
              "outlinewidth": 0,
              "ticks": ""
             }
            },
            "type": "scattermapbox"
           }
          ],
          "scatterpolar": [
           {
            "marker": {
             "colorbar": {
              "outlinewidth": 0,
              "ticks": ""
             }
            },
            "type": "scatterpolar"
           }
          ],
          "scatterpolargl": [
           {
            "marker": {
             "colorbar": {
              "outlinewidth": 0,
              "ticks": ""
             }
            },
            "type": "scatterpolargl"
           }
          ],
          "scatterternary": [
           {
            "marker": {
             "colorbar": {
              "outlinewidth": 0,
              "ticks": ""
             }
            },
            "type": "scatterternary"
           }
          ],
          "surface": [
           {
            "colorbar": {
             "outlinewidth": 0,
             "ticks": ""
            },
            "colorscale": [
             [
              0,
              "#0d0887"
             ],
             [
              0.1111111111111111,
              "#46039f"
             ],
             [
              0.2222222222222222,
              "#7201a8"
             ],
             [
              0.3333333333333333,
              "#9c179e"
             ],
             [
              0.4444444444444444,
              "#bd3786"
             ],
             [
              0.5555555555555556,
              "#d8576b"
             ],
             [
              0.6666666666666666,
              "#ed7953"
             ],
             [
              0.7777777777777778,
              "#fb9f3a"
             ],
             [
              0.8888888888888888,
              "#fdca26"
             ],
             [
              1,
              "#f0f921"
             ]
            ],
            "type": "surface"
           }
          ],
          "table": [
           {
            "cells": {
             "fill": {
              "color": "#EBF0F8"
             },
             "line": {
              "color": "white"
             }
            },
            "header": {
             "fill": {
              "color": "#C8D4E3"
             },
             "line": {
              "color": "white"
             }
            },
            "type": "table"
           }
          ]
         },
         "layout": {
          "annotationdefaults": {
           "arrowcolor": "#2a3f5f",
           "arrowhead": 0,
           "arrowwidth": 1
          },
          "autotypenumbers": "strict",
          "coloraxis": {
           "colorbar": {
            "outlinewidth": 0,
            "ticks": ""
           }
          },
          "colorscale": {
           "diverging": [
            [
             0,
             "#8e0152"
            ],
            [
             0.1,
             "#c51b7d"
            ],
            [
             0.2,
             "#de77ae"
            ],
            [
             0.3,
             "#f1b6da"
            ],
            [
             0.4,
             "#fde0ef"
            ],
            [
             0.5,
             "#f7f7f7"
            ],
            [
             0.6,
             "#e6f5d0"
            ],
            [
             0.7,
             "#b8e186"
            ],
            [
             0.8,
             "#7fbc41"
            ],
            [
             0.9,
             "#4d9221"
            ],
            [
             1,
             "#276419"
            ]
           ],
           "sequential": [
            [
             0,
             "#0d0887"
            ],
            [
             0.1111111111111111,
             "#46039f"
            ],
            [
             0.2222222222222222,
             "#7201a8"
            ],
            [
             0.3333333333333333,
             "#9c179e"
            ],
            [
             0.4444444444444444,
             "#bd3786"
            ],
            [
             0.5555555555555556,
             "#d8576b"
            ],
            [
             0.6666666666666666,
             "#ed7953"
            ],
            [
             0.7777777777777778,
             "#fb9f3a"
            ],
            [
             0.8888888888888888,
             "#fdca26"
            ],
            [
             1,
             "#f0f921"
            ]
           ],
           "sequentialminus": [
            [
             0,
             "#0d0887"
            ],
            [
             0.1111111111111111,
             "#46039f"
            ],
            [
             0.2222222222222222,
             "#7201a8"
            ],
            [
             0.3333333333333333,
             "#9c179e"
            ],
            [
             0.4444444444444444,
             "#bd3786"
            ],
            [
             0.5555555555555556,
             "#d8576b"
            ],
            [
             0.6666666666666666,
             "#ed7953"
            ],
            [
             0.7777777777777778,
             "#fb9f3a"
            ],
            [
             0.8888888888888888,
             "#fdca26"
            ],
            [
             1,
             "#f0f921"
            ]
           ]
          },
          "colorway": [
           "#636efa",
           "#EF553B",
           "#00cc96",
           "#ab63fa",
           "#FFA15A",
           "#19d3f3",
           "#FF6692",
           "#B6E880",
           "#FF97FF",
           "#FECB52"
          ],
          "font": {
           "color": "#2a3f5f"
          },
          "geo": {
           "bgcolor": "white",
           "lakecolor": "white",
           "landcolor": "white",
           "showlakes": true,
           "showland": true,
           "subunitcolor": "#C8D4E3"
          },
          "hoverlabel": {
           "align": "left"
          },
          "hovermode": "closest",
          "mapbox": {
           "style": "light"
          },
          "paper_bgcolor": "white",
          "plot_bgcolor": "white",
          "polar": {
           "angularaxis": {
            "gridcolor": "#EBF0F8",
            "linecolor": "#EBF0F8",
            "ticks": ""
           },
           "bgcolor": "white",
           "radialaxis": {
            "gridcolor": "#EBF0F8",
            "linecolor": "#EBF0F8",
            "ticks": ""
           }
          },
          "scene": {
           "xaxis": {
            "backgroundcolor": "white",
            "gridcolor": "#DFE8F3",
            "gridwidth": 2,
            "linecolor": "#EBF0F8",
            "showbackground": true,
            "ticks": "",
            "zerolinecolor": "#EBF0F8"
           },
           "yaxis": {
            "backgroundcolor": "white",
            "gridcolor": "#DFE8F3",
            "gridwidth": 2,
            "linecolor": "#EBF0F8",
            "showbackground": true,
            "ticks": "",
            "zerolinecolor": "#EBF0F8"
           },
           "zaxis": {
            "backgroundcolor": "white",
            "gridcolor": "#DFE8F3",
            "gridwidth": 2,
            "linecolor": "#EBF0F8",
            "showbackground": true,
            "ticks": "",
            "zerolinecolor": "#EBF0F8"
           }
          },
          "shapedefaults": {
           "line": {
            "color": "#2a3f5f"
           }
          },
          "ternary": {
           "aaxis": {
            "gridcolor": "#DFE8F3",
            "linecolor": "#A2B1C6",
            "ticks": ""
           },
           "baxis": {
            "gridcolor": "#DFE8F3",
            "linecolor": "#A2B1C6",
            "ticks": ""
           },
           "bgcolor": "white",
           "caxis": {
            "gridcolor": "#DFE8F3",
            "linecolor": "#A2B1C6",
            "ticks": ""
           }
          },
          "title": {
           "x": 0.05
          },
          "xaxis": {
           "automargin": true,
           "gridcolor": "#EBF0F8",
           "linecolor": "#EBF0F8",
           "ticks": "",
           "title": {
            "standoff": 15
           },
           "zerolinecolor": "#EBF0F8",
           "zerolinewidth": 2
          },
          "yaxis": {
           "automargin": true,
           "gridcolor": "#EBF0F8",
           "linecolor": "#EBF0F8",
           "ticks": "",
           "title": {
            "standoff": 15
           },
           "zerolinecolor": "#EBF0F8",
           "zerolinewidth": 2
          }
         }
        },
        "title": {
         "font": {
          "size": 20
         },
         "text": "Relación entre Esperanza de Vida y PIB per cápita"
        },
        "xaxis": {
         "anchor": "y",
         "domain": [
          0,
          1
         ],
         "gridcolor": "lightgray",
         "showgrid": true,
         "title": {
          "text": "Esperanza de Vida al Nacimiento (años)"
         }
        },
        "yaxis": {
         "anchor": "x",
         "domain": [
          0,
          1
         ],
         "gridcolor": "lightgray",
         "showgrid": true,
         "title": {
          "text": "PIB per cápita (USD actuales)"
         }
        }
       }
      }
     },
     "metadata": {},
     "output_type": "display_data"
    }
   ],
   "source": [
    "fig = px.scatter(df_pivot, \n",
    "                 x='Life expectancy at birth, total (years)', \n",
    "                 y='GDP per capita (current US$)', \n",
    "                 color='Year',\n",
    "                 size='GDP per capita (current US$)', \n",
    "                 hover_data=['Year'],  \n",
    "                 trendline=\"ols\", \n",
    "                 title='Relación entre Esperanza de Vida y PIB per cápita',\n",
    "                 labels={'Life expectancy at birth, total (years)': 'Esperanza de Vida al Nacimiento (años)',\n",
    "                         'GDP per capita (current US$)': 'PIB per cápita (USD actuales)'},\n",
    "                 template='plotly_white') \n",
    "\n",
    "\n",
    "fig.update_layout(\n",
    "    xaxis_title=\"Esperanza de Vida al Nacimiento (años)\",\n",
    "    yaxis_title=\"PIB per cápita (USD actuales)\",\n",
    "    xaxis=dict(showgrid=True, gridcolor='lightgray'),\n",
    "    yaxis=dict(showgrid=True, gridcolor='lightgray'),\n",
    "    showlegend=True,\n",
    "    legend_title_text='Año',\n",
    "    hovermode=\"x unified\",  \n",
    "    font=dict(size=12, family=\"Arial\"),\n",
    "    title_font_size=20\n",
    ")\n",
    "\n",
    "\n",
    "fig.add_annotation(\n",
    "    x=77.07,\n",
    "    y=12500,\n",
    "    xref=\"x\",\n",
    "    yref=\"y\",\n",
    "    text=\"Tendencia positiva\",\n",
    "    showarrow=True,\n",
    "    arrowhead=2,\n",
    "    ax=20,\n",
    "    ay=-30\n",
    ")\n",
    "\n",
    "# Mostrar el gráfico\n",
    "fig.show()"
   ]
  },
  {
   "cell_type": "markdown",
   "metadata": {},
   "source": [
    "Un mayor PIB per cápita tiende a correlacionarse con una mayor esperanza de vida. Un PIB per cápita más alto suele reflejar mejores condiciones económicas, lo que a menudo se traduce en mejor acceso a servicios de salud, educación, nutrición y saneamiento, todos factores que influyen en la esperanza de vida. Sin embargo, también notamos que hay períodos en los que el PIB per cápita es menor y la esperanza de vida aumenta con respecto al período anterior. Esto se debe a que el PIB per cápita es una variable general que no toma en cuenta otros factores socioeconómicos."
   ]
  },
  {
   "cell_type": "code",
   "execution_count": 112,
   "metadata": {},
   "outputs": [
    {
     "data": {
      "application/vnd.plotly.v1+json": {
       "config": {
        "plotlyServerURL": "https://plot.ly"
       },
       "data": [
        {
         "customdata": [
          [
           1999
          ],
          [
           2000
          ],
          [
           2001
          ],
          [
           2002
          ],
          [
           2003
          ],
          [
           2004
          ],
          [
           2005
          ],
          [
           2006
          ],
          [
           2007
          ],
          [
           2008
          ],
          [
           2009
          ],
          [
           2010
          ],
          [
           2011
          ],
          [
           2012
          ],
          [
           2013
          ],
          [
           2014
          ],
          [
           2015
          ],
          [
           2016
          ],
          [
           2017
          ],
          [
           2018
          ],
          [
           2019
          ],
          [
           2020
          ],
          [
           2021
          ],
          [
           2022
          ],
          [
           2023
          ]
         ],
         "hovertemplate": "Tasa de Pobreza Nacional (%)=%{marker.size}<br>Esperanza de Vida al Nacimiento (años)=%{y}<br>Year=%{marker.color}<extra></extra>",
         "legendgroup": "",
         "marker": {
          "color": [
           1999,
           2000,
           2001,
           2002,
           2003,
           2004,
           2005,
           2006,
           2007,
           2008,
           2009,
           2010,
           2011,
           2012,
           2013,
           2014,
           2015,
           2016,
           2017,
           2018,
           2019,
           2020,
           2021,
           2022,
           2023
          ],
          "coloraxis": "coloraxis",
          "size": [
           36,
           36.5,
           39,
           53,
           48.5,
           43.5,
           39.5,
           26.5,
           23.5,
           21.5,
           24.5,
           21.5,
           19.5,
           20,
           29.8,
           28.5,
           32.2,
           30.3,
           25.7,
           32,
           35.5,
           42,
           37.3,
           39.2,
           41
          ],
          "sizemode": "area",
          "sizeref": 0.1325,
          "symbol": "circle"
         },
         "mode": "markers",
         "name": "",
         "orientation": "v",
         "showlegend": false,
         "type": "scatter",
         "x": [
          36,
          36.5,
          39,
          53,
          48.5,
          43.5,
          39.5,
          26.5,
          23.5,
          21.5,
          24.5,
          21.5,
          19.5,
          20,
          29.8,
          28.5,
          32.2,
          30.3,
          25.7,
          32,
          35.5,
          42,
          37.3,
          39.2,
          41
         ],
         "xaxis": "x",
         "y": [
          73.722,
          73.926,
          74.186,
          74.408,
          74.08,
          74.855,
          75.139,
          75.433,
          75.006,
          75.641,
          75.936,
          75.721,
          76.124,
          76.467,
          76.491,
          76.755,
          76.76,
          76.308,
          76.833,
          76.999,
          77.284,
          75.892,
          75.39,
          76.064,
          74.5
         ],
         "yaxis": "y"
        },
        {
         "hovertemplate": "<b>OLS trendline</b><br>Life expectancy at birth, total (years) = -0.0587445 * National Poverty Rate + 77.5389<br>R<sup>2</sup>=0.259588<br><br>Tasa de Pobreza Nacional (%)=%{x}<br>Esperanza de Vida al Nacimiento (años)=%{y} <b>(trend)</b><extra></extra>",
         "legendgroup": "",
         "marker": {
          "symbol": "circle"
         },
         "mode": "lines",
         "name": "",
         "showlegend": false,
         "type": "scatter",
         "x": [
          19.5,
          20,
          21.5,
          21.5,
          23.5,
          24.5,
          25.7,
          26.5,
          28.5,
          29.8,
          30.3,
          32,
          32.2,
          35.5,
          36,
          36.5,
          37.3,
          39,
          39.2,
          39.5,
          41,
          42,
          43.5,
          48.5,
          53
         ],
         "xaxis": "x",
         "y": [
          76.39337588190536,
          76.36400361487344,
          76.27588681377772,
          76.27588681377772,
          76.15839774565009,
          76.09965321158629,
          76.0291597707097,
          75.98216414345865,
          75.86467507533102,
          75.78830718104807,
          75.75893491401615,
          75.65906920610767,
          75.6473202992949,
          75.45346333688433,
          75.42409106985241,
          75.3947188028205,
          75.34772317556946,
          75.24785746766096,
          75.23610856084821,
          75.21848520062906,
          75.13036839953334,
          75.07162386546952,
          74.9835070643738,
          74.68978439405473,
          74.42543399076756
         ],
         "yaxis": "y"
        }
       ],
       "layout": {
        "annotations": [
         {
          "arrowhead": 2,
          "ax": 20,
          "ay": -30,
          "showarrow": true,
          "text": "Tendencia negativa clara",
          "x": 53,
          "xref": "x",
          "y": 74.7,
          "yref": "y"
         }
        ],
        "coloraxis": {
         "colorbar": {
          "title": {
           "text": "Year"
          }
         },
         "colorscale": [
          [
           0,
           "#0d0887"
          ],
          [
           0.1111111111111111,
           "#46039f"
          ],
          [
           0.2222222222222222,
           "#7201a8"
          ],
          [
           0.3333333333333333,
           "#9c179e"
          ],
          [
           0.4444444444444444,
           "#bd3786"
          ],
          [
           0.5555555555555556,
           "#d8576b"
          ],
          [
           0.6666666666666666,
           "#ed7953"
          ],
          [
           0.7777777777777778,
           "#fb9f3a"
          ],
          [
           0.8888888888888888,
           "#fdca26"
          ],
          [
           1,
           "#f0f921"
          ]
         ]
        },
        "font": {
         "family": "Arial",
         "size": 12
        },
        "hovermode": "x unified",
        "legend": {
         "itemsizing": "constant",
         "title": {
          "text": "Año"
         },
         "tracegroupgap": 0
        },
        "showlegend": true,
        "template": {
         "data": {
          "bar": [
           {
            "error_x": {
             "color": "#2a3f5f"
            },
            "error_y": {
             "color": "#2a3f5f"
            },
            "marker": {
             "line": {
              "color": "white",
              "width": 0.5
             },
             "pattern": {
              "fillmode": "overlay",
              "size": 10,
              "solidity": 0.2
             }
            },
            "type": "bar"
           }
          ],
          "barpolar": [
           {
            "marker": {
             "line": {
              "color": "white",
              "width": 0.5
             },
             "pattern": {
              "fillmode": "overlay",
              "size": 10,
              "solidity": 0.2
             }
            },
            "type": "barpolar"
           }
          ],
          "carpet": [
           {
            "aaxis": {
             "endlinecolor": "#2a3f5f",
             "gridcolor": "#C8D4E3",
             "linecolor": "#C8D4E3",
             "minorgridcolor": "#C8D4E3",
             "startlinecolor": "#2a3f5f"
            },
            "baxis": {
             "endlinecolor": "#2a3f5f",
             "gridcolor": "#C8D4E3",
             "linecolor": "#C8D4E3",
             "minorgridcolor": "#C8D4E3",
             "startlinecolor": "#2a3f5f"
            },
            "type": "carpet"
           }
          ],
          "choropleth": [
           {
            "colorbar": {
             "outlinewidth": 0,
             "ticks": ""
            },
            "type": "choropleth"
           }
          ],
          "contour": [
           {
            "colorbar": {
             "outlinewidth": 0,
             "ticks": ""
            },
            "colorscale": [
             [
              0,
              "#0d0887"
             ],
             [
              0.1111111111111111,
              "#46039f"
             ],
             [
              0.2222222222222222,
              "#7201a8"
             ],
             [
              0.3333333333333333,
              "#9c179e"
             ],
             [
              0.4444444444444444,
              "#bd3786"
             ],
             [
              0.5555555555555556,
              "#d8576b"
             ],
             [
              0.6666666666666666,
              "#ed7953"
             ],
             [
              0.7777777777777778,
              "#fb9f3a"
             ],
             [
              0.8888888888888888,
              "#fdca26"
             ],
             [
              1,
              "#f0f921"
             ]
            ],
            "type": "contour"
           }
          ],
          "contourcarpet": [
           {
            "colorbar": {
             "outlinewidth": 0,
             "ticks": ""
            },
            "type": "contourcarpet"
           }
          ],
          "heatmap": [
           {
            "colorbar": {
             "outlinewidth": 0,
             "ticks": ""
            },
            "colorscale": [
             [
              0,
              "#0d0887"
             ],
             [
              0.1111111111111111,
              "#46039f"
             ],
             [
              0.2222222222222222,
              "#7201a8"
             ],
             [
              0.3333333333333333,
              "#9c179e"
             ],
             [
              0.4444444444444444,
              "#bd3786"
             ],
             [
              0.5555555555555556,
              "#d8576b"
             ],
             [
              0.6666666666666666,
              "#ed7953"
             ],
             [
              0.7777777777777778,
              "#fb9f3a"
             ],
             [
              0.8888888888888888,
              "#fdca26"
             ],
             [
              1,
              "#f0f921"
             ]
            ],
            "type": "heatmap"
           }
          ],
          "heatmapgl": [
           {
            "colorbar": {
             "outlinewidth": 0,
             "ticks": ""
            },
            "colorscale": [
             [
              0,
              "#0d0887"
             ],
             [
              0.1111111111111111,
              "#46039f"
             ],
             [
              0.2222222222222222,
              "#7201a8"
             ],
             [
              0.3333333333333333,
              "#9c179e"
             ],
             [
              0.4444444444444444,
              "#bd3786"
             ],
             [
              0.5555555555555556,
              "#d8576b"
             ],
             [
              0.6666666666666666,
              "#ed7953"
             ],
             [
              0.7777777777777778,
              "#fb9f3a"
             ],
             [
              0.8888888888888888,
              "#fdca26"
             ],
             [
              1,
              "#f0f921"
             ]
            ],
            "type": "heatmapgl"
           }
          ],
          "histogram": [
           {
            "marker": {
             "pattern": {
              "fillmode": "overlay",
              "size": 10,
              "solidity": 0.2
             }
            },
            "type": "histogram"
           }
          ],
          "histogram2d": [
           {
            "colorbar": {
             "outlinewidth": 0,
             "ticks": ""
            },
            "colorscale": [
             [
              0,
              "#0d0887"
             ],
             [
              0.1111111111111111,
              "#46039f"
             ],
             [
              0.2222222222222222,
              "#7201a8"
             ],
             [
              0.3333333333333333,
              "#9c179e"
             ],
             [
              0.4444444444444444,
              "#bd3786"
             ],
             [
              0.5555555555555556,
              "#d8576b"
             ],
             [
              0.6666666666666666,
              "#ed7953"
             ],
             [
              0.7777777777777778,
              "#fb9f3a"
             ],
             [
              0.8888888888888888,
              "#fdca26"
             ],
             [
              1,
              "#f0f921"
             ]
            ],
            "type": "histogram2d"
           }
          ],
          "histogram2dcontour": [
           {
            "colorbar": {
             "outlinewidth": 0,
             "ticks": ""
            },
            "colorscale": [
             [
              0,
              "#0d0887"
             ],
             [
              0.1111111111111111,
              "#46039f"
             ],
             [
              0.2222222222222222,
              "#7201a8"
             ],
             [
              0.3333333333333333,
              "#9c179e"
             ],
             [
              0.4444444444444444,
              "#bd3786"
             ],
             [
              0.5555555555555556,
              "#d8576b"
             ],
             [
              0.6666666666666666,
              "#ed7953"
             ],
             [
              0.7777777777777778,
              "#fb9f3a"
             ],
             [
              0.8888888888888888,
              "#fdca26"
             ],
             [
              1,
              "#f0f921"
             ]
            ],
            "type": "histogram2dcontour"
           }
          ],
          "mesh3d": [
           {
            "colorbar": {
             "outlinewidth": 0,
             "ticks": ""
            },
            "type": "mesh3d"
           }
          ],
          "parcoords": [
           {
            "line": {
             "colorbar": {
              "outlinewidth": 0,
              "ticks": ""
             }
            },
            "type": "parcoords"
           }
          ],
          "pie": [
           {
            "automargin": true,
            "type": "pie"
           }
          ],
          "scatter": [
           {
            "fillpattern": {
             "fillmode": "overlay",
             "size": 10,
             "solidity": 0.2
            },
            "type": "scatter"
           }
          ],
          "scatter3d": [
           {
            "line": {
             "colorbar": {
              "outlinewidth": 0,
              "ticks": ""
             }
            },
            "marker": {
             "colorbar": {
              "outlinewidth": 0,
              "ticks": ""
             }
            },
            "type": "scatter3d"
           }
          ],
          "scattercarpet": [
           {
            "marker": {
             "colorbar": {
              "outlinewidth": 0,
              "ticks": ""
             }
            },
            "type": "scattercarpet"
           }
          ],
          "scattergeo": [
           {
            "marker": {
             "colorbar": {
              "outlinewidth": 0,
              "ticks": ""
             }
            },
            "type": "scattergeo"
           }
          ],
          "scattergl": [
           {
            "marker": {
             "colorbar": {
              "outlinewidth": 0,
              "ticks": ""
             }
            },
            "type": "scattergl"
           }
          ],
          "scattermapbox": [
           {
            "marker": {
             "colorbar": {
              "outlinewidth": 0,
              "ticks": ""
             }
            },
            "type": "scattermapbox"
           }
          ],
          "scatterpolar": [
           {
            "marker": {
             "colorbar": {
              "outlinewidth": 0,
              "ticks": ""
             }
            },
            "type": "scatterpolar"
           }
          ],
          "scatterpolargl": [
           {
            "marker": {
             "colorbar": {
              "outlinewidth": 0,
              "ticks": ""
             }
            },
            "type": "scatterpolargl"
           }
          ],
          "scatterternary": [
           {
            "marker": {
             "colorbar": {
              "outlinewidth": 0,
              "ticks": ""
             }
            },
            "type": "scatterternary"
           }
          ],
          "surface": [
           {
            "colorbar": {
             "outlinewidth": 0,
             "ticks": ""
            },
            "colorscale": [
             [
              0,
              "#0d0887"
             ],
             [
              0.1111111111111111,
              "#46039f"
             ],
             [
              0.2222222222222222,
              "#7201a8"
             ],
             [
              0.3333333333333333,
              "#9c179e"
             ],
             [
              0.4444444444444444,
              "#bd3786"
             ],
             [
              0.5555555555555556,
              "#d8576b"
             ],
             [
              0.6666666666666666,
              "#ed7953"
             ],
             [
              0.7777777777777778,
              "#fb9f3a"
             ],
             [
              0.8888888888888888,
              "#fdca26"
             ],
             [
              1,
              "#f0f921"
             ]
            ],
            "type": "surface"
           }
          ],
          "table": [
           {
            "cells": {
             "fill": {
              "color": "#EBF0F8"
             },
             "line": {
              "color": "white"
             }
            },
            "header": {
             "fill": {
              "color": "#C8D4E3"
             },
             "line": {
              "color": "white"
             }
            },
            "type": "table"
           }
          ]
         },
         "layout": {
          "annotationdefaults": {
           "arrowcolor": "#2a3f5f",
           "arrowhead": 0,
           "arrowwidth": 1
          },
          "autotypenumbers": "strict",
          "coloraxis": {
           "colorbar": {
            "outlinewidth": 0,
            "ticks": ""
           }
          },
          "colorscale": {
           "diverging": [
            [
             0,
             "#8e0152"
            ],
            [
             0.1,
             "#c51b7d"
            ],
            [
             0.2,
             "#de77ae"
            ],
            [
             0.3,
             "#f1b6da"
            ],
            [
             0.4,
             "#fde0ef"
            ],
            [
             0.5,
             "#f7f7f7"
            ],
            [
             0.6,
             "#e6f5d0"
            ],
            [
             0.7,
             "#b8e186"
            ],
            [
             0.8,
             "#7fbc41"
            ],
            [
             0.9,
             "#4d9221"
            ],
            [
             1,
             "#276419"
            ]
           ],
           "sequential": [
            [
             0,
             "#0d0887"
            ],
            [
             0.1111111111111111,
             "#46039f"
            ],
            [
             0.2222222222222222,
             "#7201a8"
            ],
            [
             0.3333333333333333,
             "#9c179e"
            ],
            [
             0.4444444444444444,
             "#bd3786"
            ],
            [
             0.5555555555555556,
             "#d8576b"
            ],
            [
             0.6666666666666666,
             "#ed7953"
            ],
            [
             0.7777777777777778,
             "#fb9f3a"
            ],
            [
             0.8888888888888888,
             "#fdca26"
            ],
            [
             1,
             "#f0f921"
            ]
           ],
           "sequentialminus": [
            [
             0,
             "#0d0887"
            ],
            [
             0.1111111111111111,
             "#46039f"
            ],
            [
             0.2222222222222222,
             "#7201a8"
            ],
            [
             0.3333333333333333,
             "#9c179e"
            ],
            [
             0.4444444444444444,
             "#bd3786"
            ],
            [
             0.5555555555555556,
             "#d8576b"
            ],
            [
             0.6666666666666666,
             "#ed7953"
            ],
            [
             0.7777777777777778,
             "#fb9f3a"
            ],
            [
             0.8888888888888888,
             "#fdca26"
            ],
            [
             1,
             "#f0f921"
            ]
           ]
          },
          "colorway": [
           "#636efa",
           "#EF553B",
           "#00cc96",
           "#ab63fa",
           "#FFA15A",
           "#19d3f3",
           "#FF6692",
           "#B6E880",
           "#FF97FF",
           "#FECB52"
          ],
          "font": {
           "color": "#2a3f5f"
          },
          "geo": {
           "bgcolor": "white",
           "lakecolor": "white",
           "landcolor": "white",
           "showlakes": true,
           "showland": true,
           "subunitcolor": "#C8D4E3"
          },
          "hoverlabel": {
           "align": "left"
          },
          "hovermode": "closest",
          "mapbox": {
           "style": "light"
          },
          "paper_bgcolor": "white",
          "plot_bgcolor": "white",
          "polar": {
           "angularaxis": {
            "gridcolor": "#EBF0F8",
            "linecolor": "#EBF0F8",
            "ticks": ""
           },
           "bgcolor": "white",
           "radialaxis": {
            "gridcolor": "#EBF0F8",
            "linecolor": "#EBF0F8",
            "ticks": ""
           }
          },
          "scene": {
           "xaxis": {
            "backgroundcolor": "white",
            "gridcolor": "#DFE8F3",
            "gridwidth": 2,
            "linecolor": "#EBF0F8",
            "showbackground": true,
            "ticks": "",
            "zerolinecolor": "#EBF0F8"
           },
           "yaxis": {
            "backgroundcolor": "white",
            "gridcolor": "#DFE8F3",
            "gridwidth": 2,
            "linecolor": "#EBF0F8",
            "showbackground": true,
            "ticks": "",
            "zerolinecolor": "#EBF0F8"
           },
           "zaxis": {
            "backgroundcolor": "white",
            "gridcolor": "#DFE8F3",
            "gridwidth": 2,
            "linecolor": "#EBF0F8",
            "showbackground": true,
            "ticks": "",
            "zerolinecolor": "#EBF0F8"
           }
          },
          "shapedefaults": {
           "line": {
            "color": "#2a3f5f"
           }
          },
          "ternary": {
           "aaxis": {
            "gridcolor": "#DFE8F3",
            "linecolor": "#A2B1C6",
            "ticks": ""
           },
           "baxis": {
            "gridcolor": "#DFE8F3",
            "linecolor": "#A2B1C6",
            "ticks": ""
           },
           "bgcolor": "white",
           "caxis": {
            "gridcolor": "#DFE8F3",
            "linecolor": "#A2B1C6",
            "ticks": ""
           }
          },
          "title": {
           "x": 0.05
          },
          "xaxis": {
           "automargin": true,
           "gridcolor": "#EBF0F8",
           "linecolor": "#EBF0F8",
           "ticks": "",
           "title": {
            "standoff": 15
           },
           "zerolinecolor": "#EBF0F8",
           "zerolinewidth": 2
          },
          "yaxis": {
           "automargin": true,
           "gridcolor": "#EBF0F8",
           "linecolor": "#EBF0F8",
           "ticks": "",
           "title": {
            "standoff": 15
           },
           "zerolinecolor": "#EBF0F8",
           "zerolinewidth": 2
          }
         }
        },
        "title": {
         "font": {
          "size": 20
         },
         "text": "Distribución de la Esperanza de Vida por Nivel de Pobreza"
        },
        "xaxis": {
         "anchor": "y",
         "domain": [
          0,
          1
         ],
         "gridcolor": "lightgray",
         "showgrid": true,
         "title": {
          "text": "Tasa de Pobreza Nacional (%)"
         }
        },
        "yaxis": {
         "anchor": "x",
         "domain": [
          0,
          1
         ],
         "gridcolor": "lightgray",
         "showgrid": true,
         "title": {
          "text": "Esperanza de Vida al Nacimiento (años)"
         }
        }
       }
      }
     },
     "metadata": {},
     "output_type": "display_data"
    }
   ],
   "source": [
    "fig = px.scatter(df_pivot, \n",
    "                 x='National Poverty Rate', \n",
    "                 y='Life expectancy at birth, total (years)', \n",
    "                 color='Year',  \n",
    "                 size='National Poverty Rate',  \n",
    "                 hover_data=['Year'], \n",
    "                 trendline=\"ols\",  \n",
    "                 title='Distribución de la Esperanza de Vida por Nivel de Pobreza',\n",
    "                 labels={'National Poverty Rate': 'Tasa de Pobreza Nacional (%)',\n",
    "                         'Life expectancy at birth, total (years)': 'Esperanza de Vida al Nacimiento (años)'},\n",
    "                 template='plotly_white')  \n",
    "\n",
    "fig.update_layout(\n",
    "    xaxis_title=\"Tasa de Pobreza Nacional (%)\",\n",
    "    yaxis_title=\"Esperanza de Vida al Nacimiento (años)\",\n",
    "    xaxis=dict(showgrid=True, gridcolor='lightgray'),\n",
    "    yaxis=dict(showgrid=True, gridcolor='lightgray'),\n",
    "    showlegend=True,\n",
    "    legend_title_text='Año',\n",
    "    hovermode=\"x unified\", \n",
    "    font=dict(size=12, family=\"Arial\"),\n",
    "    title_font_size=20\n",
    ")\n",
    "\n",
    "\n",
    "fig.add_annotation(\n",
    "    x=53,\n",
    "    y=74.7,\n",
    "    xref=\"x\",\n",
    "    yref=\"y\",\n",
    "    text=\"Tendencia negativa clara\",\n",
    "    showarrow=True,\n",
    "    arrowhead=2,\n",
    "    ax=20,\n",
    "    ay=-30\n",
    ")\n",
    "\n",
    "fig.show()"
   ]
  },
  {
   "cell_type": "markdown",
   "metadata": {},
   "source": [
    "El pico más alto de pobreza fue en periodo 2001-2002 donde podemos entender que, mientras mayor sea la pobreza, menor tiende a ser la esperanza de vida de la población. Debido a factores como menor acceso a atención médica, nutrición inadecuada y condiciones de vida más precarias. "
   ]
  },
  {
   "cell_type": "code",
   "execution_count": 113,
   "metadata": {},
   "outputs": [
    {
     "data": {
      "application/vnd.plotly.v1+json": {
       "config": {
        "plotlyServerURL": "https://plot.ly"
       },
       "data": [
        {
         "customdata": [
          [
           1999
          ],
          [
           2000
          ],
          [
           2001
          ],
          [
           2002
          ],
          [
           2003
          ],
          [
           2004
          ],
          [
           2005
          ],
          [
           2006
          ],
          [
           2007
          ],
          [
           2008
          ],
          [
           2009
          ],
          [
           2010
          ],
          [
           2011
          ],
          [
           2012
          ],
          [
           2013
          ],
          [
           2014
          ],
          [
           2015
          ],
          [
           2016
          ],
          [
           2017
          ],
          [
           2018
          ],
          [
           2019
          ],
          [
           2020
          ],
          [
           2021
          ],
          [
           2022
          ],
          [
           2023
          ]
         ],
         "hovertemplate": "PIB Total (US$ corriente)=%{x}<br>Tasa de Pobreza Nacional (%)=%{marker.size}<br>Year=%{marker.color}<extra></extra>",
         "legendgroup": "",
         "marker": {
          "color": [
           1999,
           2000,
           2001,
           2002,
           2003,
           2004,
           2005,
           2006,
           2007,
           2008,
           2009,
           2010,
           2011,
           2012,
           2013,
           2014,
           2015,
           2016,
           2017,
           2018,
           2019,
           2020,
           2021,
           2022,
           2023
          ],
          "coloraxis": "coloraxis",
          "size": [
           36,
           36.5,
           39,
           53,
           48.5,
           43.5,
           39.5,
           26.5,
           23.5,
           21.5,
           24.5,
           21.5,
           19.5,
           20,
           29.8,
           28.5,
           32.2,
           30.3,
           25.7,
           32,
           35.5,
           42,
           37.3,
           39.2,
           41
          ],
          "sizemode": "area",
          "sizeref": 0.1325,
          "symbol": "circle"
         },
         "mode": "markers",
         "name": "",
         "orientation": "v",
         "showlegend": false,
         "type": "scatter",
         "x": [
          283523000000,
          284203750000,
          268696750000,
          97724004251.8602,
          127586973492.177,
          164657930452.787,
          198737095012.282,
          232557260817.308,
          287530508430.568,
          361558037110.419,
          332976484577.619,
          423627422092.49,
          530158122010.442,
          545982375701.128,
          552025140252.246,
          526319673731.638,
          594749285413.212,
          557532320662.955,
          643628393281.364,
          524819892360.176,
          447754683615.225,
          385740508436.965,
          486564085480.036,
          632790070063.124,
          646075277525.125
         ],
         "xaxis": "x",
         "y": [
          36,
          36.5,
          39,
          53,
          48.5,
          43.5,
          39.5,
          26.5,
          23.5,
          21.5,
          24.5,
          21.5,
          19.5,
          20,
          29.8,
          28.5,
          32.2,
          30.3,
          25.7,
          32,
          35.5,
          42,
          37.3,
          39.2,
          41
         ],
         "yaxis": "y"
        },
        {
         "hovertemplate": "<b>OLS trendline</b><br>National Poverty Rate = -2.32996e-11 * GDP (current US$) + 42.508<br>R<sup>2</sup>=0.190531<br><br>PIB Total (US$ corriente)=%{x}<br>Tasa de Pobreza Nacional (%)=%{y} <b>(trend)</b><extra></extra>",
         "legendgroup": "",
         "marker": {
          "symbol": "circle"
         },
         "mode": "lines",
         "name": "",
         "showlegend": false,
         "type": "scatter",
         "x": [
          97724004251.8602,
          127586973492.177,
          164657930452.787,
          198737095012.282,
          232557260817.308,
          268696750000,
          283523000000,
          284203750000,
          287530508430.568,
          332976484577.619,
          361558037110.419,
          385740508436.965,
          423627422092.49,
          447754683615.225,
          486564085480.036,
          524819892360.176,
          526319673731.638,
          530158122010.442,
          545982375701.128,
          552025140252.246,
          557532320662.955,
          594749285413.212,
          632790070063.124,
          643628393281.364,
          646075277525.125
         ],
         "xaxis": "x",
         "y": [
          40.23106378999854,
          39.53526967255629,
          38.67153259492088,
          37.87750297124132,
          37.08950790522193,
          36.247473619269655,
          35.90202848115523,
          35.88616730400177,
          35.80865528811637,
          34.74978392773441,
          34.08384625892282,
          33.52040525749988,
          32.637656745876086,
          32.07550210872616,
          31.171260025439558,
          30.279916463083005,
          30.244972213322875,
          30.155538047851735,
          29.786839860397944,
          29.646046090229902,
          29.517731196200835,
          28.650592200949013,
          27.76425856247873,
          27.51173037355343,
          27.45471904125187
         ],
         "yaxis": "y"
        }
       ],
       "layout": {
        "annotations": [
         {
          "arrowhead": 2,
          "ax": 20,
          "ay": -30,
          "showarrow": true,
          "text": "Pandemia",
          "x": 390000000000,
          "xref": "x",
          "y": 44,
          "yref": "y"
         },
         {
          "arrowhead": 2,
          "ax": 20,
          "ay": -30,
          "showarrow": true,
          "text": "Crisis del 2001",
          "x": 100000000000,
          "xref": "x",
          "y": 55,
          "yref": "y"
         }
        ],
        "coloraxis": {
         "colorbar": {
          "title": {
           "text": "Year"
          }
         },
         "colorscale": [
          [
           0,
           "#0d0887"
          ],
          [
           0.1111111111111111,
           "#46039f"
          ],
          [
           0.2222222222222222,
           "#7201a8"
          ],
          [
           0.3333333333333333,
           "#9c179e"
          ],
          [
           0.4444444444444444,
           "#bd3786"
          ],
          [
           0.5555555555555556,
           "#d8576b"
          ],
          [
           0.6666666666666666,
           "#ed7953"
          ],
          [
           0.7777777777777778,
           "#fb9f3a"
          ],
          [
           0.8888888888888888,
           "#fdca26"
          ],
          [
           1,
           "#f0f921"
          ]
         ]
        },
        "font": {
         "family": "Arial",
         "size": 12
        },
        "hovermode": "x unified",
        "legend": {
         "itemsizing": "constant",
         "title": {
          "text": "Año"
         },
         "tracegroupgap": 0
        },
        "margin": {
         "b": 50,
         "l": 50,
         "r": 50,
         "t": 80
        },
        "showlegend": true,
        "template": {
         "data": {
          "bar": [
           {
            "error_x": {
             "color": "#2a3f5f"
            },
            "error_y": {
             "color": "#2a3f5f"
            },
            "marker": {
             "line": {
              "color": "white",
              "width": 0.5
             },
             "pattern": {
              "fillmode": "overlay",
              "size": 10,
              "solidity": 0.2
             }
            },
            "type": "bar"
           }
          ],
          "barpolar": [
           {
            "marker": {
             "line": {
              "color": "white",
              "width": 0.5
             },
             "pattern": {
              "fillmode": "overlay",
              "size": 10,
              "solidity": 0.2
             }
            },
            "type": "barpolar"
           }
          ],
          "carpet": [
           {
            "aaxis": {
             "endlinecolor": "#2a3f5f",
             "gridcolor": "#C8D4E3",
             "linecolor": "#C8D4E3",
             "minorgridcolor": "#C8D4E3",
             "startlinecolor": "#2a3f5f"
            },
            "baxis": {
             "endlinecolor": "#2a3f5f",
             "gridcolor": "#C8D4E3",
             "linecolor": "#C8D4E3",
             "minorgridcolor": "#C8D4E3",
             "startlinecolor": "#2a3f5f"
            },
            "type": "carpet"
           }
          ],
          "choropleth": [
           {
            "colorbar": {
             "outlinewidth": 0,
             "ticks": ""
            },
            "type": "choropleth"
           }
          ],
          "contour": [
           {
            "colorbar": {
             "outlinewidth": 0,
             "ticks": ""
            },
            "colorscale": [
             [
              0,
              "#0d0887"
             ],
             [
              0.1111111111111111,
              "#46039f"
             ],
             [
              0.2222222222222222,
              "#7201a8"
             ],
             [
              0.3333333333333333,
              "#9c179e"
             ],
             [
              0.4444444444444444,
              "#bd3786"
             ],
             [
              0.5555555555555556,
              "#d8576b"
             ],
             [
              0.6666666666666666,
              "#ed7953"
             ],
             [
              0.7777777777777778,
              "#fb9f3a"
             ],
             [
              0.8888888888888888,
              "#fdca26"
             ],
             [
              1,
              "#f0f921"
             ]
            ],
            "type": "contour"
           }
          ],
          "contourcarpet": [
           {
            "colorbar": {
             "outlinewidth": 0,
             "ticks": ""
            },
            "type": "contourcarpet"
           }
          ],
          "heatmap": [
           {
            "colorbar": {
             "outlinewidth": 0,
             "ticks": ""
            },
            "colorscale": [
             [
              0,
              "#0d0887"
             ],
             [
              0.1111111111111111,
              "#46039f"
             ],
             [
              0.2222222222222222,
              "#7201a8"
             ],
             [
              0.3333333333333333,
              "#9c179e"
             ],
             [
              0.4444444444444444,
              "#bd3786"
             ],
             [
              0.5555555555555556,
              "#d8576b"
             ],
             [
              0.6666666666666666,
              "#ed7953"
             ],
             [
              0.7777777777777778,
              "#fb9f3a"
             ],
             [
              0.8888888888888888,
              "#fdca26"
             ],
             [
              1,
              "#f0f921"
             ]
            ],
            "type": "heatmap"
           }
          ],
          "heatmapgl": [
           {
            "colorbar": {
             "outlinewidth": 0,
             "ticks": ""
            },
            "colorscale": [
             [
              0,
              "#0d0887"
             ],
             [
              0.1111111111111111,
              "#46039f"
             ],
             [
              0.2222222222222222,
              "#7201a8"
             ],
             [
              0.3333333333333333,
              "#9c179e"
             ],
             [
              0.4444444444444444,
              "#bd3786"
             ],
             [
              0.5555555555555556,
              "#d8576b"
             ],
             [
              0.6666666666666666,
              "#ed7953"
             ],
             [
              0.7777777777777778,
              "#fb9f3a"
             ],
             [
              0.8888888888888888,
              "#fdca26"
             ],
             [
              1,
              "#f0f921"
             ]
            ],
            "type": "heatmapgl"
           }
          ],
          "histogram": [
           {
            "marker": {
             "pattern": {
              "fillmode": "overlay",
              "size": 10,
              "solidity": 0.2
             }
            },
            "type": "histogram"
           }
          ],
          "histogram2d": [
           {
            "colorbar": {
             "outlinewidth": 0,
             "ticks": ""
            },
            "colorscale": [
             [
              0,
              "#0d0887"
             ],
             [
              0.1111111111111111,
              "#46039f"
             ],
             [
              0.2222222222222222,
              "#7201a8"
             ],
             [
              0.3333333333333333,
              "#9c179e"
             ],
             [
              0.4444444444444444,
              "#bd3786"
             ],
             [
              0.5555555555555556,
              "#d8576b"
             ],
             [
              0.6666666666666666,
              "#ed7953"
             ],
             [
              0.7777777777777778,
              "#fb9f3a"
             ],
             [
              0.8888888888888888,
              "#fdca26"
             ],
             [
              1,
              "#f0f921"
             ]
            ],
            "type": "histogram2d"
           }
          ],
          "histogram2dcontour": [
           {
            "colorbar": {
             "outlinewidth": 0,
             "ticks": ""
            },
            "colorscale": [
             [
              0,
              "#0d0887"
             ],
             [
              0.1111111111111111,
              "#46039f"
             ],
             [
              0.2222222222222222,
              "#7201a8"
             ],
             [
              0.3333333333333333,
              "#9c179e"
             ],
             [
              0.4444444444444444,
              "#bd3786"
             ],
             [
              0.5555555555555556,
              "#d8576b"
             ],
             [
              0.6666666666666666,
              "#ed7953"
             ],
             [
              0.7777777777777778,
              "#fb9f3a"
             ],
             [
              0.8888888888888888,
              "#fdca26"
             ],
             [
              1,
              "#f0f921"
             ]
            ],
            "type": "histogram2dcontour"
           }
          ],
          "mesh3d": [
           {
            "colorbar": {
             "outlinewidth": 0,
             "ticks": ""
            },
            "type": "mesh3d"
           }
          ],
          "parcoords": [
           {
            "line": {
             "colorbar": {
              "outlinewidth": 0,
              "ticks": ""
             }
            },
            "type": "parcoords"
           }
          ],
          "pie": [
           {
            "automargin": true,
            "type": "pie"
           }
          ],
          "scatter": [
           {
            "fillpattern": {
             "fillmode": "overlay",
             "size": 10,
             "solidity": 0.2
            },
            "type": "scatter"
           }
          ],
          "scatter3d": [
           {
            "line": {
             "colorbar": {
              "outlinewidth": 0,
              "ticks": ""
             }
            },
            "marker": {
             "colorbar": {
              "outlinewidth": 0,
              "ticks": ""
             }
            },
            "type": "scatter3d"
           }
          ],
          "scattercarpet": [
           {
            "marker": {
             "colorbar": {
              "outlinewidth": 0,
              "ticks": ""
             }
            },
            "type": "scattercarpet"
           }
          ],
          "scattergeo": [
           {
            "marker": {
             "colorbar": {
              "outlinewidth": 0,
              "ticks": ""
             }
            },
            "type": "scattergeo"
           }
          ],
          "scattergl": [
           {
            "marker": {
             "colorbar": {
              "outlinewidth": 0,
              "ticks": ""
             }
            },
            "type": "scattergl"
           }
          ],
          "scattermapbox": [
           {
            "marker": {
             "colorbar": {
              "outlinewidth": 0,
              "ticks": ""
             }
            },
            "type": "scattermapbox"
           }
          ],
          "scatterpolar": [
           {
            "marker": {
             "colorbar": {
              "outlinewidth": 0,
              "ticks": ""
             }
            },
            "type": "scatterpolar"
           }
          ],
          "scatterpolargl": [
           {
            "marker": {
             "colorbar": {
              "outlinewidth": 0,
              "ticks": ""
             }
            },
            "type": "scatterpolargl"
           }
          ],
          "scatterternary": [
           {
            "marker": {
             "colorbar": {
              "outlinewidth": 0,
              "ticks": ""
             }
            },
            "type": "scatterternary"
           }
          ],
          "surface": [
           {
            "colorbar": {
             "outlinewidth": 0,
             "ticks": ""
            },
            "colorscale": [
             [
              0,
              "#0d0887"
             ],
             [
              0.1111111111111111,
              "#46039f"
             ],
             [
              0.2222222222222222,
              "#7201a8"
             ],
             [
              0.3333333333333333,
              "#9c179e"
             ],
             [
              0.4444444444444444,
              "#bd3786"
             ],
             [
              0.5555555555555556,
              "#d8576b"
             ],
             [
              0.6666666666666666,
              "#ed7953"
             ],
             [
              0.7777777777777778,
              "#fb9f3a"
             ],
             [
              0.8888888888888888,
              "#fdca26"
             ],
             [
              1,
              "#f0f921"
             ]
            ],
            "type": "surface"
           }
          ],
          "table": [
           {
            "cells": {
             "fill": {
              "color": "#EBF0F8"
             },
             "line": {
              "color": "white"
             }
            },
            "header": {
             "fill": {
              "color": "#C8D4E3"
             },
             "line": {
              "color": "white"
             }
            },
            "type": "table"
           }
          ]
         },
         "layout": {
          "annotationdefaults": {
           "arrowcolor": "#2a3f5f",
           "arrowhead": 0,
           "arrowwidth": 1
          },
          "autotypenumbers": "strict",
          "coloraxis": {
           "colorbar": {
            "outlinewidth": 0,
            "ticks": ""
           }
          },
          "colorscale": {
           "diverging": [
            [
             0,
             "#8e0152"
            ],
            [
             0.1,
             "#c51b7d"
            ],
            [
             0.2,
             "#de77ae"
            ],
            [
             0.3,
             "#f1b6da"
            ],
            [
             0.4,
             "#fde0ef"
            ],
            [
             0.5,
             "#f7f7f7"
            ],
            [
             0.6,
             "#e6f5d0"
            ],
            [
             0.7,
             "#b8e186"
            ],
            [
             0.8,
             "#7fbc41"
            ],
            [
             0.9,
             "#4d9221"
            ],
            [
             1,
             "#276419"
            ]
           ],
           "sequential": [
            [
             0,
             "#0d0887"
            ],
            [
             0.1111111111111111,
             "#46039f"
            ],
            [
             0.2222222222222222,
             "#7201a8"
            ],
            [
             0.3333333333333333,
             "#9c179e"
            ],
            [
             0.4444444444444444,
             "#bd3786"
            ],
            [
             0.5555555555555556,
             "#d8576b"
            ],
            [
             0.6666666666666666,
             "#ed7953"
            ],
            [
             0.7777777777777778,
             "#fb9f3a"
            ],
            [
             0.8888888888888888,
             "#fdca26"
            ],
            [
             1,
             "#f0f921"
            ]
           ],
           "sequentialminus": [
            [
             0,
             "#0d0887"
            ],
            [
             0.1111111111111111,
             "#46039f"
            ],
            [
             0.2222222222222222,
             "#7201a8"
            ],
            [
             0.3333333333333333,
             "#9c179e"
            ],
            [
             0.4444444444444444,
             "#bd3786"
            ],
            [
             0.5555555555555556,
             "#d8576b"
            ],
            [
             0.6666666666666666,
             "#ed7953"
            ],
            [
             0.7777777777777778,
             "#fb9f3a"
            ],
            [
             0.8888888888888888,
             "#fdca26"
            ],
            [
             1,
             "#f0f921"
            ]
           ]
          },
          "colorway": [
           "#636efa",
           "#EF553B",
           "#00cc96",
           "#ab63fa",
           "#FFA15A",
           "#19d3f3",
           "#FF6692",
           "#B6E880",
           "#FF97FF",
           "#FECB52"
          ],
          "font": {
           "color": "#2a3f5f"
          },
          "geo": {
           "bgcolor": "white",
           "lakecolor": "white",
           "landcolor": "white",
           "showlakes": true,
           "showland": true,
           "subunitcolor": "#C8D4E3"
          },
          "hoverlabel": {
           "align": "left"
          },
          "hovermode": "closest",
          "mapbox": {
           "style": "light"
          },
          "paper_bgcolor": "white",
          "plot_bgcolor": "white",
          "polar": {
           "angularaxis": {
            "gridcolor": "#EBF0F8",
            "linecolor": "#EBF0F8",
            "ticks": ""
           },
           "bgcolor": "white",
           "radialaxis": {
            "gridcolor": "#EBF0F8",
            "linecolor": "#EBF0F8",
            "ticks": ""
           }
          },
          "scene": {
           "xaxis": {
            "backgroundcolor": "white",
            "gridcolor": "#DFE8F3",
            "gridwidth": 2,
            "linecolor": "#EBF0F8",
            "showbackground": true,
            "ticks": "",
            "zerolinecolor": "#EBF0F8"
           },
           "yaxis": {
            "backgroundcolor": "white",
            "gridcolor": "#DFE8F3",
            "gridwidth": 2,
            "linecolor": "#EBF0F8",
            "showbackground": true,
            "ticks": "",
            "zerolinecolor": "#EBF0F8"
           },
           "zaxis": {
            "backgroundcolor": "white",
            "gridcolor": "#DFE8F3",
            "gridwidth": 2,
            "linecolor": "#EBF0F8",
            "showbackground": true,
            "ticks": "",
            "zerolinecolor": "#EBF0F8"
           }
          },
          "shapedefaults": {
           "line": {
            "color": "#2a3f5f"
           }
          },
          "ternary": {
           "aaxis": {
            "gridcolor": "#DFE8F3",
            "linecolor": "#A2B1C6",
            "ticks": ""
           },
           "baxis": {
            "gridcolor": "#DFE8F3",
            "linecolor": "#A2B1C6",
            "ticks": ""
           },
           "bgcolor": "white",
           "caxis": {
            "gridcolor": "#DFE8F3",
            "linecolor": "#A2B1C6",
            "ticks": ""
           }
          },
          "title": {
           "x": 0.05
          },
          "xaxis": {
           "automargin": true,
           "gridcolor": "#EBF0F8",
           "linecolor": "#EBF0F8",
           "ticks": "",
           "title": {
            "standoff": 15
           },
           "zerolinecolor": "#EBF0F8",
           "zerolinewidth": 2
          },
          "yaxis": {
           "automargin": true,
           "gridcolor": "#EBF0F8",
           "linecolor": "#EBF0F8",
           "ticks": "",
           "title": {
            "standoff": 15
           },
           "zerolinecolor": "#EBF0F8",
           "zerolinewidth": 2
          }
         }
        },
        "title": {
         "font": {
          "size": 20
         },
         "text": "Relación entre PIB Total y Tasa de Pobreza"
        },
        "xaxis": {
         "anchor": "y",
         "domain": [
          0,
          1
         ],
         "gridcolor": "lightgray",
         "showgrid": true,
         "tickformat": "$,.0f",
         "title": {
          "text": "PIB Total (US$ corriente)"
         }
        },
        "yaxis": {
         "anchor": "x",
         "domain": [
          0,
          1
         ],
         "gridcolor": "lightgray",
         "showgrid": true,
         "title": {
          "text": "Tasa de Pobreza Nacional (%)"
         }
        }
       }
      }
     },
     "metadata": {},
     "output_type": "display_data"
    },
    {
     "data": {
      "application/vnd.plotly.v1+json": {
       "config": {
        "plotlyServerURL": "https://plot.ly"
       },
       "data": [
        {
         "customdata": [
          [
           1999
          ],
          [
           2000
          ],
          [
           2001
          ],
          [
           2002
          ],
          [
           2003
          ],
          [
           2004
          ],
          [
           2005
          ],
          [
           2006
          ],
          [
           2007
          ],
          [
           2008
          ],
          [
           2009
          ],
          [
           2010
          ],
          [
           2011
          ],
          [
           2012
          ],
          [
           2013
          ],
          [
           2014
          ],
          [
           2015
          ],
          [
           2016
          ],
          [
           2017
          ],
          [
           2018
          ],
          [
           2019
          ],
          [
           2020
          ],
          [
           2021
          ],
          [
           2022
          ],
          [
           2023
          ]
         ],
         "hovertemplate": "PIB per cápita (US$ corriente)=%{x}<br>Tasa de Pobreza Nacional (%)=%{marker.size}<br>Year=%{marker.color}<extra></extra>",
         "legendgroup": "",
         "marker": {
          "color": [
           1999,
           2000,
           2001,
           2002,
           2003,
           2004,
           2005,
           2006,
           2007,
           2008,
           2009,
           2010,
           2011,
           2012,
           2013,
           2014,
           2015,
           2016,
           2017,
           2018,
           2019,
           2020,
           2021,
           2022,
           2023
          ],
          "coloraxis": "coloraxis",
          "size": [
           36,
           36.5,
           39,
           53,
           48.5,
           43.5,
           39.5,
           26.5,
           23.5,
           21.5,
           24.5,
           21.5,
           19.5,
           20,
           29.8,
           28.5,
           32.2,
           30.3,
           25.7,
           32,
           35.5,
           42,
           37.3,
           39.2,
           41
          ],
          "sizemode": "area",
          "sizeref": 0.1325,
          "symbol": "circle"
         },
         "mode": "markers",
         "name": "",
         "orientation": "v",
         "showlegend": false,
         "type": "scatter",
         "x": [
          7705.54288252851,
          7637.01489203628,
          7141.47507662826,
          2569.69963519124,
          3320.47775133903,
          4242.02099089422,
          5067.65342293276,
          5869.38028970204,
          7185.25155147027,
          8944.1102657357,
          8150.23527028221,
          10260.1313108254,
          12704.2831819684,
          12949.717486654,
          12963.675773326,
          12233.1444119186,
          13679.6264980954,
          12699.9623137756,
          14532.5009308511,
          11752.7998922979,
          9955.97478680428,
          8535.59938004389,
          10738.0179223384,
          13935.6811110049,
          14187.4827252965
         ],
         "xaxis": "x",
         "y": [
          36,
          36.5,
          39,
          53,
          48.5,
          43.5,
          39.5,
          26.5,
          23.5,
          21.5,
          24.5,
          21.5,
          19.5,
          20,
          29.8,
          28.5,
          32.2,
          30.3,
          25.7,
          32,
          35.5,
          42,
          37.3,
          39.2,
          41
         ],
         "yaxis": "y"
        },
        {
         "hovertemplate": "<b>OLS trendline</b><br>National Poverty Rate = -0.0012525 * GDP per capita (current US$) + 45.032<br>R<sup>2</sup>=0.247484<br><br>PIB per cápita (US$ corriente)=%{x}<br>Tasa de Pobreza Nacional (%)=%{y} <b>(trend)</b><extra></extra>",
         "legendgroup": "",
         "marker": {
          "symbol": "circle"
         },
         "mode": "lines",
         "name": "",
         "showlegend": false,
         "type": "scatter",
         "x": [
          2569.69963519124,
          3320.47775133903,
          4242.02099089422,
          5067.65342293276,
          5869.38028970204,
          7141.47507662826,
          7185.25155147027,
          7637.01489203628,
          7705.54288252851,
          8150.23527028221,
          8535.59938004389,
          8944.1102657357,
          9955.97478680428,
          10260.1313108254,
          10738.0179223384,
          11752.7998922979,
          12233.1444119186,
          12699.9623137756,
          12704.2831819684,
          12949.717486654,
          12963.675773326,
          13679.6264980954,
          13935.6811110049,
          14187.4827252965,
          14532.5009308511
         ],
         "xaxis": "x",
         "y": [
          41.81344137966421,
          40.8730895290349,
          39.71885384726382,
          38.684746740638744,
          37.68058142647911,
          36.08727887631994,
          36.03244870979494,
          35.466613765740576,
          35.38078225135132,
          34.82380369698088,
          34.34113398939822,
          33.82947287528167,
          32.56210951651046,
          32.181152554536446,
          31.582598134979072,
          30.311580662689263,
          29.70994770582767,
          29.125256878435852,
          29.119844978016765,
          28.81243777253877,
          28.79495497646185,
          27.898224538378898,
          27.57751536487893,
          27.26213308495118,
          26.829996743845832
         ],
         "yaxis": "y"
        }
       ],
       "layout": {
        "annotations": [
         {
          "arrowhead": 2,
          "ax": 20,
          "ay": -30,
          "showarrow": true,
          "text": "Crisis del 2001",
          "x": 2600,
          "xref": "x",
          "y": 55,
          "yref": "y"
         },
         {
          "arrowhead": 2,
          "ax": 20,
          "ay": -30,
          "showarrow": true,
          "text": "Pandemia",
          "x": 8600,
          "xref": "x",
          "y": 45,
          "yref": "y"
         }
        ],
        "coloraxis": {
         "colorbar": {
          "title": {
           "text": "Year"
          }
         },
         "colorscale": [
          [
           0,
           "#0d0887"
          ],
          [
           0.1111111111111111,
           "#46039f"
          ],
          [
           0.2222222222222222,
           "#7201a8"
          ],
          [
           0.3333333333333333,
           "#9c179e"
          ],
          [
           0.4444444444444444,
           "#bd3786"
          ],
          [
           0.5555555555555556,
           "#d8576b"
          ],
          [
           0.6666666666666666,
           "#ed7953"
          ],
          [
           0.7777777777777778,
           "#fb9f3a"
          ],
          [
           0.8888888888888888,
           "#fdca26"
          ],
          [
           1,
           "#f0f921"
          ]
         ]
        },
        "font": {
         "family": "Arial",
         "size": 12
        },
        "hovermode": "x unified",
        "legend": {
         "itemsizing": "constant",
         "title": {
          "text": "Año"
         },
         "tracegroupgap": 0
        },
        "margin": {
         "b": 50,
         "l": 50,
         "r": 50,
         "t": 80
        },
        "showlegend": true,
        "template": {
         "data": {
          "bar": [
           {
            "error_x": {
             "color": "#2a3f5f"
            },
            "error_y": {
             "color": "#2a3f5f"
            },
            "marker": {
             "line": {
              "color": "white",
              "width": 0.5
             },
             "pattern": {
              "fillmode": "overlay",
              "size": 10,
              "solidity": 0.2
             }
            },
            "type": "bar"
           }
          ],
          "barpolar": [
           {
            "marker": {
             "line": {
              "color": "white",
              "width": 0.5
             },
             "pattern": {
              "fillmode": "overlay",
              "size": 10,
              "solidity": 0.2
             }
            },
            "type": "barpolar"
           }
          ],
          "carpet": [
           {
            "aaxis": {
             "endlinecolor": "#2a3f5f",
             "gridcolor": "#C8D4E3",
             "linecolor": "#C8D4E3",
             "minorgridcolor": "#C8D4E3",
             "startlinecolor": "#2a3f5f"
            },
            "baxis": {
             "endlinecolor": "#2a3f5f",
             "gridcolor": "#C8D4E3",
             "linecolor": "#C8D4E3",
             "minorgridcolor": "#C8D4E3",
             "startlinecolor": "#2a3f5f"
            },
            "type": "carpet"
           }
          ],
          "choropleth": [
           {
            "colorbar": {
             "outlinewidth": 0,
             "ticks": ""
            },
            "type": "choropleth"
           }
          ],
          "contour": [
           {
            "colorbar": {
             "outlinewidth": 0,
             "ticks": ""
            },
            "colorscale": [
             [
              0,
              "#0d0887"
             ],
             [
              0.1111111111111111,
              "#46039f"
             ],
             [
              0.2222222222222222,
              "#7201a8"
             ],
             [
              0.3333333333333333,
              "#9c179e"
             ],
             [
              0.4444444444444444,
              "#bd3786"
             ],
             [
              0.5555555555555556,
              "#d8576b"
             ],
             [
              0.6666666666666666,
              "#ed7953"
             ],
             [
              0.7777777777777778,
              "#fb9f3a"
             ],
             [
              0.8888888888888888,
              "#fdca26"
             ],
             [
              1,
              "#f0f921"
             ]
            ],
            "type": "contour"
           }
          ],
          "contourcarpet": [
           {
            "colorbar": {
             "outlinewidth": 0,
             "ticks": ""
            },
            "type": "contourcarpet"
           }
          ],
          "heatmap": [
           {
            "colorbar": {
             "outlinewidth": 0,
             "ticks": ""
            },
            "colorscale": [
             [
              0,
              "#0d0887"
             ],
             [
              0.1111111111111111,
              "#46039f"
             ],
             [
              0.2222222222222222,
              "#7201a8"
             ],
             [
              0.3333333333333333,
              "#9c179e"
             ],
             [
              0.4444444444444444,
              "#bd3786"
             ],
             [
              0.5555555555555556,
              "#d8576b"
             ],
             [
              0.6666666666666666,
              "#ed7953"
             ],
             [
              0.7777777777777778,
              "#fb9f3a"
             ],
             [
              0.8888888888888888,
              "#fdca26"
             ],
             [
              1,
              "#f0f921"
             ]
            ],
            "type": "heatmap"
           }
          ],
          "heatmapgl": [
           {
            "colorbar": {
             "outlinewidth": 0,
             "ticks": ""
            },
            "colorscale": [
             [
              0,
              "#0d0887"
             ],
             [
              0.1111111111111111,
              "#46039f"
             ],
             [
              0.2222222222222222,
              "#7201a8"
             ],
             [
              0.3333333333333333,
              "#9c179e"
             ],
             [
              0.4444444444444444,
              "#bd3786"
             ],
             [
              0.5555555555555556,
              "#d8576b"
             ],
             [
              0.6666666666666666,
              "#ed7953"
             ],
             [
              0.7777777777777778,
              "#fb9f3a"
             ],
             [
              0.8888888888888888,
              "#fdca26"
             ],
             [
              1,
              "#f0f921"
             ]
            ],
            "type": "heatmapgl"
           }
          ],
          "histogram": [
           {
            "marker": {
             "pattern": {
              "fillmode": "overlay",
              "size": 10,
              "solidity": 0.2
             }
            },
            "type": "histogram"
           }
          ],
          "histogram2d": [
           {
            "colorbar": {
             "outlinewidth": 0,
             "ticks": ""
            },
            "colorscale": [
             [
              0,
              "#0d0887"
             ],
             [
              0.1111111111111111,
              "#46039f"
             ],
             [
              0.2222222222222222,
              "#7201a8"
             ],
             [
              0.3333333333333333,
              "#9c179e"
             ],
             [
              0.4444444444444444,
              "#bd3786"
             ],
             [
              0.5555555555555556,
              "#d8576b"
             ],
             [
              0.6666666666666666,
              "#ed7953"
             ],
             [
              0.7777777777777778,
              "#fb9f3a"
             ],
             [
              0.8888888888888888,
              "#fdca26"
             ],
             [
              1,
              "#f0f921"
             ]
            ],
            "type": "histogram2d"
           }
          ],
          "histogram2dcontour": [
           {
            "colorbar": {
             "outlinewidth": 0,
             "ticks": ""
            },
            "colorscale": [
             [
              0,
              "#0d0887"
             ],
             [
              0.1111111111111111,
              "#46039f"
             ],
             [
              0.2222222222222222,
              "#7201a8"
             ],
             [
              0.3333333333333333,
              "#9c179e"
             ],
             [
              0.4444444444444444,
              "#bd3786"
             ],
             [
              0.5555555555555556,
              "#d8576b"
             ],
             [
              0.6666666666666666,
              "#ed7953"
             ],
             [
              0.7777777777777778,
              "#fb9f3a"
             ],
             [
              0.8888888888888888,
              "#fdca26"
             ],
             [
              1,
              "#f0f921"
             ]
            ],
            "type": "histogram2dcontour"
           }
          ],
          "mesh3d": [
           {
            "colorbar": {
             "outlinewidth": 0,
             "ticks": ""
            },
            "type": "mesh3d"
           }
          ],
          "parcoords": [
           {
            "line": {
             "colorbar": {
              "outlinewidth": 0,
              "ticks": ""
             }
            },
            "type": "parcoords"
           }
          ],
          "pie": [
           {
            "automargin": true,
            "type": "pie"
           }
          ],
          "scatter": [
           {
            "fillpattern": {
             "fillmode": "overlay",
             "size": 10,
             "solidity": 0.2
            },
            "type": "scatter"
           }
          ],
          "scatter3d": [
           {
            "line": {
             "colorbar": {
              "outlinewidth": 0,
              "ticks": ""
             }
            },
            "marker": {
             "colorbar": {
              "outlinewidth": 0,
              "ticks": ""
             }
            },
            "type": "scatter3d"
           }
          ],
          "scattercarpet": [
           {
            "marker": {
             "colorbar": {
              "outlinewidth": 0,
              "ticks": ""
             }
            },
            "type": "scattercarpet"
           }
          ],
          "scattergeo": [
           {
            "marker": {
             "colorbar": {
              "outlinewidth": 0,
              "ticks": ""
             }
            },
            "type": "scattergeo"
           }
          ],
          "scattergl": [
           {
            "marker": {
             "colorbar": {
              "outlinewidth": 0,
              "ticks": ""
             }
            },
            "type": "scattergl"
           }
          ],
          "scattermapbox": [
           {
            "marker": {
             "colorbar": {
              "outlinewidth": 0,
              "ticks": ""
             }
            },
            "type": "scattermapbox"
           }
          ],
          "scatterpolar": [
           {
            "marker": {
             "colorbar": {
              "outlinewidth": 0,
              "ticks": ""
             }
            },
            "type": "scatterpolar"
           }
          ],
          "scatterpolargl": [
           {
            "marker": {
             "colorbar": {
              "outlinewidth": 0,
              "ticks": ""
             }
            },
            "type": "scatterpolargl"
           }
          ],
          "scatterternary": [
           {
            "marker": {
             "colorbar": {
              "outlinewidth": 0,
              "ticks": ""
             }
            },
            "type": "scatterternary"
           }
          ],
          "surface": [
           {
            "colorbar": {
             "outlinewidth": 0,
             "ticks": ""
            },
            "colorscale": [
             [
              0,
              "#0d0887"
             ],
             [
              0.1111111111111111,
              "#46039f"
             ],
             [
              0.2222222222222222,
              "#7201a8"
             ],
             [
              0.3333333333333333,
              "#9c179e"
             ],
             [
              0.4444444444444444,
              "#bd3786"
             ],
             [
              0.5555555555555556,
              "#d8576b"
             ],
             [
              0.6666666666666666,
              "#ed7953"
             ],
             [
              0.7777777777777778,
              "#fb9f3a"
             ],
             [
              0.8888888888888888,
              "#fdca26"
             ],
             [
              1,
              "#f0f921"
             ]
            ],
            "type": "surface"
           }
          ],
          "table": [
           {
            "cells": {
             "fill": {
              "color": "#EBF0F8"
             },
             "line": {
              "color": "white"
             }
            },
            "header": {
             "fill": {
              "color": "#C8D4E3"
             },
             "line": {
              "color": "white"
             }
            },
            "type": "table"
           }
          ]
         },
         "layout": {
          "annotationdefaults": {
           "arrowcolor": "#2a3f5f",
           "arrowhead": 0,
           "arrowwidth": 1
          },
          "autotypenumbers": "strict",
          "coloraxis": {
           "colorbar": {
            "outlinewidth": 0,
            "ticks": ""
           }
          },
          "colorscale": {
           "diverging": [
            [
             0,
             "#8e0152"
            ],
            [
             0.1,
             "#c51b7d"
            ],
            [
             0.2,
             "#de77ae"
            ],
            [
             0.3,
             "#f1b6da"
            ],
            [
             0.4,
             "#fde0ef"
            ],
            [
             0.5,
             "#f7f7f7"
            ],
            [
             0.6,
             "#e6f5d0"
            ],
            [
             0.7,
             "#b8e186"
            ],
            [
             0.8,
             "#7fbc41"
            ],
            [
             0.9,
             "#4d9221"
            ],
            [
             1,
             "#276419"
            ]
           ],
           "sequential": [
            [
             0,
             "#0d0887"
            ],
            [
             0.1111111111111111,
             "#46039f"
            ],
            [
             0.2222222222222222,
             "#7201a8"
            ],
            [
             0.3333333333333333,
             "#9c179e"
            ],
            [
             0.4444444444444444,
             "#bd3786"
            ],
            [
             0.5555555555555556,
             "#d8576b"
            ],
            [
             0.6666666666666666,
             "#ed7953"
            ],
            [
             0.7777777777777778,
             "#fb9f3a"
            ],
            [
             0.8888888888888888,
             "#fdca26"
            ],
            [
             1,
             "#f0f921"
            ]
           ],
           "sequentialminus": [
            [
             0,
             "#0d0887"
            ],
            [
             0.1111111111111111,
             "#46039f"
            ],
            [
             0.2222222222222222,
             "#7201a8"
            ],
            [
             0.3333333333333333,
             "#9c179e"
            ],
            [
             0.4444444444444444,
             "#bd3786"
            ],
            [
             0.5555555555555556,
             "#d8576b"
            ],
            [
             0.6666666666666666,
             "#ed7953"
            ],
            [
             0.7777777777777778,
             "#fb9f3a"
            ],
            [
             0.8888888888888888,
             "#fdca26"
            ],
            [
             1,
             "#f0f921"
            ]
           ]
          },
          "colorway": [
           "#636efa",
           "#EF553B",
           "#00cc96",
           "#ab63fa",
           "#FFA15A",
           "#19d3f3",
           "#FF6692",
           "#B6E880",
           "#FF97FF",
           "#FECB52"
          ],
          "font": {
           "color": "#2a3f5f"
          },
          "geo": {
           "bgcolor": "white",
           "lakecolor": "white",
           "landcolor": "white",
           "showlakes": true,
           "showland": true,
           "subunitcolor": "#C8D4E3"
          },
          "hoverlabel": {
           "align": "left"
          },
          "hovermode": "closest",
          "mapbox": {
           "style": "light"
          },
          "paper_bgcolor": "white",
          "plot_bgcolor": "white",
          "polar": {
           "angularaxis": {
            "gridcolor": "#EBF0F8",
            "linecolor": "#EBF0F8",
            "ticks": ""
           },
           "bgcolor": "white",
           "radialaxis": {
            "gridcolor": "#EBF0F8",
            "linecolor": "#EBF0F8",
            "ticks": ""
           }
          },
          "scene": {
           "xaxis": {
            "backgroundcolor": "white",
            "gridcolor": "#DFE8F3",
            "gridwidth": 2,
            "linecolor": "#EBF0F8",
            "showbackground": true,
            "ticks": "",
            "zerolinecolor": "#EBF0F8"
           },
           "yaxis": {
            "backgroundcolor": "white",
            "gridcolor": "#DFE8F3",
            "gridwidth": 2,
            "linecolor": "#EBF0F8",
            "showbackground": true,
            "ticks": "",
            "zerolinecolor": "#EBF0F8"
           },
           "zaxis": {
            "backgroundcolor": "white",
            "gridcolor": "#DFE8F3",
            "gridwidth": 2,
            "linecolor": "#EBF0F8",
            "showbackground": true,
            "ticks": "",
            "zerolinecolor": "#EBF0F8"
           }
          },
          "shapedefaults": {
           "line": {
            "color": "#2a3f5f"
           }
          },
          "ternary": {
           "aaxis": {
            "gridcolor": "#DFE8F3",
            "linecolor": "#A2B1C6",
            "ticks": ""
           },
           "baxis": {
            "gridcolor": "#DFE8F3",
            "linecolor": "#A2B1C6",
            "ticks": ""
           },
           "bgcolor": "white",
           "caxis": {
            "gridcolor": "#DFE8F3",
            "linecolor": "#A2B1C6",
            "ticks": ""
           }
          },
          "title": {
           "x": 0.05
          },
          "xaxis": {
           "automargin": true,
           "gridcolor": "#EBF0F8",
           "linecolor": "#EBF0F8",
           "ticks": "",
           "title": {
            "standoff": 15
           },
           "zerolinecolor": "#EBF0F8",
           "zerolinewidth": 2
          },
          "yaxis": {
           "automargin": true,
           "gridcolor": "#EBF0F8",
           "linecolor": "#EBF0F8",
           "ticks": "",
           "title": {
            "standoff": 15
           },
           "zerolinecolor": "#EBF0F8",
           "zerolinewidth": 2
          }
         }
        },
        "title": {
         "font": {
          "size": 20
         },
         "text": "Relación entre PIB per cápita y Tasa de Pobreza"
        },
        "xaxis": {
         "anchor": "y",
         "domain": [
          0,
          1
         ],
         "gridcolor": "lightgray",
         "showgrid": true,
         "tickformat": "$,.0f",
         "title": {
          "text": "PIB per cápita (US$ corriente)"
         }
        },
        "yaxis": {
         "anchor": "x",
         "domain": [
          0,
          1
         ],
         "gridcolor": "lightgray",
         "showgrid": true,
         "title": {
          "text": "Tasa de Pobreza Nacional (%)"
         }
        }
       }
      }
     },
     "metadata": {},
     "output_type": "display_data"
    }
   ],
   "source": [
    "fig1 = px.scatter(\n",
    "    df_pivot,\n",
    "    x='GDP (current US$)',\n",
    "    y='National Poverty Rate',\n",
    "    color='Year', \n",
    "    size='National Poverty Rate',\n",
    "    hover_data=['Year'],\n",
    "    trendline=\"ols\",  \n",
    "    title='Relación entre PIB Total y Tasa de Pobreza',\n",
    "    labels={\n",
    "        'GDP (current US$)': 'PIB Total (US$ corriente)',\n",
    "        'National Poverty Rate': 'Tasa de Pobreza Nacional (%)'\n",
    "    },\n",
    "    template='plotly_white'\n",
    ")\n",
    "\n",
    "fig1.update_layout(\n",
    "    xaxis_title=\"PIB Total (US$ corriente)\",\n",
    "    yaxis_title=\"Tasa de Pobreza Nacional (%)\",\n",
    "    xaxis=dict(showgrid=True, gridcolor='lightgray', tickformat='$,.0f'), \n",
    "    yaxis=dict(showgrid=True, gridcolor='lightgray'),\n",
    "    showlegend=True,\n",
    "    legend_title_text='Año',\n",
    "    hovermode=\"x unified\",\n",
    "    font=dict(size=12, family=\"Arial\"),\n",
    "    title_font_size=20,\n",
    "    margin=dict(l=50, r=50, t=80, b=50)\n",
    ")\n",
    "\n",
    "\n",
    "fig2 = px.scatter(\n",
    "    df_pivot,\n",
    "    x='GDP per capita (current US$)',\n",
    "    y='National Poverty Rate',\n",
    "    color='Year',\n",
    "    size='National Poverty Rate',\n",
    "    hover_data=['Year'],\n",
    "    trendline=\"ols\",\n",
    "    title='Relación entre PIB per cápita y Tasa de Pobreza',\n",
    "    labels={\n",
    "        'GDP per capita (current US$)': 'PIB per cápita (US$ corriente)',\n",
    "        'National Poverty Rate': 'Tasa de Pobreza Nacional (%)'\n",
    "    },\n",
    "    template='plotly_white'\n",
    ")\n",
    "\n",
    "fig2.update_layout(\n",
    "    xaxis_title=\"PIB per cápita (US$ corriente)\",\n",
    "    yaxis_title=\"Tasa de Pobreza Nacional (%)\",\n",
    "    xaxis=dict(showgrid=True, gridcolor='lightgray', tickformat='$,.0f'),\n",
    "    yaxis=dict(showgrid=True, gridcolor='lightgray'),\n",
    "    showlegend=True,\n",
    "    legend_title_text='Año',\n",
    "    hovermode=\"x unified\",\n",
    "    font=dict(size=12, family=\"Arial\"),\n",
    "    title_font_size=20,\n",
    "    margin=dict(l=50, r=50, t=80, b=50)\n",
    ")\n",
    "\n",
    "\n",
    "fig1.add_annotation(\n",
    "    x=390000000000,\n",
    "    y=44,\n",
    "    xref=\"x\",\n",
    "    yref=\"y\",\n",
    "    text=\"Pandemia\",\n",
    "    showarrow=True,\n",
    "    arrowhead=2,\n",
    "    ax=20,\n",
    "    ay=-30\n",
    ")\n",
    "\n",
    "fig1.add_annotation(\n",
    "    x=100000000000,\n",
    "    y=55,\n",
    "    xref=\"x\",\n",
    "    yref=\"y\",\n",
    "    text=\"Crisis del 2001\",\n",
    "    showarrow=True,\n",
    "    arrowhead=2,\n",
    "    ax=20,\n",
    "    ay=-30\n",
    ")\n",
    "\n",
    "fig2.add_annotation(\n",
    "    x=2600,\n",
    "    y=55,\n",
    "    xref=\"x\",\n",
    "    yref=\"y\",\n",
    "    text=\"Crisis del 2001\",\n",
    "    showarrow=True,\n",
    "    arrowhead=2,\n",
    "    ax=20,\n",
    "    ay=-30\n",
    ")\n",
    "\n",
    "fig2.add_annotation(\n",
    "    x=8600,\n",
    "    y=45,\n",
    "    xref=\"x\",\n",
    "    yref=\"y\",\n",
    "    text=\"Pandemia\",\n",
    "    showarrow=True,\n",
    "    arrowhead=2,\n",
    "    ax=20,\n",
    "    ay=-30\n",
    ")\n",
    "\n",
    "# Mostrar gráficos\n",
    "fig1.show()\n",
    "fig2.show()"
   ]
  },
  {
   "cell_type": "markdown",
   "metadata": {},
   "source": [
    "Eventos de crisis tienen un impacto fuerte y duradero en la pobreza. Tanto la crisis del 2001 como la pandemia muestran un fuerte aumento de la pobreza con caídas del PIB. Aunque un PIB más alto generalmente se asocia con menos pobreza, hay crisis donde la pobresa sube incluso con un PIB elevado. (la relació no es completamente lineal)"
   ]
  },
  {
   "cell_type": "markdown",
   "metadata": {},
   "source": [
    "# Conclusiones"
   ]
  },
  {
   "cell_type": "markdown",
   "metadata": {},
   "source": [
    "El análisis muestra que Argentina viene aumentando su población total, pero con una mayor proporción de personas dependientes. Si esta tendencia sigue, habrá menos personas en edad de trabajar, lo que podría afectar la productividad y la sostenibilidad económica.\n",
    "\n",
    "El mercado laboral no siempre responde de forma predecible. Aunque se esperaría que mayor participación signifique menor desempleo, el gráfico muestra que no siempre es así. En algunos períodos, la oferta laboral creció más rápido de lo que la economía pudo absorber.\n",
    "\n",
    "Las crisis (2001-2002, 2020) generaron picos de pobreza y caída del PIB. La relación entre PIB y pobreza no es completamente lineal, pero en general, cuando el PIB baja, la pobreza sube. También se nota que un PIB per cápita más alto tiende a estar asociado con mayor esperanza de vida, aunque hay excepciones donde esta última crece incluso con un PIB menor.\n",
    "\n",
    "Los datos no solo muestran números, sino historias de crisis, recuperación y cambio. Argentina ha pasado por momentos duros, donde la economía golpeó fuerte a la población, no obstante también ha mostrado capacidad de recuperación. Sin embargo, el crecimiento no siempre ha sido equitativo y la desigualdad sigue siendo un desafío. :)"
   ]
  }
 ],
 "metadata": {
  "kernelspec": {
   "display_name": "Python 3",
   "language": "python",
   "name": "python3"
  },
  "language_info": {
   "codemirror_mode": {
    "name": "ipython",
    "version": 3
   },
   "file_extension": ".py",
   "mimetype": "text/x-python",
   "name": "python",
   "nbconvert_exporter": "python",
   "pygments_lexer": "ipython3",
   "version": "3.12.2"
  }
 },
 "nbformat": 4,
 "nbformat_minor": 2
}
