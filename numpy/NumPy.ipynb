{
 "cells": [
  {
   "cell_type": "code",
   "execution_count": 10,
   "metadata": {},
   "outputs": [
    {
     "name": "stdout",
     "output_type": "stream",
     "text": [
      "[[ 1.  3.  5.  7.  9. 11. 13. 15. 17. 19. 21. 23. 25. 27. 29. 31. 33. 35.\n",
      "  37. 39. 41. 43. 45. 47. 49. 51. 53. 55. 57. 59. 61. 63. 65. 67. 69. 71.\n",
      "  73. 75. 77. 79. 81. 83. 85. 87. 89. 91. 93. 95. 97. 99.]\n",
      " [ 3.  3.  3.  3.  3.  3.  3.  3.  3.  3.  3.  3.  3.  3.  3.  3.  3.  3.\n",
      "   3.  3.  3.  3.  3.  3.  3.  3.  3.  3.  3.  3.  3.  3.  3.  3.  3.  3.\n",
      "   3.  3.  3.  3.  3.  3.  3.  3.  3.  3.  3.  3.  3.  3.]]\n"
     ]
    }
   ],
   "source": [
    "import numpy as np\n",
    "import matplotlib.pyplot as plt\n",
    "\n",
    "# Creación de un array bidimensional con valores impares del 1 al 100 y números 3\n",
    "array1 = np.arange(1,100,2) # Números entre el 1 y el 100 con un salto de 2 (1,3,5...)\n",
    "arrayOnes = np.ones(50) * 3 # Array de unos donde cada elemento es multiplicado por 3\n",
    "array2D = np.array([array1,arrayOnes]) \n",
    "\n",
    "print (array2D)\n"
   ]
  },
  {
   "cell_type": "code",
   "execution_count": 31,
   "metadata": {},
   "outputs": [
    {
     "name": "stdout",
     "output_type": "stream",
     "text": [
      "Media: 50.0\n",
      "Mediana: 50.0\n",
      "Desviación Estandar: 28.861739379323623\n",
      "\n",
      "Media: 50.0\n",
      "Mediana: 50.0\n",
      "Desviación Estandar: 28.861739379323623\n"
     ]
    }
   ],
   "source": [
    "# Calculando media, mediana y desviación estandar\n",
    "\n",
    "# Usando funciones integradas de NumPy\n",
    "media = np.mean(array1)\n",
    "mediana = np.median(array1)\n",
    "dEstandar = np.std(array1)\n",
    "\n",
    "# Forma 2\n",
    "\n",
    "def Media(arr):\n",
    "    return sum(arr) / len(arr)\n",
    "\n",
    "def Mediana(arr):\n",
    "    arrOrd = sorted(arr)\n",
    "    long =  len(arrOrd)\n",
    "    mit = long // 2\n",
    "    \n",
    "    if long % 2 == 0:\n",
    "        return (arrOrd[mit - 1] + arrOrd[mit]) / 2\n",
    "    else:\n",
    "        return arrOrd[mit]\n",
    "\n",
    "def desviacionEstandar(arr):\n",
    "    med = Media(arr)\n",
    "    varianza = sum((i - media) ** 2 for i in arr) / len(arr)\n",
    "    return np.sqrt(varianza)\n",
    "\n",
    "print(f\"Media: {media}\\nMediana: {mediana}\\nDesviación Estandar: {dEstandar}\\n\")\n",
    "print(f\"Media: {Media(array1)}\\nMediana: {Mediana(array1)}\\nDesviación Estandar: {desviacionEstandar(array1)}\")\n"
   ]
  },
  {
   "cell_type": "code",
   "execution_count": 20,
   "metadata": {},
   "outputs": [
    {
     "name": "stdout",
     "output_type": "stream",
     "text": [
      "[20 14  0 29 10 20 33 32 18 14 31 20  2 37  5 39 36 29 29 21  8 23 39 36\n",
      " 14  1  9 29  9  7 31  9 13  4 22 31  8  9 13 15 16 18 32 35 17 29 19  4\n",
      " 12 32 39 17 16 23  3 20 26 35 38 41 33 11  3 36 17 36 34 34 34  7  3 19\n",
      "  0 35 22 38 13 38 27 21 18 38 30 41 41 27 34 13 25 39  7  7 21  6 40 36]\n"
     ]
    }
   ],
   "source": [
    "#Creación de array de 96 valores aleatorios entre el 0 y el 42 en una sola linea de código.\n",
    "# Usamos la función random para generar valores aleatorios entre el 0 y el 42, iniciamos un bucle que ejecutara esa función 96 veces.\n",
    "array = np.array([np.random.randint(0,42) for x in range(96)]) \n",
    "print(array)\n"
   ]
  },
  {
   "cell_type": "code",
   "execution_count": 57,
   "metadata": {},
   "outputs": [
    {
     "name": "stdout",
     "output_type": "stream",
     "text": [
      "[[2 3 4]\n",
      " [4 9 3]\n",
      " [7 5 1]]\n",
      "[[1.41421356 1.73205081 2.        ]\n",
      " [2.         3.         1.73205081]\n",
      " [2.64575131 2.23606798 1.        ]]\n",
      "[[2 3]\n",
      " [4 9]\n",
      " [7 5]]\n"
     ]
    }
   ],
   "source": [
    "# Creación de una Matriz Cuadrada de 3x3 con valores aleatorios entre 0 y 9.  \n",
    "matrizCuadrada = np.random.randint(1,10, size=(3,3))\n",
    "print(matrizCuadrada)\n",
    "\n",
    "# Calculando la raíz de cada elemento de la Matriz Cuadrada\n",
    "mR = np.sqrt(matrizCuadrada)\n",
    "print(mR)\n",
    "print(matrizCuadrada[:,:2]) # Mostrando solo las primeras 2 columnas."
   ]
  },
  {
   "cell_type": "code",
   "execution_count": 29,
   "metadata": {},
   "outputs": [
    {
     "name": "stdout",
     "output_type": "stream",
     "text": [
      "[ 2  3  5  7 11 13 17 19 23 29]\n"
     ]
    }
   ],
   "source": [
    "# Creación de una función para verificar si un número es primo o no\n",
    "def esPrimo(n): \n",
    "    if n < 2: \n",
    "        return False\n",
    "    for i in range(2, int(np.sqrt(n)) + 1):\n",
    "        if n % i == 0:\n",
    "            return False\n",
    "    return True\n",
    "\n",
    "# Creación del array de números primos. Seleccionamos solo los primeros 10 elementos .\n",
    "numerosPrimos = np.array([num for num in range(2, 30) if esPrimo(num)][:10])\n",
    "print(numerosPrimos)\n"
   ]
  },
  {
   "cell_type": "code",
   "execution_count": 59,
   "metadata": {},
   "outputs": [
    {
     "name": "stdout",
     "output_type": "stream",
     "text": [
      "[[10.  0.  0.  0.  0.]\n",
      " [ 0. 10.  0.  0.  0.]\n",
      " [ 0.  0. 10.  0.  0.]\n",
      " [ 0.  0.  0. 10.  0.]\n",
      " [ 0.  0.  0.  0. 10.]]\n"
     ]
    }
   ],
   "source": [
    "# Creación de una Matriz de Identidad con el valor 10 en la diagonal principal\n",
    "matrizIdentidad = np.eye(5) * 10\n",
    "\n",
    "print(matrizIdentidad)"
   ]
  },
  {
   "cell_type": "code",
   "execution_count": 66,
   "metadata": {},
   "outputs": [
    {
     "name": "stdout",
     "output_type": "stream",
     "text": [
      "[[16 16  9]\n",
      " [15 16  7]]\n",
      "[[13  6 10]\n",
      " [16 10 19]]\n"
     ]
    }
   ],
   "source": [
    "# Creación de Array de 2 dimensiones con 3 valores aleatorios en cada dimensión.\n",
    "\n",
    "# Forma 1\n",
    "array2D = np.array([[np.random.randint(1,20) for i in range(3)] for x in range(2)])\n",
    "print(array2D)\n",
    "\n",
    "# Forma 2 (más optima)\n",
    "array2 = np.random.randint(1, 20, size=(2, 3))\n",
    "print(array2)"
   ]
  },
  {
   "cell_type": "code",
   "execution_count": 69,
   "metadata": {},
   "outputs": [
    {
     "name": "stdout",
     "output_type": "stream",
     "text": [
      "[ 0  2  4  6  8 10 12 14 16 18]\n",
      "[[ 0  2  4  6  8]\n",
      " [10 12 14 16 18]]\n"
     ]
    }
   ],
   "source": [
    "# Creación de un Array con valores entre 0-20 con un salto de 2 y redimensión del mismo.\n",
    "arrayAr = np.arange(0,20,2)\n",
    "arrayRedimensionado = arrayAr.reshape((2,5)) # Array de 2 dimensiones con 5 elementos en cada dimensión\n",
    "\n",
    "print(arrayAr)\n",
    "print(arrayRedimensionado)"
   ]
  },
  {
   "cell_type": "code",
   "execution_count": 9,
   "metadata": {},
   "outputs": [
    {
     "data": {
      "text/plain": [
       "array([[[1., 1., 1., 1.],\n",
       "        [1., 1., 1., 1.]],\n",
       "\n",
       "       [[1., 1., 1., 1.],\n",
       "        [1., 1., 1., 1.]]])"
      ]
     },
     "execution_count": 9,
     "metadata": {},
     "output_type": "execute_result"
    }
   ],
   "source": [
    "# Array de 5 elementos entre 0 y 1\n",
    "arrayLns = np.linspace(0,1,5)\n",
    "\n",
    "# Array de 15 elementos entre 1 y 10\n",
    "arrayLns2 = np.linspace(1,10,15)\n",
    "\n",
    "#Array de ceros de 3 dimensiones con 4 elementos \n",
    "array_zeros= np.zeros((3,4))\n",
    "\n",
    "# Array de unos tridimensional\n",
    "array_unos = np.ones((2,2,4))\n",
    "\n",
    "array_unos"
   ]
  },
  {
   "cell_type": "code",
   "execution_count": 27,
   "metadata": {},
   "outputs": [
    {
     "data": {
      "text/plain": [
       "<function matplotlib.pyplot.show(close=None, block=None)>"
      ]
     },
     "execution_count": 27,
     "metadata": {},
     "output_type": "execute_result"
    },
    {
     "data": {
      "image/png": "[encoded data removed]",
      "text/plain": [
       "<Figure size 1000x500 with 1 Axes>"
      ]
     },
     "metadata": {},
     "output_type": "display_data"
    }
   ],
   "source": [
    "#Array de angulos radianes y los valores del seno de sus angulos.\n",
    "angulosRadianes = np.array([0, np.pi/4, np.pi/2, 3*np.pi/4, np.pi])\n",
    "arraySeno = np.sin(angulosRadianes)\n",
    "\n",
    "# Gráficamos \n",
    "plt.figure(figsize=(10,5))\n",
    "plt.plot(angulosRadianes, arraySeno, marker=\"o\", color=\"b\")\n",
    "plt.grid(True)\n",
    "plt.show"
   ]
  }
 ],
 "metadata": {
  "kernelspec": {
   "display_name": "Python 3",
   "language": "python",
   "name": "python3"
  },
  "language_info": {
   "codemirror_mode": {
    "name": "ipython",
    "version": 3
   },
   "file_extension": ".py",
   "mimetype": "text/x-python",
   "name": "python",
   "nbconvert_exporter": "python",
   "pygments_lexer": "ipython3",
   "version": "3.12.1"
  }
 },
 "nbformat": 4,
 "nbformat_minor": 2
}
